{
 "cells": [
  {
   "cell_type": "markdown",
   "metadata": {},
   "source": [
    "# Limpeza dos dados no dataset Titanic"
   ]
  },
  {
   "cell_type": "markdown",
   "metadata": {},
   "source": [
    "## Importando as bibliotecas necessárias"
   ]
  },
  {
   "cell_type": "code",
   "execution_count": null,
   "metadata": {},
   "outputs": [],
   "source": [
    "from matplotlib import pyplot as plt\n",
    "from sklearn.utils import resample\n",
    "import seaborn as sns\n",
    "import pandas as pd\n",
    "import numpy as np"
   ]
  },
  {
   "cell_type": "markdown",
   "metadata": {},
   "source": [
    "## Link para o dataset principal"
   ]
  },
  {
   "cell_type": "markdown",
   "metadata": {},
   "source": [
    "[Dataset principal - main.ipynb](./main.ipynb)"
   ]
  },
  {
   "cell_type": "markdown",
   "metadata": {},
   "source": [
    "## Importando o Dataset"
   ]
  },
  {
   "cell_type": "code",
   "execution_count": null,
   "metadata": {},
   "outputs": [],
   "source": [
    "df_titanic_raw = pd.read_csv(\"./databases/raw/titanic.csv\", sep = \",\", index_col = \"PassengerId\")"
   ]
  },
  {
   "cell_type": "markdown",
   "metadata": {},
   "source": [
    "## Breve apresentacao do dataset"
   ]
  },
  {
   "cell_type": "code",
   "execution_count": null,
   "metadata": {},
   "outputs": [],
   "source": [
    "df_titanic_raw.sample(10)"
   ]
  },
  {
   "cell_type": "code",
   "execution_count": null,
   "metadata": {},
   "outputs": [],
   "source": [
    "df_titanic_raw.info()"
   ]
  },
  {
   "cell_type": "markdown",
   "metadata": {},
   "source": [
    "No dataset Titanic, podemos ver que há dados faltantes em diversas colunas.\n",
    "\n",
    "Será realizado um análise e um possível limpeza nesses dados."
   ]
  },
  {
   "cell_type": "markdown",
   "metadata": {},
   "source": [
    "## Limpeza dos dados no dataset Titanic"
   ]
  },
  {
   "cell_type": "code",
   "execution_count": null,
   "metadata": {},
   "outputs": [],
   "source": [
    "df_titanic_raw.isna().sum()"
   ]
  },
  {
   "cell_type": "markdown",
   "metadata": {},
   "source": [
    "### Verificando colunas problemáticas"
   ]
  },
  {
   "cell_type": "code",
   "execution_count": null,
   "metadata": {},
   "outputs": [],
   "source": [
    "print(df_titanic_raw[\"Age\"].head(10))\n",
    "print(df_titanic_raw[\"Cabin\"].head(10))\n",
    "print(df_titanic_raw[\"Embarked\"].head(10))"
   ]
  },
  {
   "cell_type": "markdown",
   "metadata": {},
   "source": [
    "Foi após análise visual, foi decidido:\n",
    "- deletar a coluna \"Cabin\";\n",
    "- preencher a coluna \"Embarked\";\n",
    "    - Utilizando a moda.\n",
    "- preenchar a coluna \"Age\".\n",
    "    - Utilizando a mediana."
   ]
  },
  {
   "cell_type": "markdown",
   "metadata": {},
   "source": [
    "### Realizando mudanças no dataset"
   ]
  },
  {
   "cell_type": "code",
   "execution_count": null,
   "metadata": {},
   "outputs": [],
   "source": [
    "df_titanic_raw[\"Embarked\"].mode()"
   ]
  },
  {
   "cell_type": "code",
   "execution_count": null,
   "metadata": {},
   "outputs": [],
   "source": [
    "df_titanic_processed = df_titanic_raw.drop(columns = [\"Cabin\"], axis = \"columns\")\n",
    "df_titanic_processed[\"Age\"] = df_titanic_processed[\"Age\"].fillna(df_titanic_processed[\"Age\"].median())\n",
    "df_titanic_processed[\"Embarked\"] = df_titanic_processed[\"Embarked\"].fillna(\"S\")\n",
    "df_titanic_processed.isna().sum()"
   ]
  },
  {
   "cell_type": "markdown",
   "metadata": {},
   "source": [
    "### Descartando colunas vistas como inúteis para a análise dos dados"
   ]
  },
  {
   "cell_type": "code",
   "execution_count": null,
   "metadata": {},
   "outputs": [],
   "source": [
    "colunas_para_descartar = [\n",
    "    \"Parch\",\n",
    "    \"Ticket\"\n",
    "]"
   ]
  },
  {
   "cell_type": "code",
   "execution_count": null,
   "metadata": {},
   "outputs": [],
   "source": [
    "df_titanic_processed.drop(columns = colunas_para_descartar, axis = \"column\", inplace = True)"
   ]
  },
  {
   "cell_type": "markdown",
   "metadata": {},
   "source": [
    "### Mudanças nos tipos do dado do dataset Titanic"
   ]
  },
  {
   "cell_type": "code",
   "execution_count": null,
   "metadata": {},
   "outputs": [],
   "source": [
    "df_titanic_processed.info()"
   ]
  },
  {
   "cell_type": "markdown",
   "metadata": {},
   "source": [
    "As colunas:\n",
    "- Survived;\n",
    "- Pclass;\n",
    "- Sex;\n",
    "- Embarked.\n",
    "\n",
    "Serão classificadas como tipo \"categórico\"(category).\n",
    "\n",
    "As colunas:\n",
    "- SibSp;\n",
    "- Age.\n",
    "\n",
    "Serão classificadas como tipo \"inteiro\"(uint8).\n",
    "\n",
    "A coluna \"Fare\" será classificada como tipo ponto flutuante (float32).\n",
    "\n",
    "A coluna \"Name\" será classificada como tipo alfanumérico (str)."
   ]
  },
  {
   "cell_type": "code",
   "execution_count": null,
   "metadata": {},
   "outputs": [],
   "source": [
    "df_titanic_processed[\"Survived\"]    = df_titanic_processed[\"Survived\"].astype(\"category\")\n",
    "df_titanic_processed[\"Pclass\"]      = df_titanic_processed[\"Pclass\"].astype(\"category\")\n",
    "df_titanic_processed[\"Name\"]        = df_titanic_processed[\"Name\"].astype(\"string\")\n",
    "df_titanic_processed[\"Sex\"]         = df_titanic_processed[\"Sex\"].astype(\"category\")\n",
    "df_titanic_processed[\"Age\"]         = df_titanic_processed[\"Age\"].astype(\"uint8\")\n",
    "df_titanic_processed[\"SibSp\"]       = df_titanic_processed[\"SibSp\"].astype(\"uint8\")\n",
    "df_titanic_processed[\"Fare\"]        = df_titanic_processed[\"Fare\"].astype(\"float32\")\n",
    "df_titanic_processed[\"Embarked\"]    = df_titanic_processed[\"Embarked\"].astype(\"category\")"
   ]
  },
  {
   "cell_type": "markdown",
   "metadata": {},
   "source": [
    "#### Verificando mudança"
   ]
  },
  {
   "cell_type": "code",
   "execution_count": null,
   "metadata": {},
   "outputs": [],
   "source": [
    "df_titanic_processed.info()"
   ]
  },
  {
   "cell_type": "markdown",
   "metadata": {},
   "source": [
    "### Mudanças no valores da coluna \"Sex\""
   ]
  },
  {
   "cell_type": "code",
   "execution_count": null,
   "metadata": {},
   "outputs": [],
   "source": [
    "df_titanic_processed[\"Sex\"].unique()"
   ]
  },
  {
   "cell_type": "markdown",
   "metadata": {},
   "source": [
    "Para melhor manipulação do dataset, foi escolhido manter os dados categóricos seguindo a\n",
    "convenção de números inteiros, pequenos e positivos, como é possível notar nas colunas\n",
    "\"Survived\" e \"Pclass\".\n",
    "\n",
    "Portanto será realizado uma manipulação dos dados, de forma que:\n",
    "- ` female ` será substituido pelo número ` 0 `;\n",
    "- ` male ` será substituido pelo número ` 1 `."
   ]
  },
  {
   "cell_type": "code",
   "execution_count": null,
   "metadata": {},
   "outputs": [],
   "source": [
    "novos_valores_Sex = {\n",
    "    \"female\": 0,\n",
    "    \"male\": 1\n",
    "}"
   ]
  },
  {
   "cell_type": "code",
   "execution_count": null,
   "metadata": {},
   "outputs": [],
   "source": [
    "df_titanic_processed[\"Sex\"] = df_titanic_processed[\"Sex\"].map(novos_valores_Sex)\n",
    "df_titanic_processed[\"Sex\"].unique()"
   ]
  },
  {
   "cell_type": "markdown",
   "metadata": {},
   "source": [
    "### Mudanças no valores da coluna \"Embarked\""
   ]
  },
  {
   "cell_type": "code",
   "execution_count": null,
   "metadata": {},
   "outputs": [],
   "source": [
    "df_titanic_processed[\"Embarked\"].unique()"
   ]
  },
  {
   "cell_type": "markdown",
   "metadata": {},
   "source": [
    "Para melhor manipulação do dataset, foi escolhido manter os dados categóricos seguindo a\n",
    "convenção de números inteiros, pequenos e positivos, como é possível notar nas colunas\n",
    "\"Sex\", \"Survived\" e \"Pclass\".\n",
    "\n",
    "Portanto será realizado uma manipulação dos dados, de forma que:\n",
    "- ` C ` será substituido pelo número ` 0 `;\n",
    "- ` Q ` será substituido pelo número ` 1 `;\n",
    "- ` S ` será substituido pelo número ` 2 `."
   ]
  },
  {
   "cell_type": "code",
   "execution_count": null,
   "metadata": {},
   "outputs": [],
   "source": [
    "novos_valores_Embarked = {\n",
    "    \"C\": 0,\n",
    "    \"Q\": 1,\n",
    "    \"S\": 2\n",
    "}"
   ]
  },
  {
   "cell_type": "code",
   "execution_count": null,
   "metadata": {},
   "outputs": [],
   "source": [
    "df_titanic_processed[\"Embarked\"] = df_titanic_processed[\"Embarked\"].map(novos_valores_Embarked)\n",
    "df_titanic_processed[\"Embarked\"].unique()"
   ]
  },
  {
   "cell_type": "markdown",
   "metadata": {},
   "source": [
    "### Verificando se os dados da coluna \"Pclass\" estão balanceados"
   ]
  },
  {
   "cell_type": "code",
   "execution_count": null,
   "metadata": {},
   "outputs": [],
   "source": [
    "df_titanic_processed[\"Pclass\"].value_counts()"
   ]
  },
  {
   "cell_type": "markdown",
   "metadata": {},
   "source": [
    "Como podemos ver acima, os dados estão muito desbalanceados.\n",
    "\n",
    "Para uma melhor análise, será preciso reabalancear os dados, ou para mais ou para menos.\n",
    "Se balancearmos para menos, perderemos uma quantidade enorme de dados, então foi escolhido balancear para mais."
   ]
  },
  {
   "cell_type": "markdown",
   "metadata": {},
   "source": [
    "#### Gerando vários datasets para balancear os dados"
   ]
  },
  {
   "cell_type": "markdown",
   "metadata": {},
   "source": [
    "##### Hiper parametros"
   ]
  },
  {
   "cell_type": "code",
   "execution_count": null,
   "metadata": {},
   "outputs": [],
   "source": [
    "tamanho_das_classes = df_titanic_processed[df_titanic_processed[\"Pclass\"] == 3].shape[0]\n",
    "semente_randomica = 42"
   ]
  },
  {
   "cell_type": "markdown",
   "metadata": {},
   "source": [
    "##### Realizando a criação"
   ]
  },
  {
   "cell_type": "code",
   "execution_count": null,
   "metadata": {},
   "outputs": [],
   "source": [
    "df_Pclass_1 = df_titanic_processed[df_titanic_processed[\"Pclass\"] == 1]\n",
    "df_Pclass_2 = df_titanic_processed[df_titanic_processed[\"Pclass\"] == 2]\n",
    "df_Pclass_3 = df_titanic_processed[df_titanic_processed[\"Pclass\"] == 3]"
   ]
  },
  {
   "cell_type": "markdown",
   "metadata": {},
   "source": [
    "##### Realizando a balanceamento"
   ]
  },
  {
   "cell_type": "code",
   "execution_count": null,
   "metadata": {},
   "outputs": [],
   "source": [
    "df_Pclass_1 = resample(df_Pclass_1,\n",
    "                       replace = True,\n",
    "                       n_samples = tamanho_das_classes,\n",
    "                       random_state = semente_randomica)\n",
    "df_Pclass_2 = resample(df_Pclass_2,\n",
    "                       replace = True,\n",
    "                       n_samples = tamanho_das_classes,\n",
    "                       random_state = semente_randomica)"
   ]
  },
  {
   "cell_type": "markdown",
   "metadata": {},
   "source": [
    "#### Unindo os datasets em um só"
   ]
  },
  {
   "cell_type": "code",
   "execution_count": null,
   "metadata": {},
   "outputs": [],
   "source": [
    "df_titanic_processed_balanceado = pd.concat([df_Pclass_3, df_Pclass_1, df_Pclass_2])\n",
    "df_titanic_processed_balanceado[\"Pclass\"].value_counts()"
   ]
  },
  {
   "cell_type": "markdown",
   "metadata": {},
   "source": [
    "## Salvando o dataset tratado em um pickle (.pkl)"
   ]
  },
  {
   "cell_type": "code",
   "execution_count": null,
   "metadata": {},
   "outputs": [],
   "source": [
    "df_titanic_processed_balanceado.to_pickle(\"./databases/processed/titatic_processado.pkl\")"
   ]
  }
 ],
 "metadata": {
  "kernelspec": {
   "display_name": ".petca-venv",
   "language": "python",
   "name": "python3"
  },
  "language_info": {
   "name": "python",
   "version": "3.12.3"
  }
 },
 "nbformat": 4,
 "nbformat_minor": 2
}
