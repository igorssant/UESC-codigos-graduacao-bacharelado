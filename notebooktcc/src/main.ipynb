{
 "cells": [
  {
   "cell_type": "markdown",
   "metadata": {},
   "source": [
    "# Projeto de TCC\n",
    "**Autor**: Igor Sousa dos Santos Santana\n",
    "\n",
    "**Data**: 2024-07-26"
   ]
  },
  {
   "cell_type": "markdown",
   "metadata": {},
   "source": [
    "## Índice"
   ]
  },
  {
   "cell_type": "markdown",
   "metadata": {},
   "source": [
    "- [Importando pacotes e Bibliotecas](#importando-pacotes-e-bibliotecas)\n",
    "- [Importando os Datasets](#importando-os-datasets)\n",
    "- [Breve Apresentação dos Datasets](#breve-apresentacao-dos-datasets)\n",
    "- [Breve Limpeza nos Datasets](./limpeza_dados.ipynb)\n",
    "- [Análise Exploratória de Dados](./analise_exploratoria.ipynb)\n",
    "- [Preparação dos parâmetros](#preparando-os-hiper-parâmetros)\n",
    "- [Algoritmo KMeans](#utilizando-o-algoritmo-kmeans)\n",
    "- [Algoritmo MeanShift](#utilizando-o-algoritmo-meanshift)\n",
    "- [Algoritmo FuzzyCMeans](#usando-o-algoritmo-fuzzycmeans)\n",
    "- [Bibliografia](#bibliografia)"
   ]
  },
  {
   "cell_type": "markdown",
   "metadata": {},
   "source": [
    "## Importando pacotes e Bibliotecas"
   ]
  },
  {
   "cell_type": "code",
   "execution_count": null,
   "metadata": {},
   "outputs": [],
   "source": [
    "from sklearn.preprocessing import MinMaxScaler\n",
    "from sklearn.model_selection import train_test_split\n",
    "from sklearn.metrics import silhouette_score\n",
    "from matplotlib import pyplot as plt\n",
    "from models import kmeans, meanshift\n",
    "from fcmeans import FCM\n",
    "import seaborn as sns\n",
    "import pandas as pd\n",
    "import numpy as np"
   ]
  },
  {
   "cell_type": "markdown",
   "metadata": {},
   "source": [
    "## Importando os Datasets"
   ]
  },
  {
   "cell_type": "code",
   "execution_count": null,
   "metadata": {},
   "outputs": [],
   "source": [
    "df_iris_raw = pd.read_csv(\"./databases/raw/Iris.csv\", sep = \",\", index_col = \"Id\")\n",
    "df_titanic_processed = pd.read_pickle(\"./databases/processed/titanic_processado.pkl\")\n",
    "df_coracao_processed = pd.read_pickle(\"./databases/processed/coracao_processado.pkl\")"
   ]
  },
  {
   "cell_type": "markdown",
   "metadata": {},
   "source": [
    "## Breve apresentacao dos datasets"
   ]
  },
  {
   "cell_type": "code",
   "execution_count": null,
   "metadata": {},
   "outputs": [],
   "source": [
    "df_iris_raw.sample(10)"
   ]
  },
  {
   "cell_type": "code",
   "execution_count": null,
   "metadata": {},
   "outputs": [],
   "source": [
    "df_titanic_processed.sample(10)"
   ]
  },
  {
   "cell_type": "code",
   "execution_count": null,
   "metadata": {},
   "outputs": [],
   "source": [
    "df_coracao_processed.sample(10)"
   ]
  },
  {
   "cell_type": "code",
   "execution_count": null,
   "metadata": {},
   "outputs": [],
   "source": [
    "df_iris_raw.info()"
   ]
  },
  {
   "cell_type": "code",
   "execution_count": null,
   "metadata": {},
   "outputs": [],
   "source": [
    "df_titanic_processed.info()"
   ]
  },
  {
   "cell_type": "code",
   "execution_count": null,
   "metadata": {},
   "outputs": [],
   "source": [
    "df_coracao_processed.info()"
   ]
  },
  {
   "cell_type": "markdown",
   "metadata": {},
   "source": [
    "## Preparando os hiper parâmetros"
   ]
  },
  {
   "cell_type": "code",
   "execution_count": null,
   "metadata": {},
   "outputs": [],
   "source": [
    "X_iris = df_iris_raw.drop(columns = [\"Species\"]).values\n",
    "y_iris = df_iris_raw[\"Species\"]\n",
    "\n",
    "min_max_scaler = MinMaxScaler()\n",
    "X_titanic = min_max_scaler.fit_transform(df_titanic_processed.drop(columns = [\"Pclass\", \"Name\"]).values)\n",
    "y_titanic = df_titanic_processed[\"Pclass\"]"
   ]
  },
  {
   "cell_type": "code",
   "execution_count": null,
   "metadata": {},
   "outputs": [],
   "source": [
    "nro_max_iteracoes = 300\n",
    "nro_iteracoes_inicial = 10\n",
    "semente_randomica = 42\n",
    "parametro_fuzzy = 2"
   ]
  },
  {
   "cell_type": "markdown",
   "metadata": {},
   "source": [
    "## Utilizando o algoritmo Kmeans"
   ]
  },
  {
   "cell_type": "code",
   "execution_count": null,
   "metadata": {},
   "outputs": [],
   "source": [
    "soma_dos_quadrados_iris = []\n",
    "soma_dos_quadrados_titanic = []\n",
    "\n",
    "for i in range (1, 14):\n",
    "    kmeans = KMeans(n_clusters = i,\n",
    "                    init = \"k-means++\",\n",
    "                    max_iter = nro_max_iteracoes,\n",
    "                    n_init = nro_iteracoes_inicial,\n",
    "                    random_state = semente_randomica)\n",
    "    kmeans.fit(X_iris)\n",
    "    soma_dos_quadrados_iris.append(kmeans.inertia_)\n",
    "    \n",
    "    kmeans = KMeans(n_clusters = i,\n",
    "                    init = \"k-means++\",\n",
    "                    max_iter = nro_max_iteracoes,\n",
    "                    n_init = nro_iteracoes_inicial,\n",
    "                    random_state = semente_randomica)\n",
    "    kmeans.fit(X_titanic)\n",
    "    soma_dos_quadrados_titanic.append(kmeans.inertia_)"
   ]
  },
  {
   "cell_type": "markdown",
   "metadata": {},
   "source": [
    "### Imprimindo o resultado dos testes"
   ]
  },
  {
   "cell_type": "code",
   "execution_count": null,
   "metadata": {},
   "outputs": [],
   "source": [
    "figura, eixos = plt.subplots(1, 2, figsize = (18, 5))\n",
    "\n",
    "plt.suptitle(\"Método do joelho\")\n",
    "plt.xlabel(\"Número de clusters\")\n",
    "plt.ylabel(\"Soma dos Quadrados Internos ao Clusters\")\n",
    "\n",
    "eixos[0].plot(range(1, 14), soma_dos_quadrados_iris, color = \"red\")\n",
    "eixos[1].plot(range(1, 14), soma_dos_quadrados_titanic, color = \"blue\")\n",
    "\n",
    "plt.show()"
   ]
  },
  {
   "cell_type": "markdown",
   "metadata": {},
   "source": [
    "No caso acima, o resultado a partir do número 3 decai muito, portanto o número de clusters escolhido é:\n",
    "- `3` para o dataset `Iris`;\n",
    "- `3` para o dataset `Titanic`."
   ]
  },
  {
   "cell_type": "markdown",
   "metadata": {},
   "source": [
    "### Implementando a clusterização"
   ]
  },
  {
   "cell_type": "markdown",
   "metadata": {},
   "source": [
    "#### Dataset Iris"
   ]
  },
  {
   "cell_type": "code",
   "execution_count": null,
   "metadata": {},
   "outputs": [],
   "source": [
    "kmeans_iris = KMeans(n_clusters = 3,\n",
    "                    init = \"k-means++\",\n",
    "                    max_iter = nro_max_iteracoes,\n",
    "                    n_init = nro_iteracoes_inicial,\n",
    "                    random_state = semente_randomica)\n",
    "y_kmeans_iris = kmeans_iris.fit_predict(X_iris)"
   ]
  },
  {
   "cell_type": "markdown",
   "metadata": {},
   "source": [
    "#### Dataset Titanic"
   ]
  },
  {
   "cell_type": "code",
   "execution_count": null,
   "metadata": {},
   "outputs": [],
   "source": [
    "kmeans_titanic = KMeans(n_clusters = 3,\n",
    "                        init = \"k-means++\",\n",
    "                        max_iter = nro_max_iteracoes,\n",
    "                        n_init = nro_iteracoes_inicial,\n",
    "                        random_state = semente_randomica)\n",
    "y_kmeans_titanic = kmeans_titanic.fit_predict(X_titanic)"
   ]
  },
  {
   "cell_type": "markdown",
   "metadata": {},
   "source": [
    "##### Visualizando os clusters"
   ]
  },
  {
   "cell_type": "markdown",
   "metadata": {},
   "source": [
    "###### De forma 2D"
   ]
  },
  {
   "cell_type": "code",
   "execution_count": null,
   "metadata": {},
   "outputs": [],
   "source": [
    "plt.figure(figsize = (12, 8))\n",
    "\n",
    "### OS PONTOS GERAIS\n",
    "plt.scatter(X_iris[y_kmeans_iris == 0, 0], X_iris[y_kmeans_iris == 0, 1], s = 100, c = \"red\", label = \"Iris-setosa\")\n",
    "plt.scatter(X_iris[y_kmeans_iris == 1, 0], X_iris[y_kmeans_iris == 1, 1], s = 100, c = \"green\", label = \"Iris-versicolour\")\n",
    "plt.scatter(X_iris[y_kmeans_iris == 2, 0], X_iris[y_kmeans_iris == 2, 1], s = 100, c = \"blue\", label = \"Iris-virginica\")\n",
    "\n",
    "### OS CENTROIDES\n",
    "plt.scatter(kmeans_iris.cluster_centers_[:, 0], kmeans_iris.cluster_centers_[:, 1], s = 100, c = \"black\", label = \"Centroides\")\n",
    "\n",
    "plt.legend()\n",
    "plt.show()"
   ]
  },
  {
   "cell_type": "code",
   "execution_count": null,
   "metadata": {},
   "outputs": [],
   "source": [
    "plt.figure(figsize = (12, 8))\n",
    "\n",
    "### OS PONTOS GERAIS\n",
    "plt.scatter(X_titanic[y_kmeans_titanic == 0, 0], X_titanic[y_kmeans_titanic == 0, 1], s = 100, c = \"red\", label = \"Age\")\n",
    "plt.scatter(X_titanic[y_kmeans_titanic == 1, 0], X_titanic[y_kmeans_titanic == 1, 1], s = 100, c = \"green\", label = \"Fare\")\n",
    "plt.scatter(X_titanic[y_kmeans_titanic == 2, 0], X_titanic[y_kmeans_titanic == 2, 1], s = 100, c = \"blue\", label = \"SibSp\")\n",
    "\n",
    "### OS CENTROIDES\n",
    "plt.scatter(kmeans_titanic.cluster_centers_[:, 0], kmeans_titanic.cluster_centers_[:, 1], s = 100, c = \"black\", label = \"Centroides\")\n",
    "\n",
    "plt.legend()\n",
    "plt.show()"
   ]
  },
  {
   "cell_type": "markdown",
   "metadata": {},
   "source": [
    "###### De forma 3D"
   ]
  },
  {
   "cell_type": "code",
   "execution_count": null,
   "metadata": {},
   "outputs": [],
   "source": [
    "figura = plt.figure(figsize = (12, 12))\n",
    "eixo = figura.add_subplot(111, projection = \"3d\")\n",
    "\n",
    "### OS PONTOS GERAIS\n",
    "plt.scatter(X_iris[y_kmeans_iris == 0, 0], X_iris[y_kmeans_iris == 0, 1], s = 100, c = \"red\", label = \"Iris-setosa\")\n",
    "plt.scatter(X_iris[y_kmeans_iris == 1, 0], X_iris[y_kmeans_iris == 1, 1], s = 100, c = \"green\", label = \"Iris-versicolour\")\n",
    "plt.scatter(X_iris[y_kmeans_iris == 2, 0], X_iris[y_kmeans_iris == 2, 1], s = 100, c = \"blue\", label = \"Iris-virginica\")\n",
    "\n",
    "### OS CENTROIDES\n",
    "plt.scatter(kmeans_iris.cluster_centers_[:, 0], kmeans_iris.cluster_centers_[:,1], s = 100, c = \"black\", label = \"Centroides\")\n",
    "\n",
    "plt.legend()\n",
    "plt.show()"
   ]
  },
  {
   "cell_type": "code",
   "execution_count": null,
   "metadata": {},
   "outputs": [],
   "source": [
    "figura = plt.figure(figsize = (12, 12))\n",
    "eixo = figura.add_subplot(111, projection = \"3d\")\n",
    "\n",
    "### OS PONTOS GERAIS\n",
    "plt.scatter(X_titanic[y_kmeans_titanic == 0, 0], X_titanic[y_kmeans_titanic == 0, 1], s = 100, c = \"red\", label = \"Iris-setosa\")\n",
    "plt.scatter(X_titanic[y_kmeans_titanic == 1, 0], X_titanic[y_kmeans_titanic == 1, 1], s = 100, c = \"green\", label = \"Iris-versicolour\")\n",
    "plt.scatter(X_titanic[y_kmeans_titanic == 2, 0], X_titanic[y_kmeans_titanic == 2, 1], s = 100, c = \"blue\", label = \"Iris-virginica\")\n",
    "\n",
    "### OS CENTROIDES\n",
    "plt.scatter(kmeans_titanic.cluster_centers_[:, 0], kmeans_titanic.cluster_centers_[:,1], s = 100, c = \"black\", label = \"Centroides\")\n",
    "\n",
    "plt.legend()\n",
    "plt.show()"
   ]
  },
  {
   "cell_type": "markdown",
   "metadata": {},
   "source": [
    "## Utilizando o algoritmo Meanshift"
   ]
  },
  {
   "cell_type": "code",
   "execution_count": null,
   "metadata": {},
   "outputs": [],
   "source": [
    "# IRIS\n",
    "meanShift_iris = MeanShift()\n",
    "meanShift_iris.fit(X_iris)\n",
    "\n",
    "labels_iris = meanShift_iris.labels_\n",
    "centros_iris = meanShift_iris.cluster_centers_\n",
    "###############################################\n",
    "\n",
    "###############################################\n",
    "# TITANIC\n",
    "meanShift_titanic = MeanShift()\n",
    "meanShift_titanic.fit(X_titanic)\n",
    "\n",
    "labels_titanic = meanShift_titanic.labels_\n",
    "centros_titanic = meanShift_titanic.cluster_centers_"
   ]
  },
  {
   "cell_type": "markdown",
   "metadata": {},
   "source": [
    "### Visualizando os Resultados"
   ]
  },
  {
   "cell_type": "code",
   "execution_count": null,
   "metadata": {},
   "outputs": [],
   "source": [
    "nro_de_clusters = len(np.unique(labels_iris))\n",
    "print(f\"Número estimado de clusters [iris] = {nro_de_clusters}\", end = \"\\n\")\n",
    "print(f\"Quantidade de labels = {len(centros_iris)}\", end = \"\\n\")\n",
    "\n",
    "nro_de_clusters = len(np.unique(labels_titanic))\n",
    "print(f\"Número estimado de clusters [titanic] = {nro_de_clusters}\", end = \"\\n\")\n",
    "print(f\"Quantidade de labels = {len(centros_titanic)}\", end = \"\\n\")"
   ]
  },
  {
   "cell_type": "markdown",
   "metadata": {},
   "source": [
    "### Visualizando os resultados de forma gráfica"
   ]
  },
  {
   "cell_type": "markdown",
   "metadata": {},
   "source": [
    "#### Dataset Iris"
   ]
  },
  {
   "cell_type": "code",
   "execution_count": null,
   "metadata": {},
   "outputs": [],
   "source": [
    "plt.figure(figsize = (12, 8))\n",
    "plt.scatter(X_iris[:, 0], X_iris[:, 1], c = labels_iris)\n",
    "plt.scatter(centros_iris[:, 0], centros_iris[:, 1], marker = \"x\", color = \"red\", s = 200)\n",
    "plt.xlabel(\"Largura da Sépala\")\n",
    "plt.ylabel(\"Grossura da Sépala\")\n",
    "plt.title(\"Algoritmo Mean-Shift no dataset Iris\")\n",
    "plt.show()"
   ]
  },
  {
   "cell_type": "markdown",
   "metadata": {},
   "source": [
    "#### Dataset Titanic"
   ]
  },
  {
   "cell_type": "code",
   "execution_count": null,
   "metadata": {},
   "outputs": [],
   "source": [
    "plt.figure(figsize = (12, 8))\n",
    "plt.scatter(X_titanic[:, 0], X_titanic[:, 1], c = labels_titanic)\n",
    "plt.scatter(centros_titanic[:, 0], centros_titanic[:, 1], marker = \"x\", color = \"red\", s = 200)\n",
    "plt.title(\"Algoritmo Mean-Shift no dataset Titanic\")\n",
    "plt.show()"
   ]
  },
  {
   "cell_type": "markdown",
   "metadata": {},
   "source": [
    "## Usando o algoritmo FuzzyCMeans"
   ]
  },
  {
   "cell_type": "markdown",
   "metadata": {},
   "source": [
    "### Imprimindo o resultado dos testes - Dataset Iris"
   ]
  },
  {
   "cell_type": "code",
   "execution_count": null,
   "metadata": {},
   "outputs": [],
   "source": [
    "figura, eixos = plt.subplots(nrows = 2, ncols = 2, figsize = (14, 10))\n",
    "j, k = 0, 0\n",
    "\n",
    "for i in range (2, 6):\n",
    "    cmeans = FCM(n_clusters = i,\n",
    "                 m = parametro_fuzzy,\n",
    "                 max_iter = nro_max_iteracoes,\n",
    "                 n_init = nro_iteracoes_inicial,\n",
    "                 random_state = semente_randomica)\n",
    "\n",
    "    cmeans.fit(X_iris)\n",
    "    y_cmeans = cmeans.predict(X_iris)\n",
    "    centros = cmeans.centers\n",
    "    \n",
    "    \n",
    "    ### OS PONTOS GERAIS\n",
    "    eixos[j][k].scatter(X_iris[y_cmeans == 0, 0], X_iris[y_cmeans == 0, 1], s = 100, c = \"red\", label = \"Iris-setosa\")\n",
    "    eixos[j][k].scatter(X_iris[y_cmeans == 1, 0], X_iris[y_cmeans == 1, 1], s = 100, c = \"green\", label = \"Iris-versicolour\")\n",
    "    eixos[j][k].scatter(X_iris[y_cmeans == 2, 0], X_iris[y_cmeans == 2, 1], s = 100, c = \"blue\", label = \"Iris-virginica\")\n",
    "\n",
    "    ### OS CENTROIDES\n",
    "    eixos[j][k].scatter(centros[:, 0], centros[:, 1], s = 100, c = \"black\", label = \"Centroides\")\n",
    "    \n",
    "    k = (k - 1) * (-1)\n",
    "    j = 1 if i > 2 else 0\n",
    "\n",
    "plt.suptitle(\"Testes com diferentes quantidades de centroides\")\n",
    "plt.legend()\n",
    "plt.show()"
   ]
  },
  {
   "cell_type": "markdown",
   "metadata": {},
   "source": [
    "No caso acima, valor 3 é o que melhor descreve o conjunto dos pontos. Então será escolhido 3 como parâmetro para futuros testes no modelo"
   ]
  },
  {
   "cell_type": "markdown",
   "metadata": {},
   "source": [
    "### Implementando a clusterização - Dataset Iris"
   ]
  },
  {
   "cell_type": "code",
   "execution_count": null,
   "metadata": {},
   "outputs": [],
   "source": [
    "parametro_fuzzy = 2\n",
    "nro_de_clusters = 3\n",
    "\n",
    "cmeans_iris = FCM(n_clusters = nro_de_clusters,\n",
    "                m = parametro_fuzzy,\n",
    "                max_iter = nro_max_iteracoes,\n",
    "                n_init = nro_iteracoes_inicial,\n",
    "                random_state = semente_randomica)\n",
    "\n",
    "cmeans_iris.fit(X_iris)\n",
    "y_cmeans_iris = cmeans_iris.predict(X_iris)\n",
    "centros_iris = cmeans_iris.centers"
   ]
  },
  {
   "cell_type": "markdown",
   "metadata": {},
   "source": [
    "##### Visualizando os clusters"
   ]
  },
  {
   "cell_type": "markdown",
   "metadata": {},
   "source": [
    "###### De forma 2D"
   ]
  },
  {
   "cell_type": "code",
   "execution_count": null,
   "metadata": {},
   "outputs": [],
   "source": [
    "plt.figure(figsize = (12, 8))\n",
    "\n",
    "### OS PONTOS GERAIS\n",
    "plt.scatter(X_iris[y_cmeans == 0, 0], X_iris[y_cmeans == 0, 1], s = 100, c = \"red\", label = \"Iris-setosa\")\n",
    "plt.scatter(X_iris[y_cmeans == 1, 0], X_iris[y_cmeans == 1, 1], s = 100, c = \"green\", label = \"Iris-versicolour\")\n",
    "plt.scatter(X_iris[y_cmeans == 2, 0], X_iris[y_cmeans == 2, 1], s = 100, c = \"blue\", label = \"Iris-virginica\")\n",
    "\n",
    "### OS CENTROIDES\n",
    "\n",
    "plt.scatter(centros_iris[:, 0], centros_iris[:, 1], s = 100, c = \"black\", label = \"Centroides\")\n",
    "\n",
    "plt.legend()\n",
    "plt.show()"
   ]
  },
  {
   "cell_type": "markdown",
   "metadata": {},
   "source": [
    "###### De forma 3D"
   ]
  },
  {
   "cell_type": "code",
   "execution_count": null,
   "metadata": {},
   "outputs": [],
   "source": [
    "figura = plt.figure(figsize = (12, 12))\n",
    "eixo = figura.add_subplot(111, projection = \"3d\")\n",
    "\n",
    "### OS PONTOS GERAIS\n",
    "plt.scatter(X_iris[y_kmeans_iris == 0, 0], X_iris[y_kmeans_iris == 0, 1], s = 100, c = \"red\", label = \"Iris-setosa\")\n",
    "plt.scatter(X_iris[y_kmeans_iris == 1, 0], X_iris[y_kmeans_iris == 1, 1], s = 100, c = \"green\", label = \"Iris-versicolour\")\n",
    "plt.scatter(X_iris[y_kmeans_iris == 2, 0], X_iris[y_kmeans_iris == 2, 1], s = 100, c = \"blue\", label = \"Iris-virginica\")\n",
    "\n",
    "### OS CENTROIDES\n",
    "plt.scatter(centros_iris[:, 0], centros_iris[:, 1], s = 100, c = \"black\", label = \"Centroides\")\n",
    "\n",
    "plt.legend()\n",
    "plt.show()"
   ]
  },
  {
   "cell_type": "markdown",
   "metadata": {},
   "source": [
    "### Imprimindo o resultado dos testes - Dataset Titanic"
   ]
  },
  {
   "cell_type": "code",
   "execution_count": null,
   "metadata": {},
   "outputs": [],
   "source": [
    "parametro_fuzzy = 2\n",
    "figura, eixos = plt.subplots(nrows = 2, ncols = 2, figsize = (14, 10))\n",
    "j, k = 0, 0\n",
    "\n",
    "for i in range (2, 6):\n",
    "    cmeans = FCM(n_clusters = i,\n",
    "                 m = parametro_fuzzy,\n",
    "                 max_iter = nro_max_iteracoes,\n",
    "                 n_init = nro_iteracoes_inicial,\n",
    "                 random_state = semente_randomica)\n",
    "\n",
    "    cmeans.fit(X_titanic)\n",
    "    y_cmeans = cmeans.predict(X_titanic)\n",
    "    centros = cmeans.centers\n",
    "    \n",
    "    \n",
    "    ### OS PONTOS GERAIS\n",
    "    eixos[j][k].scatter(X_titanic[y_cmeans == 0, 0], X_titanic[y_cmeans == 0, 1], s = 100, c = \"red\", label = \"Pclass 0\")\n",
    "    eixos[j][k].scatter(X_titanic[y_cmeans == 1, 0], X_titanic[y_cmeans == 1, 1], s = 100, c = \"green\", label = \"Pclass 1\")\n",
    "    eixos[j][k].scatter(X_titanic[y_cmeans == 2, 0], X_titanic[y_cmeans == 2, 1], s = 100, c = \"blue\", label = \"Pclass 2\")\n",
    "\n",
    "    ### OS CENTROIDES\n",
    "    eixos[j][k].scatter(centros[:, 0], centros[:, 1], s = 100, c = \"black\", label = \"Centroides\")\n",
    "    \n",
    "    k = (k - 1) * (-1)\n",
    "    j = 1 if i > 2 else 0\n",
    "\n",
    "plt.suptitle(\"Testes com diferentes quantidades de centroides\")\n",
    "plt.legend()\n",
    "plt.show()"
   ]
  },
  {
   "cell_type": "markdown",
   "metadata": {},
   "source": [
    "No caso acima, nenhum valor descreve melhor o conjunto dos pontos.\n",
    "Mas será escolhido 3 como parâmetro para futuros testes no modelo, pois já sabemos que há 3 clusters"
   ]
  },
  {
   "cell_type": "markdown",
   "metadata": {},
   "source": [
    "### Implementando a clusterização - Dataset Titanic"
   ]
  },
  {
   "cell_type": "code",
   "execution_count": null,
   "metadata": {},
   "outputs": [],
   "source": [
    "parametro_fuzzy = 2\n",
    "nro_de_clusters = 3\n",
    "\n",
    "cmeans_titanic = FCM(n_clusters = nro_de_clusters,\n",
    "                    m = parametro_fuzzy,\n",
    "                    max_iter = nro_max_iteracoes,\n",
    "                    n_init = nro_iteracoes_inicial,\n",
    "                    random_state = semente_randomica)\n",
    "\n",
    "cmeans_titanic.fit(X_titanic)\n",
    "y_cmeans_titanic = cmeans_titanic.predict(X_titanic)\n",
    "centros_titanic = cmeans_titanic.centers"
   ]
  },
  {
   "cell_type": "markdown",
   "metadata": {},
   "source": [
    "##### Visualizando os clusters"
   ]
  },
  {
   "cell_type": "markdown",
   "metadata": {},
   "source": [
    "###### De forma 2D"
   ]
  },
  {
   "cell_type": "code",
   "execution_count": null,
   "metadata": {},
   "outputs": [],
   "source": [
    "plt.figure(figsize = (12, 8))\n",
    "\n",
    "### OS PONTOS GERAIS\n",
    "plt.scatter(X_titanic[y_cmeans == 0, 0], X_titanic[y_cmeans == 0, 1], s = 100, c = \"red\", label = \"Iris-setosa\")\n",
    "plt.scatter(X_titanic[y_cmeans == 1, 0], X_titanic[y_cmeans == 1, 1], s = 100, c = \"green\", label = \"Iris-versicolour\")\n",
    "plt.scatter(X_titanic[y_cmeans == 2, 0], X_titanic[y_cmeans == 2, 1], s = 100, c = \"blue\", label = \"Iris-virginica\")\n",
    "\n",
    "### OS CENTROIDES\n",
    "\n",
    "plt.scatter(centros_titanic[:, 0], centros_titanic[:, 1], s = 100, c = \"black\", label = \"Centroides\")\n",
    "\n",
    "plt.legend()\n",
    "plt.show()"
   ]
  },
  {
   "cell_type": "markdown",
   "metadata": {},
   "source": [
    "###### De forma 3D"
   ]
  },
  {
   "cell_type": "code",
   "execution_count": null,
   "metadata": {},
   "outputs": [],
   "source": [
    "figura = plt.figure(figsize = (12, 12))\n",
    "eixo = figura.add_subplot(111, projection = \"3d\")\n",
    "\n",
    "### OS PONTOS GERAIS\n",
    "plt.scatter(X_titanic[y_kmeans_titanic == 0, 0], X_titanic[y_kmeans_titanic == 0, 1], s = 100, c = \"red\", label = \"Iris-setosa\")\n",
    "plt.scatter(X_titanic[y_kmeans_titanic == 1, 0], X_titanic[y_kmeans_titanic == 1, 1], s = 100, c = \"green\", label = \"Iris-versicolour\")\n",
    "plt.scatter(X_titanic[y_kmeans_titanic == 2, 0], X_titanic[y_kmeans_titanic == 2, 1], s = 100, c = \"blue\", label = \"Iris-virginica\")\n",
    "\n",
    "### OS CENTROIDES\n",
    "plt.scatter(centros_titanic[:, 0], centros_titanic[:, 1], s = 100, c = \"black\", label = \"Centroides\")\n",
    "\n",
    "plt.legend()\n",
    "plt.show()"
   ]
  },
  {
   "cell_type": "markdown",
   "metadata": {},
   "source": [
    "## Bibliografia"
   ]
  },
  {
   "cell_type": "markdown",
   "metadata": {},
   "source": [
    "### SCIKIT-LEARN\n",
    "- https://scikit-learn.org/stable/\n",
    "\n",
    "### SCIKIT-LEARN.KMEANS\n",
    "- https://scikit-learn.org/stable/modules/generated/sklearn.cluster.KMeans.html\n",
    "\n",
    "### SCIKIT-LEARN.MEANSHIFT\n",
    "- https://scikit-learn.org/stable/modules/generated/sklearn.cluster.MeanShift.html\n",
    "- https://scikit-learn.org/stable/auto_examples/cluster/plot_mean_shift.html\n",
    "\n",
    "### FUZZY_C_MEANS\n",
    "- https://pypi.org/project/fuzzy-c-means/\n",
    "\t- https://github.com/omadson/fuzzy-c-means\n",
    "- https://github.com/ShristiK/Fuzzy-C-Means-Clustering\n",
    "- https://pythonhosted.org/scikit-fuzzy/auto_examples/plot_cmeans.html\n",
    "- https://www.kaggle.com/code/prateekk94/fuzzy-c-means-clustering-on-iris-dataset\n",
    "- https://fda.readthedocs.io/en/latest/index.html\n",
    "\t- https://fda.readthedocs.io/en/latest/modules/ml/autosummary/skfda.ml.clustering.FuzzyCMeans.html\n"
   ]
  }
 ],
 "metadata": {
  "kernelspec": {
   "display_name": ".petca-venv",
   "language": "python",
   "name": "python3"
  },
  "language_info": {
   "codemirror_mode": {
    "name": "ipython",
    "version": 3
   },
   "file_extension": ".py",
   "mimetype": "text/x-python",
   "name": "python",
   "nbconvert_exporter": "python",
   "pygments_lexer": "ipython3",
   "version": "3.12.3"
  }
 },
 "nbformat": 4,
 "nbformat_minor": 2
}
