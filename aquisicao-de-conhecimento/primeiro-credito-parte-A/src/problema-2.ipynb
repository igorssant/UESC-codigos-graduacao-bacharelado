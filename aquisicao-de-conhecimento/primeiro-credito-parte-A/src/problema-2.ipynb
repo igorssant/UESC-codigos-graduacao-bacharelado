{
 "cells": [
  {
   "cell_type": "markdown",
   "metadata": {},
   "source": [
    "# Problema 2"
   ]
  },
  {
   "cell_type": "markdown",
   "metadata": {},
   "source": [
    "## O problema\n",
    "O conjunto de dados (beer_contest.csv no classroom) representa o score de empresas em um\n",
    "\n",
    "campeonado anual de cerveja feito pela organização mundial de cervejeiros. A organização gostaria\n",
    "\n",
    "de visualizar o progresso da qualidade da cerveja ao longo dos anos, e prever o quão crescente esse\n",
    "\n",
    "progresso pode chegar daqui a mais 5 anos.\n",
    "\n",
    "<br><br>\n",
    "\n",
    "Neste problema você pode usar uma implementação de qualquer biblioteca (exemplo sklearn) ou a\n",
    "\n",
    "sua própria implementação de regressão linear"
   ]
  },
  {
   "cell_type": "markdown",
   "metadata": {},
   "source": [
    "### Tarefa 1\n",
    "Plotar o gráfico de dispersão e a reta que melhor se ajusta aos dados (que deverá ser feita\n",
    "\n",
    "usando regressão linear). Mostre os valores de θ_0 e θ_1."
   ]
  },
  {
   "cell_type": "markdown",
   "metadata": {},
   "source": [
    "#### Importando as biliotecas necessárias"
   ]
  },
  {
   "cell_type": "markdown",
   "metadata": {},
   "source": [
    "##### As bibliotecas abaixo são necessárias para os gráficos e tratamento dos dados"
   ]
  },
  {
   "cell_type": "code",
   "execution_count": 1,
   "metadata": {},
   "outputs": [],
   "source": [
    "import numpy as np\n",
    "import pandas as pd\n",
    "from matplotlib import pyplot as plt\n",
    "import seaborn as sns\n",
    "\n",
    "sns.set()"
   ]
  },
  {
   "cell_type": "markdown",
   "metadata": {},
   "source": [
    "##### As bibliotecas abaixo são para treino do modelo"
   ]
  },
  {
   "cell_type": "code",
   "execution_count": 2,
   "metadata": {},
   "outputs": [],
   "source": [
    "from sklearn.linear_model import LinearRegression\n",
    "from sklearn.model_selection import train_test_split\n",
    "from sklearn.preprocessing import MinMaxScaler"
   ]
  },
  {
   "cell_type": "markdown",
   "metadata": {},
   "source": [
    "#### Recebendo os dados de ../datasets/raw/beer_contest.csv"
   ]
  },
  {
   "cell_type": "code",
   "execution_count": 3,
   "metadata": {},
   "outputs": [],
   "source": [
    "beer_contest_raw_data = pd.read_csv(\"../datasets/raw/beer_contest.csv\", sep = \";\")"
   ]
  },
  {
   "cell_type": "markdown",
   "metadata": {},
   "source": [
    "#### Verificando a estrutura da tabela"
   ]
  },
  {
   "cell_type": "code",
   "execution_count": 4,
   "metadata": {},
   "outputs": [
    {
     "data": {
      "text/html": [
       "<div>\n",
       "<style scoped>\n",
       "    .dataframe tbody tr th:only-of-type {\n",
       "        vertical-align: middle;\n",
       "    }\n",
       "\n",
       "    .dataframe tbody tr th {\n",
       "        vertical-align: top;\n",
       "    }\n",
       "\n",
       "    .dataframe thead th {\n",
       "        text-align: right;\n",
       "    }\n",
       "</style>\n",
       "<table border=\"1\" class=\"dataframe\">\n",
       "  <thead>\n",
       "    <tr style=\"text-align: right;\">\n",
       "      <th></th>\n",
       "      <th>year</th>\n",
       "      <th>score</th>\n",
       "    </tr>\n",
       "  </thead>\n",
       "  <tbody>\n",
       "    <tr>\n",
       "      <th>0</th>\n",
       "      <td>1</td>\n",
       "      <td>1</td>\n",
       "    </tr>\n",
       "    <tr>\n",
       "      <th>1</th>\n",
       "      <td>1</td>\n",
       "      <td>11</td>\n",
       "    </tr>\n",
       "    <tr>\n",
       "      <th>2</th>\n",
       "      <td>1</td>\n",
       "      <td>11</td>\n",
       "    </tr>\n",
       "    <tr>\n",
       "      <th>3</th>\n",
       "      <td>1</td>\n",
       "      <td>12</td>\n",
       "    </tr>\n",
       "    <tr>\n",
       "      <th>4</th>\n",
       "      <td>2</td>\n",
       "      <td>13</td>\n",
       "    </tr>\n",
       "  </tbody>\n",
       "</table>\n",
       "</div>"
      ],
      "text/plain": [
       "   year  score\n",
       "0     1      1\n",
       "1     1     11\n",
       "2     1     11\n",
       "3     1     12\n",
       "4     2     13"
      ]
     },
     "execution_count": 4,
     "metadata": {},
     "output_type": "execute_result"
    }
   ],
   "source": [
    "beer_contest_raw_data.head()"
   ]
  },
  {
   "cell_type": "markdown",
   "metadata": {},
   "source": [
    "Não foi necessário a remoção de espaços em branco,<br><br>\n",
    "remoção de carateres especiais<br><br>\n",
    "ou de tratamento dos nomes dos títulos para caixa baixa<br><br>\n",
    "Também não houve necessidade de tratar dados faltantes - *NaN*s"
   ]
  },
  {
   "cell_type": "markdown",
   "metadata": {},
   "source": [
    "#### Criando 2 arrays - X e Y - para armazenar as informações contidas na tabela\n",
    "\n",
    "##### X = anos\n",
    "##### Y = quantidade de participantes"
   ]
  },
  {
   "cell_type": "code",
   "execution_count": 5,
   "metadata": {},
   "outputs": [
    {
     "name": "stdout",
     "output_type": "stream",
     "text": [
      "[[1]\n",
      " [1]\n",
      " [1]\n",
      " [1]\n",
      " [2]\n",
      " [2]\n",
      " [2]\n",
      " [2]\n",
      " [3]\n",
      " [3]\n",
      " [3]\n",
      " [3]\n",
      " [4]\n",
      " [4]\n",
      " [4]\n",
      " [4]\n",
      " [5]\n",
      " [5]\n",
      " [5]\n",
      " [5]\n",
      " [5]\n",
      " [5]\n",
      " [5]\n",
      " [5]\n",
      " [5]\n",
      " [5]\n",
      " [5]\n",
      " [5]\n",
      " [5]\n",
      " [5]\n",
      " [6]\n",
      " [6]\n",
      " [6]\n",
      " [6]\n",
      " [6]\n",
      " [6]\n",
      " [6]\n",
      " [6]\n",
      " [6]\n",
      " [6]\n",
      " [6]\n",
      " [6]\n",
      " [6]\n",
      " [6]\n",
      " [7]\n",
      " [7]\n",
      " [7]\n",
      " [7]\n",
      " [7]\n",
      " [7]\n",
      " [7]\n",
      " [7]\n",
      " [7]\n",
      " [7]\n",
      " [7]]\n"
     ]
    }
   ],
   "source": [
    "X = np.array(beer_contest_raw_data.year.astype(\"uint8\"))\n",
    "X = X.reshape([-1, 1])\n",
    "print(X)"
   ]
  },
  {
   "cell_type": "code",
   "execution_count": 6,
   "metadata": {},
   "outputs": [
    {
     "name": "stdout",
     "output_type": "stream",
     "text": [
      "[ 1 11 11 12 13 14 14 15 18  2  2 19 37 25 25 23 26 26 25 24 23 22 14 15\n",
      " 14 15 22 23 14 15 26 26 15 24  3 29 14 15 14 15 28 14 14 15 26 26 25 24\n",
      "  3 29 14 25 14 15 15]\n"
     ]
    }
   ],
   "source": [
    "Y = np.array(beer_contest_raw_data.score.astype(\"uint8\"))\n",
    "print(Y)"
   ]
  },
  {
   "cell_type": "markdown",
   "metadata": {},
   "source": [
    "#### Criando modelo de regressão linear"
   ]
  },
  {
   "cell_type": "code",
   "execution_count": 7,
   "metadata": {},
   "outputs": [],
   "source": [
    "modelo_regressao_linear = LinearRegression().fit(X, Y)\n"
   ]
  },
  {
   "cell_type": "markdown",
   "metadata": {},
   "source": [
    "#### O coeficiente de determinação R<sup>2</sup>"
   ]
  },
  {
   "cell_type": "code",
   "execution_count": 8,
   "metadata": {},
   "outputs": [
    {
     "name": "stdout",
     "output_type": "stream",
     "text": [
      "O coeficiente r^2 é: 0.11425925618959176\n"
     ]
    }
   ],
   "source": [
    "coeficiente_r_quadrado = modelo_regressao_linear.score(X, Y)\n",
    "print(f\"O coeficiente r^2 é: {coeficiente_r_quadrado}\")"
   ]
  },
  {
   "cell_type": "markdown",
   "metadata": {},
   "source": [
    "#### A interceptação"
   ]
  },
  {
   "cell_type": "code",
   "execution_count": 9,
   "metadata": {},
   "outputs": [
    {
     "name": "stdout",
     "output_type": "stream",
     "text": [
      "A interceptação é: 10.86965418457131\n"
     ]
    }
   ],
   "source": [
    "interceptacao = modelo_regressao_linear.intercept_\n",
    "print(f\"A interceptação é: {interceptacao}\")"
   ]
  },
  {
   "cell_type": "markdown",
   "metadata": {},
   "source": [
    "#### O valor de angulação da reta - Slope"
   ]
  },
  {
   "cell_type": "code",
   "execution_count": 10,
   "metadata": {},
   "outputs": [
    {
     "name": "stdout",
     "output_type": "stream",
     "text": [
      "A angulação da reta (Slope) é: [1.43973808]\n"
     ]
    }
   ],
   "source": [
    "angulacao_da_reta = modelo_regressao_linear.coef_\n",
    "print(f\"A angulação da reta (Slope) é: {angulacao_da_reta}\")"
   ]
  },
  {
   "cell_type": "markdown",
   "metadata": {},
   "source": [
    "#### A predição da reta"
   ]
  },
  {
   "cell_type": "code",
   "execution_count": 11,
   "metadata": {},
   "outputs": [
    {
     "name": "stdout",
     "output_type": "stream",
     "text": [
      "A predição para reta é: [12.30939227 12.30939227 12.30939227 12.30939227 13.74913035 13.74913035\n",
      " 13.74913035 13.74913035 15.18886843 15.18886843 15.18886843 15.18886843\n",
      " 16.62860651 16.62860651 16.62860651 16.62860651 18.06834459 18.06834459\n",
      " 18.06834459 18.06834459 18.06834459 18.06834459 18.06834459 18.06834459\n",
      " 18.06834459 18.06834459 18.06834459 18.06834459 18.06834459 18.06834459\n",
      " 19.50808267 19.50808267 19.50808267 19.50808267 19.50808267 19.50808267\n",
      " 19.50808267 19.50808267 19.50808267 19.50808267 19.50808267 19.50808267\n",
      " 19.50808267 19.50808267 20.94782075 20.94782075 20.94782075 20.94782075\n",
      " 20.94782075 20.94782075 20.94782075 20.94782075 20.94782075 20.94782075\n",
      " 20.94782075]\n"
     ]
    }
   ],
   "source": [
    "Y_predito = modelo_regressao_linear.predict(X)\n",
    "print(f\"A predição para reta é: {Y_predito}\")"
   ]
  },
  {
   "cell_type": "markdown",
   "metadata": {},
   "source": [
    "#### Os valores de θ<sub>0</sub> e θ<sub>1</sub>:"
   ]
  },
  {
   "cell_type": "code",
   "execution_count": 12,
   "metadata": {},
   "outputs": [
    {
     "name": "stdout",
     "output_type": "stream",
     "text": [
      "\n",
      "      Os coeficientes são:\n",
      "      \n",
      "\n",
      "      θ_0 = 10.86965418457131\n",
      "      \n",
      "\n",
      "      θ_1 = 1.439738080622059\n",
      "      \n"
     ]
    }
   ],
   "source": [
    "print(f\"\"\"\n",
    "      Os coeficientes são:\n",
    "      \\n\n",
    "      θ_0 = {interceptacao}\n",
    "      \\n\n",
    "      θ_1 = {angulacao_da_reta[0]}\n",
    "      \"\"\")"
   ]
  },
  {
   "cell_type": "markdown",
   "metadata": {},
   "source": [
    "#### Gráfico de dispersão da reta"
   ]
  },
  {
   "cell_type": "code",
   "execution_count": 13,
   "metadata": {},
   "outputs": [
    {
     "data": {
      "image/png": "[encoded data removed]",
      "text/plain": [
       "<Figure size 1200x600 with 1 Axes>"
      ]
     },
     "metadata": {},
     "output_type": "display_data"
    }
   ],
   "source": [
    "figure, _ = plt.subplots(figsize = (12, 6))\n",
    "plt.scatter(\n",
    "    x = X,\n",
    "    y = Y,\n",
    ")\n",
    "plt.plot(\n",
    "    X,\n",
    "    Y_predito,\n",
    "    color = \"red\"\n",
    ")\n",
    "plt.title(\"Concurso de cerveja\")\n",
    "plt.xlabel(\"anos\")\n",
    "plt.ylabel(\"resultado\")\n",
    "plt.show()"
   ]
  },
  {
   "cell_type": "markdown",
   "metadata": {},
   "source": [
    "#### Gráfico da previsão para 5 anos no futuro"
   ]
  },
  {
   "cell_type": "code",
   "execution_count": 14,
   "metadata": {},
   "outputs": [
    {
     "data": {
      "image/png": "[encoded data removed]",
      "text/plain": [
       "<Figure size 1200x600 with 1 Axes>"
      ]
     },
     "metadata": {},
     "output_type": "display_data"
    }
   ],
   "source": [
    "figure, axis = plt.subplots(figsize = (12, 6))\n",
    "vetor = np.arange(1, 14)\n",
    "plt.plot(\n",
    "    vetor,\n",
    "    Y_predito[1:14],\n",
    "    color = \"red\"\n",
    ")\n",
    "plt.xlim = 13\n",
    "plt.title(\"Concurso de cerveja\")\n",
    "plt.xlabel(\"anos\")\n",
    "plt.ylabel(\"resultado\")\n",
    "plt.show()"
   ]
  },
  {
   "cell_type": "markdown",
   "metadata": {},
   "source": [
    "### Tarefa 2\n",
    "Note que, no capeonato existem empresas que participam em todas as edições e empresas<br>\n",
    "\n",
    "novas, que participam apenas das ultimas edições, bem como empresas que participaram no passado<br>\n",
    "\n",
    "e não participam mais."
   ]
  },
  {
   "cell_type": "markdown",
   "metadata": {},
   "source": [
    "#### a) Mostre a contagem de empresas participantes em cada ano"
   ]
  },
  {
   "cell_type": "code",
   "execution_count": 15,
   "metadata": {},
   "outputs": [
    {
     "name": "stdout",
     "output_type": "stream",
     "text": [
      "year\n",
      "1     4\n",
      "2     4\n",
      "3     4\n",
      "4     4\n",
      "5    14\n",
      "6    14\n",
      "7    11\n",
      "Name: count, dtype: int64\n",
      "\n"
     ]
    }
   ],
   "source": [
    "quantidade_por_anos = beer_contest_raw_data.year.value_counts().sort_index()\n",
    "print(f\"{quantidade_por_anos}\\n\")"
   ]
  },
  {
   "cell_type": "markdown",
   "metadata": {},
   "source": [
    "#### b) Calcule a média do score por ano e mostre curva que melhor se ajusta aos dados médios.\n",
    "#### Mostre os valores de θ<sub>0</sub> e θ<sub>1</sub>"
   ]
  },
  {
   "cell_type": "markdown",
   "metadata": {},
   "source": [
    "##### Observando o dataframe"
   ]
  },
  {
   "cell_type": "code",
   "execution_count": 16,
   "metadata": {},
   "outputs": [
    {
     "data": {
      "text/html": [
       "<div>\n",
       "<style scoped>\n",
       "    .dataframe tbody tr th:only-of-type {\n",
       "        vertical-align: middle;\n",
       "    }\n",
       "\n",
       "    .dataframe tbody tr th {\n",
       "        vertical-align: top;\n",
       "    }\n",
       "\n",
       "    .dataframe thead th {\n",
       "        text-align: right;\n",
       "    }\n",
       "</style>\n",
       "<table border=\"1\" class=\"dataframe\">\n",
       "  <thead>\n",
       "    <tr style=\"text-align: right;\">\n",
       "      <th></th>\n",
       "      <th>year</th>\n",
       "      <th>score</th>\n",
       "    </tr>\n",
       "  </thead>\n",
       "  <tbody>\n",
       "    <tr>\n",
       "      <th>0</th>\n",
       "      <td>1</td>\n",
       "      <td>1</td>\n",
       "    </tr>\n",
       "    <tr>\n",
       "      <th>1</th>\n",
       "      <td>1</td>\n",
       "      <td>11</td>\n",
       "    </tr>\n",
       "    <tr>\n",
       "      <th>2</th>\n",
       "      <td>1</td>\n",
       "      <td>11</td>\n",
       "    </tr>\n",
       "    <tr>\n",
       "      <th>3</th>\n",
       "      <td>1</td>\n",
       "      <td>12</td>\n",
       "    </tr>\n",
       "    <tr>\n",
       "      <th>4</th>\n",
       "      <td>2</td>\n",
       "      <td>13</td>\n",
       "    </tr>\n",
       "    <tr>\n",
       "      <th>5</th>\n",
       "      <td>2</td>\n",
       "      <td>14</td>\n",
       "    </tr>\n",
       "    <tr>\n",
       "      <th>6</th>\n",
       "      <td>2</td>\n",
       "      <td>14</td>\n",
       "    </tr>\n",
       "    <tr>\n",
       "      <th>7</th>\n",
       "      <td>2</td>\n",
       "      <td>15</td>\n",
       "    </tr>\n",
       "    <tr>\n",
       "      <th>8</th>\n",
       "      <td>3</td>\n",
       "      <td>18</td>\n",
       "    </tr>\n",
       "    <tr>\n",
       "      <th>9</th>\n",
       "      <td>3</td>\n",
       "      <td>2</td>\n",
       "    </tr>\n",
       "  </tbody>\n",
       "</table>\n",
       "</div>"
      ],
      "text/plain": [
       "   year  score\n",
       "0     1      1\n",
       "1     1     11\n",
       "2     1     11\n",
       "3     1     12\n",
       "4     2     13\n",
       "5     2     14\n",
       "6     2     14\n",
       "7     2     15\n",
       "8     3     18\n",
       "9     3      2"
      ]
     },
     "execution_count": 16,
     "metadata": {},
     "output_type": "execute_result"
    }
   ],
   "source": [
    "beer_contest_raw_data.head(10)"
   ]
  },
  {
   "cell_type": "markdown",
   "metadata": {},
   "source": [
    "##### Observando a coluna *score*"
   ]
  },
  {
   "cell_type": "code",
   "execution_count": 17,
   "metadata": {},
   "outputs": [
    {
     "data": {
      "text/plain": [
       "0     1\n",
       "1    11\n",
       "2    11\n",
       "3    12\n",
       "4    13\n",
       "5    14\n",
       "6    14\n",
       "7    15\n",
       "8    18\n",
       "9     2\n",
       "Name: score, dtype: int64"
      ]
     },
     "execution_count": 17,
     "metadata": {},
     "output_type": "execute_result"
    }
   ],
   "source": [
    "beer_contest_raw_data.score.head(10)"
   ]
  },
  {
   "cell_type": "markdown",
   "metadata": {},
   "source": [
    "##### Calculando as médias"
   ]
  },
  {
   "cell_type": "code",
   "execution_count": 18,
   "metadata": {},
   "outputs": [
    {
     "name": "stdout",
     "output_type": "stream",
     "text": [
      "      score\n",
      "year       \n",
      "1         4\n",
      "2         4\n",
      "3         4\n",
      "4         4\n",
      "5        14\n",
      "6        14\n",
      "7        11\n",
      "\n",
      "\n",
      "   year      score\n",
      "0     1   8.750000\n",
      "1     2  14.000000\n",
      "2     3  10.250000\n",
      "3     4  27.500000\n",
      "4     5  19.857143\n",
      "5     6  18.000000\n",
      "6     7  19.636364\n"
     ]
    }
   ],
   "source": [
    "# anos = beer_contest_raw_data.year.unique()\n",
    "# medias = np.array([media_ano_1, media_ano_2, media_ano_3, media_ano_4, media_ano_5, media_ano_6, media_ano_7])\n",
    "data_frame = beer_contest_raw_data.groupby(\"year\", as_index = False).agg(\"mean\")\n",
    "print(beer_contest_raw_data.groupby(\"year\").agg(\"count\"))\n",
    "print(\"\\n\")\n",
    "print(data_frame)"
   ]
  },
  {
   "cell_type": "markdown",
   "metadata": {},
   "source": [
    "##### Calculando θ<sub>0</sub> e θ<sub>1</sub>"
   ]
  },
  {
   "cell_type": "code",
   "execution_count": 19,
   "metadata": {},
   "outputs": [],
   "source": [
    "x = data_frame.drop(axis = 1, columns = \"score\")\n",
    "y = data_frame.score\n",
    "modelo_linear = LinearRegression().fit(x, y)\n",
    "theta_0 = modelo_linear.intercept_\n",
    "theta_1 = modelo_linear.coef_"
   ]
  },
  {
   "cell_type": "markdown",
   "metadata": {},
   "source": [
    "##### Imprimindo os valores de θ<sub>0</sub> e θ<sub>1</sub>"
   ]
  },
  {
   "cell_type": "code",
   "execution_count": 20,
   "metadata": {},
   "outputs": [
    {
     "name": "stdout",
     "output_type": "stream",
     "text": [
      "\n",
      "      Os coeficientes são:\n",
      "      \n",
      "\n",
      "      θ_0 = 9.67532467532468\n",
      "      \n",
      "\n",
      "      θ_1 = 1.7952226345083484\n",
      "      \n"
     ]
    }
   ],
   "source": [
    "print(f\"\"\"\n",
    "      Os coeficientes são:\n",
    "      \\n\n",
    "      θ_0 = {theta_0}\n",
    "      \\n\n",
    "      θ_1 = {theta_1[0]}\n",
    "      \"\"\")"
   ]
  },
  {
   "cell_type": "markdown",
   "metadata": {},
   "source": [
    "##### Plotando os dados"
   ]
  },
  {
   "cell_type": "code",
   "execution_count": 21,
   "metadata": {},
   "outputs": [
    {
     "name": "stdout",
     "output_type": "stream",
     "text": [
      "[11.47054731 13.26576994 15.06099258 16.85621521 18.65143785 20.44666048\n",
      " 22.24188312]\n"
     ]
    }
   ],
   "source": [
    "Y_predito = modelo_linear.predict(x)\n",
    "print(Y_predito)"
   ]
  },
  {
   "cell_type": "code",
   "execution_count": 22,
   "metadata": {},
   "outputs": [
    {
     "data": {
      "image/png": "[encoded data removed]",
      "text/plain": [
       "<Figure size 1200x600 with 1 Axes>"
      ]
     },
     "metadata": {},
     "output_type": "display_data"
    }
   ],
   "source": [
    "figure, _ = plt.subplots(figsize = (12, 6))\n",
    "plt.scatter(\n",
    "    x = data_frame[\"year\"],\n",
    "    y = data_frame[\"score\"],\n",
    ")\n",
    "plt.plot(\n",
    "    data_frame[\"year\"],\n",
    "    Y_predito,\n",
    "    color = \"red\"\n",
    ")\n",
    "plt.title(\"Media das notas do concurso de cerveja\")\n",
    "plt.xlabel(\"anos\")\n",
    "plt.ylabel(\"media do resultado\")\n",
    "plt.show()"
   ]
  },
  {
   "cell_type": "markdown",
   "metadata": {},
   "source": [
    "#### c) As retas são as mesmas ou diferentes? Comente sobre possíveis justificativas possíveis motivos\n",
    "#### que levam elas a terem essa igualdade/diferença no comportamento."
   ]
  },
  {
   "cell_type": "markdown",
   "metadata": {},
   "source": [
    "As retas são iguais entre si.<br>\n",
    "Uma possível justificativa para tal comportamento é o funcionamento do cálculo da função de custo *J*, onde é feito uma média<br>\n",
    "em cada série, nesse caso, em cada ano, e a partir desta média, é calculado a distância entre os valores reais dos pontos *y* verdadeiros e o<br>\n",
    "valor de y da reta desenhada no gráfico."
   ]
  }
 ],
 "metadata": {
  "kernelspec": {
   "display_name": ".aquisicao-venv",
   "language": "python",
   "name": "python3"
  },
  "language_info": {
   "codemirror_mode": {
    "name": "ipython",
    "version": 3
   },
   "file_extension": ".py",
   "mimetype": "text/x-python",
   "name": "python",
   "nbconvert_exporter": "python",
   "pygments_lexer": "ipython3",
   "version": "3.10.6"
  },
  "orig_nbformat": 4
 },
 "nbformat": 4,
 "nbformat_minor": 2
}
