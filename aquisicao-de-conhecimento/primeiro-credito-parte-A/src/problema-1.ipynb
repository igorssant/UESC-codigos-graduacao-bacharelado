{
 "cells": [
  {
   "cell_type": "markdown",
   "metadata": {
    "tags": []
   },
   "source": [
    "# Problema 1"
   ]
  },
  {
   "cell_type": "markdown",
   "metadata": {},
   "source": [
    "Dados devem ser baixados da seguinte competição no kaggle:<br>\n",
    "[Link para a página do kaggle](https://www.kaggle.com/competitions/house-prices-advanced-regression-techniques/)\n",
    "<br>(para baixar, precisam se registrar a clicar que participa da competição mesmo que não venhamos a\n",
    "submeter)\n",
    "O problema a seguir é prever o valor de venda de uma casa, dado mais de 80 variáveis que\n",
    "possivelmente influenciam no valor.<br>\n",
    "O objetivo do trabalho é implementar o algoritmo para regressão linear univariável. Desta forma,\n",
    "deverá escolher apenas 1 delas. Ou criar uma nova variável a partir das originais. Desde que use\n",
    "apenas 1 variável na regressão.<br>\n",
    "Neste problema, não é permitido usar biblioteca com implementações prontas. A ideia é\n",
    "aprendermos a criar o método de regressão."
   ]
  },
  {
   "cell_type": "markdown",
   "metadata": {},
   "source": [
    "## Os passos para tal tarefa:\n"
   ]
  },
  {
   "cell_type": "markdown",
   "metadata": {},
   "source": [
    "**Passo 1.** Você deverá escolher uma única variável do conjunto de dados para prever o valor de<br>\n",
    "venda (SalePrice). Plote um gráfico de dispersão da variável escolhida o valor do de venda.<br>\n",
    "Dica: você pode calcular a correlação (pode usar bibliotecas prontas para tal fim) de cada variável<br>\n",
    "com a variável SalePrice para escolher a melhor correlacionada para o modelo. Ou pode criar<br>\n",
    "nova variável a partir da existente."
   ]
  },
  {
   "cell_type": "markdown",
   "metadata": {},
   "source": [
    "**Passo 2.** Implemente a função de custo J, que calcula o erro quadrático médio.\n",
    "<br>\n",
    "<br>\n",
    "![Imagem da equação do erro médio J](../img/imagem-equacao.png)\n",
    "<br>\n",
    "<br>\n",
    "<br>\n",
    "<br>\n",
    "Lembre-se:<br>\n",
    "* θ<sub>0</sub> e θ<sub>1</sub> são os parâmetros para a reta de hipótese: 1 ![Imagem theta_0 e theta_1](../img/imagem-ax+b.png) <br>\n",
    "* x é a variável que você escolheu para prever o preço de venda<br>\n",
    "* y é o preço de venda\n",
    "* y<sup>(i)</sup>, o preço de venda para a amostra i da base de dados<br>\n",
    "* h<sub>θ</sub>(x) é o valor previsto para a venda, dado um valor de x\n",
    "<br>\n",
    "<br>\n",
    "<br>\n",
    "<br>\n",
    "A função J deverá receber o valor de θ<sub>0</sub>, θ<sub>1</sub> e o conjunto de dados de treino (train.csv ou qualquer<br>\n",
    "outro formato, por exemplo, um DataFrame ou numpy.array, matriz…), e retornar o erro."
   ]
  },
  {
   "cell_type": "markdown",
   "metadata": {},
   "source": [
    "**Passo 3.** Implemente a função de Gradiente Descendente em modo batch para encontrar o melhor θ<sub>0</sub> e θ<sub>1</sub> para seu problema. Isto é, implemente a regressão linear.<br>\n",
    "Sua função de gradiente descendente deve:\n",
    "* iniciar θ<sub>0</sub> e θ<sub>1</sub> com valores 0\n",
    "* receber o learning rate (α), número máximo de iterações e tolerância para convergência (ε)\n",
    "* retornar melhor valor de θ<sub>0</sub> e θ<sub>1</sub>, e os custos/erros (J) em cada escolha/iteração do gradiente\n",
    "descendente.\n",
    "<br>\n",
    "<br>\n",
    "![Imagem do sistema de equações a ser resolvido](../img/sistema-de-equacoes.png)\n",
    "<br>\n",
    "<br>\n",
    "Onde m é o número de amostras da base de treino.\n",
    "<br>\n",
    "<br>\n",
    "Seu método deve parar quando a diferença entre 2 interações consecultivas for menor que ε ou<br>\n",
    "quando atinguir o número máximo de iterações. Neste último caso, informe que o valor foi atingido.<br>\n",
    "Que o método não convergiu."
   ]
  },
  {
   "cell_type": "markdown",
   "metadata": {},
   "source": [
    "**Passo 4.** Execute seu método de regressão na base de dados (gradiente descendente do passo 3) e\n",
    "mostre o gráfico de dispersão com a reta que encontrou."
   ]
  },
  {
   "cell_type": "markdown",
   "metadata": {},
   "source": [
    "**Passo 5.** Modifique o learning rate. Use 3 valores diferentes (um grande, um pequeno e um<br>\n",
    "intermediário), mostre os gráficos dos custos para os 3 valores e discorra sobre o que acontece no<br>\n",
    "comportamento dos gráficos.\n",
    "Se seus gráficos continuam muito similares, escolha outros valores, ainda maiores ou menores para o learning rate.\n",
    "<br>\n",
    "<br>\n",
    "Se seus gráficos continuam muito similares, escolha outros valores, ainda maiores ou menores para o learning rate."
   ]
  },
  {
   "cell_type": "markdown",
   "metadata": {},
   "source": [
    "### Importando as bibliotecas necessárias"
   ]
  },
  {
   "cell_type": "code",
   "execution_count": 17,
   "metadata": {},
   "outputs": [],
   "source": [
    "# https://purnasaigudikandula.medium.com/linear-regression-in-python-with-cost-function-and-gradient-descent-bde9a8d2626\n",
    "import numpy as np\n",
    "import pandas as pd\n",
    "from matplotlib import pyplot as plt\n",
    "import seaborn as sns\n",
    "\n",
    "sns.set()"
   ]
  },
  {
   "cell_type": "markdown",
   "metadata": {},
   "source": [
    "### Criando variáveis a partir dos datasets"
   ]
  },
  {
   "cell_type": "markdown",
   "metadata": {},
   "source": [
    "#### Abaixo, os dataframes não estão tratados"
   ]
  },
  {
   "cell_type": "code",
   "execution_count": 18,
   "metadata": {},
   "outputs": [],
   "source": [
    "house_sale_price_raw = pd.read_csv(\"../databases/raw/train.csv\", index_col = \"Id\")\n",
    "# house_sale_price_test = pd.read_csv(\"../databases/raw/test.csv\", index_col = \"Id\")"
   ]
  },
  {
   "cell_type": "markdown",
   "metadata": {},
   "source": [
    "#### O dataframe abaixo está tratado e em formato .pkl"
   ]
  },
  {
   "cell_type": "code",
   "execution_count": 19,
   "metadata": {},
   "outputs": [],
   "source": [
    "# Aqui já está o dataframe tratado\n",
    "#\n",
    "# house_sale_price_processed = pd.read_pickle(\"../databases/processed/house_sale_processed.pkl\")\n",
    "#"
   ]
  },
  {
   "cell_type": "markdown",
   "metadata": {},
   "source": [
    "## Realizando testes com os datasets"
   ]
  },
  {
   "cell_type": "markdown",
   "metadata": {},
   "source": [
    "### Imprimindo conteúdo dos datasets"
   ]
  },
  {
   "cell_type": "markdown",
   "metadata": {},
   "source": [
    "#### Dataset de treino"
   ]
  },
  {
   "cell_type": "code",
   "execution_count": 20,
   "metadata": {},
   "outputs": [
    {
     "data": {
      "text/html": [
       "<div>\n",
       "<style scoped>\n",
       "    .dataframe tbody tr th:only-of-type {\n",
       "        vertical-align: middle;\n",
       "    }\n",
       "\n",
       "    .dataframe tbody tr th {\n",
       "        vertical-align: top;\n",
       "    }\n",
       "\n",
       "    .dataframe thead th {\n",
       "        text-align: right;\n",
       "    }\n",
       "</style>\n",
       "<table border=\"1\" class=\"dataframe\">\n",
       "  <thead>\n",
       "    <tr style=\"text-align: right;\">\n",
       "      <th></th>\n",
       "      <th>MSSubClass</th>\n",
       "      <th>MSZoning</th>\n",
       "      <th>LotFrontage</th>\n",
       "      <th>LotArea</th>\n",
       "      <th>Street</th>\n",
       "      <th>Alley</th>\n",
       "      <th>LotShape</th>\n",
       "      <th>LandContour</th>\n",
       "      <th>Utilities</th>\n",
       "      <th>LotConfig</th>\n",
       "      <th>...</th>\n",
       "      <th>PoolArea</th>\n",
       "      <th>PoolQC</th>\n",
       "      <th>Fence</th>\n",
       "      <th>MiscFeature</th>\n",
       "      <th>MiscVal</th>\n",
       "      <th>MoSold</th>\n",
       "      <th>YrSold</th>\n",
       "      <th>SaleType</th>\n",
       "      <th>SaleCondition</th>\n",
       "      <th>SalePrice</th>\n",
       "    </tr>\n",
       "    <tr>\n",
       "      <th>Id</th>\n",
       "      <th></th>\n",
       "      <th></th>\n",
       "      <th></th>\n",
       "      <th></th>\n",
       "      <th></th>\n",
       "      <th></th>\n",
       "      <th></th>\n",
       "      <th></th>\n",
       "      <th></th>\n",
       "      <th></th>\n",
       "      <th></th>\n",
       "      <th></th>\n",
       "      <th></th>\n",
       "      <th></th>\n",
       "      <th></th>\n",
       "      <th></th>\n",
       "      <th></th>\n",
       "      <th></th>\n",
       "      <th></th>\n",
       "      <th></th>\n",
       "      <th></th>\n",
       "    </tr>\n",
       "  </thead>\n",
       "  <tbody>\n",
       "    <tr>\n",
       "      <th>1</th>\n",
       "      <td>60</td>\n",
       "      <td>RL</td>\n",
       "      <td>65.0</td>\n",
       "      <td>8450</td>\n",
       "      <td>Pave</td>\n",
       "      <td>NaN</td>\n",
       "      <td>Reg</td>\n",
       "      <td>Lvl</td>\n",
       "      <td>AllPub</td>\n",
       "      <td>Inside</td>\n",
       "      <td>...</td>\n",
       "      <td>0</td>\n",
       "      <td>NaN</td>\n",
       "      <td>NaN</td>\n",
       "      <td>NaN</td>\n",
       "      <td>0</td>\n",
       "      <td>2</td>\n",
       "      <td>2008</td>\n",
       "      <td>WD</td>\n",
       "      <td>Normal</td>\n",
       "      <td>208500</td>\n",
       "    </tr>\n",
       "    <tr>\n",
       "      <th>2</th>\n",
       "      <td>20</td>\n",
       "      <td>RL</td>\n",
       "      <td>80.0</td>\n",
       "      <td>9600</td>\n",
       "      <td>Pave</td>\n",
       "      <td>NaN</td>\n",
       "      <td>Reg</td>\n",
       "      <td>Lvl</td>\n",
       "      <td>AllPub</td>\n",
       "      <td>FR2</td>\n",
       "      <td>...</td>\n",
       "      <td>0</td>\n",
       "      <td>NaN</td>\n",
       "      <td>NaN</td>\n",
       "      <td>NaN</td>\n",
       "      <td>0</td>\n",
       "      <td>5</td>\n",
       "      <td>2007</td>\n",
       "      <td>WD</td>\n",
       "      <td>Normal</td>\n",
       "      <td>181500</td>\n",
       "    </tr>\n",
       "    <tr>\n",
       "      <th>3</th>\n",
       "      <td>60</td>\n",
       "      <td>RL</td>\n",
       "      <td>68.0</td>\n",
       "      <td>11250</td>\n",
       "      <td>Pave</td>\n",
       "      <td>NaN</td>\n",
       "      <td>IR1</td>\n",
       "      <td>Lvl</td>\n",
       "      <td>AllPub</td>\n",
       "      <td>Inside</td>\n",
       "      <td>...</td>\n",
       "      <td>0</td>\n",
       "      <td>NaN</td>\n",
       "      <td>NaN</td>\n",
       "      <td>NaN</td>\n",
       "      <td>0</td>\n",
       "      <td>9</td>\n",
       "      <td>2008</td>\n",
       "      <td>WD</td>\n",
       "      <td>Normal</td>\n",
       "      <td>223500</td>\n",
       "    </tr>\n",
       "    <tr>\n",
       "      <th>4</th>\n",
       "      <td>70</td>\n",
       "      <td>RL</td>\n",
       "      <td>60.0</td>\n",
       "      <td>9550</td>\n",
       "      <td>Pave</td>\n",
       "      <td>NaN</td>\n",
       "      <td>IR1</td>\n",
       "      <td>Lvl</td>\n",
       "      <td>AllPub</td>\n",
       "      <td>Corner</td>\n",
       "      <td>...</td>\n",
       "      <td>0</td>\n",
       "      <td>NaN</td>\n",
       "      <td>NaN</td>\n",
       "      <td>NaN</td>\n",
       "      <td>0</td>\n",
       "      <td>2</td>\n",
       "      <td>2006</td>\n",
       "      <td>WD</td>\n",
       "      <td>Abnorml</td>\n",
       "      <td>140000</td>\n",
       "    </tr>\n",
       "    <tr>\n",
       "      <th>5</th>\n",
       "      <td>60</td>\n",
       "      <td>RL</td>\n",
       "      <td>84.0</td>\n",
       "      <td>14260</td>\n",
       "      <td>Pave</td>\n",
       "      <td>NaN</td>\n",
       "      <td>IR1</td>\n",
       "      <td>Lvl</td>\n",
       "      <td>AllPub</td>\n",
       "      <td>FR2</td>\n",
       "      <td>...</td>\n",
       "      <td>0</td>\n",
       "      <td>NaN</td>\n",
       "      <td>NaN</td>\n",
       "      <td>NaN</td>\n",
       "      <td>0</td>\n",
       "      <td>12</td>\n",
       "      <td>2008</td>\n",
       "      <td>WD</td>\n",
       "      <td>Normal</td>\n",
       "      <td>250000</td>\n",
       "    </tr>\n",
       "    <tr>\n",
       "      <th>6</th>\n",
       "      <td>50</td>\n",
       "      <td>RL</td>\n",
       "      <td>85.0</td>\n",
       "      <td>14115</td>\n",
       "      <td>Pave</td>\n",
       "      <td>NaN</td>\n",
       "      <td>IR1</td>\n",
       "      <td>Lvl</td>\n",
       "      <td>AllPub</td>\n",
       "      <td>Inside</td>\n",
       "      <td>...</td>\n",
       "      <td>0</td>\n",
       "      <td>NaN</td>\n",
       "      <td>MnPrv</td>\n",
       "      <td>Shed</td>\n",
       "      <td>700</td>\n",
       "      <td>10</td>\n",
       "      <td>2009</td>\n",
       "      <td>WD</td>\n",
       "      <td>Normal</td>\n",
       "      <td>143000</td>\n",
       "    </tr>\n",
       "    <tr>\n",
       "      <th>7</th>\n",
       "      <td>20</td>\n",
       "      <td>RL</td>\n",
       "      <td>75.0</td>\n",
       "      <td>10084</td>\n",
       "      <td>Pave</td>\n",
       "      <td>NaN</td>\n",
       "      <td>Reg</td>\n",
       "      <td>Lvl</td>\n",
       "      <td>AllPub</td>\n",
       "      <td>Inside</td>\n",
       "      <td>...</td>\n",
       "      <td>0</td>\n",
       "      <td>NaN</td>\n",
       "      <td>NaN</td>\n",
       "      <td>NaN</td>\n",
       "      <td>0</td>\n",
       "      <td>8</td>\n",
       "      <td>2007</td>\n",
       "      <td>WD</td>\n",
       "      <td>Normal</td>\n",
       "      <td>307000</td>\n",
       "    </tr>\n",
       "    <tr>\n",
       "      <th>8</th>\n",
       "      <td>60</td>\n",
       "      <td>RL</td>\n",
       "      <td>NaN</td>\n",
       "      <td>10382</td>\n",
       "      <td>Pave</td>\n",
       "      <td>NaN</td>\n",
       "      <td>IR1</td>\n",
       "      <td>Lvl</td>\n",
       "      <td>AllPub</td>\n",
       "      <td>Corner</td>\n",
       "      <td>...</td>\n",
       "      <td>0</td>\n",
       "      <td>NaN</td>\n",
       "      <td>NaN</td>\n",
       "      <td>Shed</td>\n",
       "      <td>350</td>\n",
       "      <td>11</td>\n",
       "      <td>2009</td>\n",
       "      <td>WD</td>\n",
       "      <td>Normal</td>\n",
       "      <td>200000</td>\n",
       "    </tr>\n",
       "    <tr>\n",
       "      <th>9</th>\n",
       "      <td>50</td>\n",
       "      <td>RM</td>\n",
       "      <td>51.0</td>\n",
       "      <td>6120</td>\n",
       "      <td>Pave</td>\n",
       "      <td>NaN</td>\n",
       "      <td>Reg</td>\n",
       "      <td>Lvl</td>\n",
       "      <td>AllPub</td>\n",
       "      <td>Inside</td>\n",
       "      <td>...</td>\n",
       "      <td>0</td>\n",
       "      <td>NaN</td>\n",
       "      <td>NaN</td>\n",
       "      <td>NaN</td>\n",
       "      <td>0</td>\n",
       "      <td>4</td>\n",
       "      <td>2008</td>\n",
       "      <td>WD</td>\n",
       "      <td>Abnorml</td>\n",
       "      <td>129900</td>\n",
       "    </tr>\n",
       "    <tr>\n",
       "      <th>10</th>\n",
       "      <td>190</td>\n",
       "      <td>RL</td>\n",
       "      <td>50.0</td>\n",
       "      <td>7420</td>\n",
       "      <td>Pave</td>\n",
       "      <td>NaN</td>\n",
       "      <td>Reg</td>\n",
       "      <td>Lvl</td>\n",
       "      <td>AllPub</td>\n",
       "      <td>Corner</td>\n",
       "      <td>...</td>\n",
       "      <td>0</td>\n",
       "      <td>NaN</td>\n",
       "      <td>NaN</td>\n",
       "      <td>NaN</td>\n",
       "      <td>0</td>\n",
       "      <td>1</td>\n",
       "      <td>2008</td>\n",
       "      <td>WD</td>\n",
       "      <td>Normal</td>\n",
       "      <td>118000</td>\n",
       "    </tr>\n",
       "  </tbody>\n",
       "</table>\n",
       "<p>10 rows × 80 columns</p>\n",
       "</div>"
      ],
      "text/plain": [
       "    MSSubClass MSZoning  LotFrontage  LotArea Street Alley LotShape  \\\n",
       "Id                                                                    \n",
       "1           60       RL         65.0     8450   Pave   NaN      Reg   \n",
       "2           20       RL         80.0     9600   Pave   NaN      Reg   \n",
       "3           60       RL         68.0    11250   Pave   NaN      IR1   \n",
       "4           70       RL         60.0     9550   Pave   NaN      IR1   \n",
       "5           60       RL         84.0    14260   Pave   NaN      IR1   \n",
       "6           50       RL         85.0    14115   Pave   NaN      IR1   \n",
       "7           20       RL         75.0    10084   Pave   NaN      Reg   \n",
       "8           60       RL          NaN    10382   Pave   NaN      IR1   \n",
       "9           50       RM         51.0     6120   Pave   NaN      Reg   \n",
       "10         190       RL         50.0     7420   Pave   NaN      Reg   \n",
       "\n",
       "   LandContour Utilities LotConfig  ... PoolArea PoolQC  Fence MiscFeature  \\\n",
       "Id                                  ...                                      \n",
       "1          Lvl    AllPub    Inside  ...        0    NaN    NaN         NaN   \n",
       "2          Lvl    AllPub       FR2  ...        0    NaN    NaN         NaN   \n",
       "3          Lvl    AllPub    Inside  ...        0    NaN    NaN         NaN   \n",
       "4          Lvl    AllPub    Corner  ...        0    NaN    NaN         NaN   \n",
       "5          Lvl    AllPub       FR2  ...        0    NaN    NaN         NaN   \n",
       "6          Lvl    AllPub    Inside  ...        0    NaN  MnPrv        Shed   \n",
       "7          Lvl    AllPub    Inside  ...        0    NaN    NaN         NaN   \n",
       "8          Lvl    AllPub    Corner  ...        0    NaN    NaN        Shed   \n",
       "9          Lvl    AllPub    Inside  ...        0    NaN    NaN         NaN   \n",
       "10         Lvl    AllPub    Corner  ...        0    NaN    NaN         NaN   \n",
       "\n",
       "   MiscVal MoSold  YrSold  SaleType  SaleCondition  SalePrice  \n",
       "Id                                                             \n",
       "1        0      2    2008        WD         Normal     208500  \n",
       "2        0      5    2007        WD         Normal     181500  \n",
       "3        0      9    2008        WD         Normal     223500  \n",
       "4        0      2    2006        WD        Abnorml     140000  \n",
       "5        0     12    2008        WD         Normal     250000  \n",
       "6      700     10    2009        WD         Normal     143000  \n",
       "7        0      8    2007        WD         Normal     307000  \n",
       "8      350     11    2009        WD         Normal     200000  \n",
       "9        0      4    2008        WD        Abnorml     129900  \n",
       "10       0      1    2008        WD         Normal     118000  \n",
       "\n",
       "[10 rows x 80 columns]"
      ]
     },
     "execution_count": 20,
     "metadata": {},
     "output_type": "execute_result"
    }
   ],
   "source": [
    "house_sale_price_raw.head(10)"
   ]
  },
  {
   "cell_type": "markdown",
   "metadata": {},
   "source": [
    "#### Dataset de testes"
   ]
  },
  {
   "cell_type": "code",
   "execution_count": 21,
   "metadata": {},
   "outputs": [],
   "source": [
    "# house_sale_price_test.head(10)"
   ]
  },
  {
   "cell_type": "markdown",
   "metadata": {},
   "source": [
    "#### Nomes das colunas"
   ]
  },
  {
   "cell_type": "code",
   "execution_count": 22,
   "metadata": {},
   "outputs": [
    {
     "name": "stdout",
     "output_type": "stream",
     "text": [
      "Index(['MSSubClass', 'MSZoning', 'LotFrontage', 'LotArea', 'Street', 'Alley',\n",
      "       'LotShape', 'LandContour', 'Utilities', 'LotConfig', 'LandSlope',\n",
      "       'Neighborhood', 'Condition1', 'Condition2', 'BldgType', 'HouseStyle',\n",
      "       'OverallQual', 'OverallCond', 'YearBuilt', 'YearRemodAdd', 'RoofStyle',\n",
      "       'RoofMatl', 'Exterior1st', 'Exterior2nd', 'MasVnrType', 'MasVnrArea',\n",
      "       'ExterQual', 'ExterCond', 'Foundation', 'BsmtQual', 'BsmtCond',\n",
      "       'BsmtExposure', 'BsmtFinType1', 'BsmtFinSF1', 'BsmtFinType2',\n",
      "       'BsmtFinSF2', 'BsmtUnfSF', 'TotalBsmtSF', 'Heating', 'HeatingQC',\n",
      "       'CentralAir', 'Electrical', '1stFlrSF', '2ndFlrSF', 'LowQualFinSF',\n",
      "       'GrLivArea', 'BsmtFullBath', 'BsmtHalfBath', 'FullBath', 'HalfBath',\n",
      "       'BedroomAbvGr', 'KitchenAbvGr', 'KitchenQual', 'TotRmsAbvGrd',\n",
      "       'Functional', 'Fireplaces', 'FireplaceQu', 'GarageType', 'GarageYrBlt',\n",
      "       'GarageFinish', 'GarageCars', 'GarageArea', 'GarageQual', 'GarageCond',\n",
      "       'PavedDrive', 'WoodDeckSF', 'OpenPorchSF', 'EnclosedPorch', '3SsnPorch',\n",
      "       'ScreenPorch', 'PoolArea', 'PoolQC', 'Fence', 'MiscFeature', 'MiscVal',\n",
      "       'MoSold', 'YrSold', 'SaleType', 'SaleCondition', 'SalePrice'],\n",
      "      dtype='object')\n"
     ]
    }
   ],
   "source": [
    "print(house_sale_price_raw.columns)"
   ]
  },
  {
   "cell_type": "markdown",
   "metadata": {},
   "source": [
    "### Realizando testes no dataset de treino"
   ]
  },
  {
   "cell_type": "code",
   "execution_count": 23,
   "metadata": {},
   "outputs": [
    {
     "name": "stdout",
     "output_type": "stream",
     "text": [
      "MSSubClass:  [ 60  20  70  50 190  45  90 120  30  85  80 160  75 180  40]\n",
      "MSZoning:  ['RL' 'RM' 'C (all)' 'FV' 'RH']\n"
     ]
    }
   ],
   "source": [
    "print(\"MSSubClass: \", house_sale_price_raw.MSSubClass.unique())\n",
    "print(\"MSZoning: \", house_sale_price_raw.MSZoning.unique())"
   ]
  },
  {
   "cell_type": "code",
   "execution_count": 24,
   "metadata": {},
   "outputs": [
    {
     "name": "stdout",
     "output_type": "stream",
     "text": [
      "Tipos de pavimentação da rua:  ['Pave' 'Grvl']\n"
     ]
    }
   ],
   "source": [
    "print(\"Tipos de pavimentação da rua: \", house_sale_price_raw.Street.unique())"
   ]
  },
  {
   "cell_type": "code",
   "execution_count": 25,
   "metadata": {},
   "outputs": [
    {
     "name": "stdout",
     "output_type": "stream",
     "text": [
      "Tipos de pavimento:  [nan 'Grvl' 'Pave']\n"
     ]
    }
   ],
   "source": [
    "print(\"Tipos de pavimento: \", house_sale_price_raw.Alley.unique())"
   ]
  },
  {
   "cell_type": "code",
   "execution_count": 26,
   "metadata": {},
   "outputs": [
    {
     "name": "stdout",
     "output_type": "stream",
     "text": [
      "Formas geométricas do terreno onde a casa foi construida:  ['Reg' 'IR1' 'IR2' 'IR3']\n"
     ]
    }
   ],
   "source": [
    "print(\"Formas geométricas do terreno onde a casa foi construida: \", house_sale_price_raw.LotShape.unique())"
   ]
  },
  {
   "cell_type": "code",
   "execution_count": 27,
   "metadata": {},
   "outputs": [
    {
     "name": "stdout",
     "output_type": "stream",
     "text": [
      "Contorno do terreno onde a casa foi construida:  ['Lvl' 'Bnk' 'Low' 'HLS']\n"
     ]
    }
   ],
   "source": [
    "print(\"Contorno do terreno onde a casa foi construida: \", house_sale_price_raw.LandContour.unique())"
   ]
  },
  {
   "cell_type": "code",
   "execution_count": 28,
   "metadata": {},
   "outputs": [
    {
     "name": "stdout",
     "output_type": "stream",
     "text": [
      "Datas das reformas anteriores:  [2003 1976 2002 1970 2000 1995 2005 1973 1950 1965 2006 1962 2007 1960\n",
      " 2001 1967 2004 2008 1997 1959 1990 1955 1983 1980 1966 1963 1987 1964\n",
      " 1972 1996 1998 1989 1953 1956 1968 1981 1992 2009 1982 1961 1993 1999\n",
      " 1985 1979 1977 1969 1958 1991 1971 1952 1975 2010 1984 1986 1994 1988\n",
      " 1954 1957 1951 1978 1974]\n"
     ]
    }
   ],
   "source": [
    "print(\"Datas das reformas anteriores: \", house_sale_price_raw.YearRemodAdd.unique())"
   ]
  },
  {
   "cell_type": "code",
   "execution_count": 29,
   "metadata": {},
   "outputs": [
    {
     "name": "stdout",
     "output_type": "stream",
     "text": [
      "Largura de frente do terreno (em pés):  [ 65.  80.  68.  60.  84.  85.  75.  nan  51.  50.  70.  91.  72.  66.\n",
      " 101.  57.  44. 110.  98.  47. 108. 112.  74. 115.  61.  48.  33.  52.\n",
      " 100.  24.  89.  63.  76.  81.  95.  69.  21.  32.  78. 121. 122.  40.\n",
      " 105.  73.  77.  64.  94.  34.  90.  55.  88.  82.  71. 120. 107.  92.\n",
      " 134.  62.  86. 141.  97.  54.  41.  79. 174.  99.  67.  83.  43. 103.\n",
      "  93.  30. 129. 140.  35.  37. 118.  87. 116. 150. 111.  49.  96.  59.\n",
      "  36.  56. 102.  58.  38. 109. 130.  53. 137.  45. 106. 104.  42.  39.\n",
      " 144. 114. 128. 149. 313. 168. 182. 138. 160. 152. 124. 153.  46.]\n"
     ]
    }
   ],
   "source": [
    "print(\"Largura de frente do terreno (em pés): \", house_sale_price_raw.LotFrontage.unique())"
   ]
  },
  {
   "cell_type": "code",
   "execution_count": 30,
   "metadata": {},
   "outputs": [
    {
     "name": "stdout",
     "output_type": "stream",
     "text": [
      "Área do lote(em pés^2):  [ 8450  9600 11250 ... 17217 13175  9717]\n"
     ]
    }
   ],
   "source": [
    "print(\"Área do lote(em pés^2): \", house_sale_price_raw.LotArea.unique())"
   ]
  },
  {
   "cell_type": "code",
   "execution_count": 31,
   "metadata": {},
   "outputs": [
    {
     "name": "stdout",
     "output_type": "stream",
     "text": [
      "Área da lareira:  [  0 176 198 291 252  99 184 168 130 142 192 410 224 266 170 154 153 144\n",
      " 128 259 160 271 234 374 185 182  90 396 140 276 180 161 145 200 122  95\n",
      " 120  60 126 189 260 147 385 287 156 100 216 210 197 204 225 152 175 312\n",
      " 222 265 322 190 233  63  53 143 273 288 263  80 163 116 480 178 440 155\n",
      " 220 119 165  40]\n"
     ]
    }
   ],
   "source": [
    "print(\"Área da lareira: \", house_sale_price_raw.ScreenPorch.unique())"
   ]
  },
  {
   "cell_type": "code",
   "execution_count": 32,
   "metadata": {},
   "outputs": [
    {
     "name": "stdout",
     "output_type": "stream",
     "text": [
      "Angulação do terreno:  ['Gtl' 'Mod' 'Sev']\n"
     ]
    }
   ],
   "source": [
    "print(\"Angulação do terreno: \", house_sale_price_raw.LandSlope.unique())"
   ]
  },
  {
   "cell_type": "code",
   "execution_count": 33,
   "metadata": {},
   "outputs": [
    {
     "name": "stdout",
     "output_type": "stream",
     "text": [
      "Número de casas que possuem piscina\n",
      "e a área da piscina (se possuir):\n",
      " PoolArea\n",
      "0      1453\n",
      "480       1\n",
      "512       1\n",
      "519       1\n",
      "555       1\n",
      "576       1\n",
      "648       1\n",
      "738       1\n",
      "Name: count, dtype: int64\n"
     ]
    }
   ],
   "source": [
    "print(\"Número de casas que possuem piscina\\ne a área da piscina (se possuir):\\n\", house_sale_price_raw.PoolArea.value_counts().sort_index())"
   ]
  },
  {
   "cell_type": "code",
   "execution_count": 34,
   "metadata": {},
   "outputs": [
    {
     "name": "stdout",
     "output_type": "stream",
     "text": [
      "PoolQC:\n",
      " [nan 'Ex' 'Fa' 'Gd']\n"
     ]
    }
   ],
   "source": [
    "print(\"PoolQC:\\n\", house_sale_price_raw.PoolQC.unique())"
   ]
  },
  {
   "cell_type": "code",
   "execution_count": 35,
   "metadata": {},
   "outputs": [
    {
     "name": "stdout",
     "output_type": "stream",
     "text": [
      "Tipo de muro:  [nan 'MnPrv' 'GdWo' 'GdPrv' 'MnWw']\n"
     ]
    }
   ],
   "source": [
    "print(\"Tipo de muro: \", house_sale_price_raw.Fence.unique())"
   ]
  },
  {
   "cell_type": "code",
   "execution_count": 36,
   "metadata": {},
   "outputs": [
    {
     "name": "stdout",
     "output_type": "stream",
     "text": [
      "Tipo da venda:  ['WD' 'New' 'COD' 'ConLD' 'ConLI' 'CWD' 'ConLw' 'Con' 'Oth']\n"
     ]
    }
   ],
   "source": [
    "print(\"Tipo da venda: \", house_sale_price_raw.SaleType.unique())"
   ]
  },
  {
   "cell_type": "code",
   "execution_count": 37,
   "metadata": {},
   "outputs": [
    {
     "name": "stdout",
     "output_type": "stream",
     "text": [
      "Ano da venda:  [2008 2007 2006 2009 2010]\n",
      "Mês da venda:  [ 2  5  9 12 10  8 11  4  1  7  3  6]\n"
     ]
    }
   ],
   "source": [
    "print(\"Ano da venda: \", house_sale_price_raw.YrSold.unique())\n",
    "print(\"Mês da venda: \", house_sale_price_raw.MoSold.unique())"
   ]
  },
  {
   "cell_type": "code",
   "execution_count": 38,
   "metadata": {},
   "outputs": [
    {
     "name": "stdout",
     "output_type": "stream",
     "text": [
      "BsmtQual:  ['Gd' 'TA' 'Ex' nan 'Fa']\n",
      "BsmtCond:  ['TA' 'Gd' nan 'Fa' 'Po']\n"
     ]
    }
   ],
   "source": [
    "print(\"BsmtQual: \", house_sale_price_raw.BsmtQual.unique())\n",
    "print(\"BsmtCond: \", house_sale_price_raw.BsmtCond.unique())"
   ]
  },
  {
   "cell_type": "code",
   "execution_count": 39,
   "metadata": {},
   "outputs": [
    {
     "name": "stdout",
     "output_type": "stream",
     "text": [
      "Utilidades:  ['AllPub' 'NoSeWa']\n"
     ]
    }
   ],
   "source": [
    "print(\"Utilidades: \", house_sale_price_raw.Utilities.unique())"
   ]
  },
  {
   "cell_type": "code",
   "execution_count": 40,
   "metadata": {},
   "outputs": [
    {
     "name": "stdout",
     "output_type": "stream",
     "text": [
      "Fundação da casa:  ['PConc' 'CBlock' 'BrkTil' 'Wood' 'Slab' 'Stone']\n"
     ]
    }
   ],
   "source": [
    "print(\"Fundação da casa: \", house_sale_price_raw.Foundation.unique())"
   ]
  },
  {
   "cell_type": "markdown",
   "metadata": {},
   "source": [
    "## Tratando os datasets"
   ]
  },
  {
   "cell_type": "code",
   "execution_count": 41,
   "metadata": {},
   "outputs": [
    {
     "name": "stdout",
     "output_type": "stream",
     "text": [
      "80 \n",
      "\n",
      " Index(['MSSubClass', 'MSZoning', 'LotFrontage', 'LotArea', 'Street', 'Alley',\n",
      "       'LotShape', 'LandContour', 'Utilities', 'LotConfig', 'LandSlope',\n",
      "       'Neighborhood', 'Condition1', 'Condition2', 'BldgType', 'HouseStyle',\n",
      "       'OverallQual', 'OverallCond', 'YearBuilt', 'YearRemodAdd', 'RoofStyle',\n",
      "       'RoofMatl', 'Exterior1st', 'Exterior2nd', 'MasVnrType', 'MasVnrArea',\n",
      "       'ExterQual', 'ExterCond', 'Foundation', 'BsmtQual', 'BsmtCond',\n",
      "       'BsmtExposure', 'BsmtFinType1', 'BsmtFinSF1', 'BsmtFinType2',\n",
      "       'BsmtFinSF2', 'BsmtUnfSF', 'TotalBsmtSF', 'Heating', 'HeatingQC',\n",
      "       'CentralAir', 'Electrical', '1stFlrSF', '2ndFlrSF', 'LowQualFinSF',\n",
      "       'GrLivArea', 'BsmtFullBath', 'BsmtHalfBath', 'FullBath', 'HalfBath',\n",
      "       'BedroomAbvGr', 'KitchenAbvGr', 'KitchenQual', 'TotRmsAbvGrd',\n",
      "       'Functional', 'Fireplaces', 'FireplaceQu', 'GarageType', 'GarageYrBlt',\n",
      "       'GarageFinish', 'GarageCars', 'GarageArea', 'GarageQual', 'GarageCond',\n",
      "       'PavedDrive', 'WoodDeckSF', 'OpenPorchSF', 'EnclosedPorch', '3SsnPorch',\n",
      "       'ScreenPorch', 'PoolArea', 'PoolQC', 'Fence', 'MiscFeature', 'MiscVal',\n",
      "       'MoSold', 'YrSold', 'SaleType', 'SaleCondition', 'SalePrice'],\n",
      "      dtype='object')\n"
     ]
    }
   ],
   "source": [
    "colunas = house_sale_price_raw.columns.copy(deep = True)\n",
    "print(f\"{len(colunas)} \\n\\n {colunas}\")"
   ]
  },
  {
   "cell_type": "code",
   "execution_count": 42,
   "metadata": {},
   "outputs": [],
   "source": [
    "colunas = [\"MSSubClass\", \"MSZoning\", \"Street\", \"Alley\", \"Condition1\", \"Condition2\", \"BldgType\", \"MasVnrArea\", \"MasVnrType\",\n",
    "    \"Exterior1st\", \"Exterior2nd\", \"BsmtQual\", \"BsmtCond\", \"BsmtExposure\", \"BsmtFinType1\", \"BsmtFinSF1\", \"BsmtFinType2\",\n",
    "    \"BsmtFinSF2\", \"BsmtUnfSF\", \"TotalBsmtSF\", \"Heating\", \"HeatingQC\", \"CentralAir\", \"Electrical\",\n",
    "    \"1stFlrSF\", \"2ndFlrSF\", \"LowQualFinSF\", \"GrLivArea\", \"BsmtFullBath\", \"BsmtHalfBath\",\n",
    "    \"KitchenAbvGr\", \"KitchenQual\", \"TotRmsAbvGrd\", \"Functional\", \"FireplaceQu\", \"PavedDrive\",\n",
    "    \"WoodDeckSF\", \"OpenPorchSF\", \"EnclosedPorch\", \"3SsnPorch\", \"ScreenPorch\",\"Fence\",\n",
    "    \"MiscFeature\", \"MiscVal\", \"SaleType\"]"
   ]
  },
  {
   "cell_type": "markdown",
   "metadata": {},
   "source": [
    "### Excluindo algumas colunas "
   ]
  },
  {
   "cell_type": "code",
   "execution_count": 43,
   "metadata": {},
   "outputs": [
    {
     "name": "stdout",
     "output_type": "stream",
     "text": [
      "Quantidade de colunas:  35 \n",
      "\n",
      " Index(['LotFrontage', 'LotArea', 'LotShape', 'LandContour', 'Utilities',\n",
      "       'LotConfig', 'LandSlope', 'Neighborhood', 'HouseStyle', 'OverallQual',\n",
      "       'OverallCond', 'YearBuilt', 'YearRemodAdd', 'RoofStyle', 'RoofMatl',\n",
      "       'ExterQual', 'ExterCond', 'Foundation', 'FullBath', 'HalfBath',\n",
      "       'BedroomAbvGr', 'Fireplaces', 'GarageType', 'GarageYrBlt',\n",
      "       'GarageFinish', 'GarageCars', 'GarageArea', 'GarageQual', 'GarageCond',\n",
      "       'PoolArea', 'PoolQC', 'MoSold', 'YrSold', 'SaleCondition', 'SalePrice'],\n",
      "      dtype='object')\n"
     ]
    }
   ],
   "source": [
    "house_sale_price_processed = house_sale_price_raw.drop(columns = colunas)\n",
    "print(\"Quantidade de colunas: \", len(house_sale_price_processed.columns), \"\\n\\n\", house_sale_price_processed.columns)"
   ]
  },
  {
   "cell_type": "markdown",
   "metadata": {},
   "source": [
    "### Excluindo mais algumas colunas\n",
    "Foi decidido trabalhar com 15 ou menos colunas"
   ]
  },
  {
   "cell_type": "code",
   "execution_count": 44,
   "metadata": {},
   "outputs": [
    {
     "name": "stdout",
     "output_type": "stream",
     "text": [
      "17\n"
     ]
    }
   ],
   "source": [
    "colunas = [\"LandContour\", \"Utilities\", \"LotConfig\",\n",
    "    \"HouseStyle\", \"OverallQual\", \"RoofStyle\", \"RoofMatl\",\n",
    "    \"GarageType\", \"GarageYrBlt\", \"GarageFinish\", \"MoSold\",\n",
    "    \"SaleCondition\", \"OverallCond\", \"Foundation\", \"GarageQual\",\n",
    "    \"GarageCond\", \"PoolQC\"\n",
    "    ]\n",
    "\n",
    "print(len(colunas))"
   ]
  },
  {
   "cell_type": "code",
   "execution_count": 45,
   "metadata": {},
   "outputs": [
    {
     "name": "stdout",
     "output_type": "stream",
     "text": [
      "Quantidade de colunas:  18 \n",
      "\n",
      " Index(['LotFrontage', 'LotArea', 'LotShape', 'LandSlope', 'Neighborhood',\n",
      "       'YearBuilt', 'YearRemodAdd', 'ExterQual', 'ExterCond', 'FullBath',\n",
      "       'HalfBath', 'BedroomAbvGr', 'Fireplaces', 'GarageCars', 'GarageArea',\n",
      "       'PoolArea', 'YrSold', 'SalePrice'],\n",
      "      dtype='object')\n"
     ]
    }
   ],
   "source": [
    "house_sale_price_processed = house_sale_price_processed.drop(columns = colunas)\n",
    "print(\"Quantidade de colunas: \", len(house_sale_price_processed.columns), \"\\n\\n\", house_sale_price_processed.columns)"
   ]
  },
  {
   "cell_type": "markdown",
   "metadata": {},
   "source": [
    "### Verificando dados faltantes - *NaN*s"
   ]
  },
  {
   "cell_type": "code",
   "execution_count": 46,
   "metadata": {},
   "outputs": [
    {
     "data": {
      "text/plain": [
       "LotFrontage      True\n",
       "LotArea         False\n",
       "LotShape        False\n",
       "LandSlope       False\n",
       "Neighborhood    False\n",
       "YearBuilt       False\n",
       "YearRemodAdd    False\n",
       "ExterQual       False\n",
       "ExterCond       False\n",
       "FullBath        False\n",
       "HalfBath        False\n",
       "BedroomAbvGr    False\n",
       "Fireplaces      False\n",
       "GarageCars      False\n",
       "GarageArea      False\n",
       "PoolArea        False\n",
       "YrSold          False\n",
       "SalePrice       False\n",
       "dtype: bool"
      ]
     },
     "execution_count": 46,
     "metadata": {},
     "output_type": "execute_result"
    }
   ],
   "source": [
    "house_sale_price_processed.isna().any()"
   ]
  },
  {
   "cell_type": "markdown",
   "metadata": {},
   "source": [
    "### Removendo valores nulos/faltantes - *NaN*s"
   ]
  },
  {
   "cell_type": "code",
   "execution_count": 47,
   "metadata": {},
   "outputs": [
    {
     "name": "stdout",
     "output_type": "stream",
     "text": [
      "69.0\n"
     ]
    }
   ],
   "source": [
    "mediana = house_sale_price_processed.LotFrontage.median()\n",
    "print(mediana)"
   ]
  },
  {
   "cell_type": "markdown",
   "metadata": {},
   "source": [
    "#### Vamos tornar todos os valores *NaN*s em valores equivalentes à média da série"
   ]
  },
  {
   "cell_type": "code",
   "execution_count": 48,
   "metadata": {},
   "outputs": [
    {
     "data": {
      "text/plain": [
       "LotFrontage     False\n",
       "LotArea         False\n",
       "LotShape        False\n",
       "LandSlope       False\n",
       "Neighborhood    False\n",
       "YearBuilt       False\n",
       "YearRemodAdd    False\n",
       "ExterQual       False\n",
       "ExterCond       False\n",
       "FullBath        False\n",
       "HalfBath        False\n",
       "BedroomAbvGr    False\n",
       "Fireplaces      False\n",
       "GarageCars      False\n",
       "GarageArea      False\n",
       "PoolArea        False\n",
       "YrSold          False\n",
       "SalePrice       False\n",
       "dtype: bool"
      ]
     },
     "execution_count": 48,
     "metadata": {},
     "output_type": "execute_result"
    }
   ],
   "source": [
    "house_sale_price_processed.LotFrontage = house_sale_price_processed.LotFrontage.fillna(mediana)\n",
    "house_sale_price_processed.isna().any()"
   ]
  },
  {
   "cell_type": "markdown",
   "metadata": {},
   "source": [
    "### Verificando os tipos das colunas"
   ]
  },
  {
   "cell_type": "code",
   "execution_count": 49,
   "metadata": {},
   "outputs": [
    {
     "name": "stdout",
     "output_type": "stream",
     "text": [
      "LotFrontage     float64\n",
      "LotArea           int64\n",
      "LotShape         object\n",
      "LandSlope        object\n",
      "Neighborhood     object\n",
      "YearBuilt         int64\n",
      "YearRemodAdd      int64\n",
      "ExterQual        object\n",
      "ExterCond        object\n",
      "FullBath          int64\n",
      "HalfBath          int64\n",
      "BedroomAbvGr      int64\n",
      "Fireplaces        int64\n",
      "GarageCars        int64\n",
      "GarageArea        int64\n",
      "PoolArea          int64\n",
      "YrSold            int64\n",
      "SalePrice         int64\n",
      "dtype: object\n"
     ]
    }
   ],
   "source": [
    "print(house_sale_price_processed.dtypes)"
   ]
  },
  {
   "cell_type": "code",
   "execution_count": 50,
   "metadata": {},
   "outputs": [
    {
     "name": "stdout",
     "output_type": "stream",
     "text": [
      "Máximo 313.0 \n",
      "\n",
      "Mínimo 21.0\n"
     ]
    }
   ],
   "source": [
    "print(\"Máximo\", house_sale_price_processed.LotFrontage.max(), \"\\n\\nMínimo\", house_sale_price_processed.LotFrontage.min())"
   ]
  },
  {
   "cell_type": "code",
   "execution_count": 51,
   "metadata": {},
   "outputs": [
    {
     "name": "stdout",
     "output_type": "stream",
     "text": [
      "Área do lote\n",
      "\n",
      "Máximo 215245 \n",
      "Mínimo 1300\n",
      "\n",
      "\n",
      "Ano no qual foi construido\n",
      "\n",
      "Máximo 2010 \n",
      "Mínimo 1872\n",
      "\n",
      "\n",
      "Ano no qual foi remodelado\n",
      "\n",
      "Máximo 2010 \n",
      "Mínimo 1950\n",
      "\n",
      "\n",
      "Banheiro\n",
      "\n",
      "Máximo 3 \n",
      "Mínimo 0\n"
     ]
    }
   ],
   "source": [
    "print(\"Área do lote\\n\")\n",
    "print(\"Máximo\", house_sale_price_processed.LotArea.max(), \"\\nMínimo\", house_sale_price_processed.LotArea.min())\n",
    "\n",
    "print(\"\\n\\nAno no qual foi construido\\n\")\n",
    "print(\"Máximo\", house_sale_price_processed.YearBuilt.max(), \"\\nMínimo\", house_sale_price_processed.YearBuilt.min())\n",
    "\n",
    "print(\"\\n\\nAno no qual foi remodelado\\n\")\n",
    "print(\"Máximo\", house_sale_price_processed.YearRemodAdd.max(), \"\\nMínimo\", house_sale_price_processed.YearRemodAdd.min())\n",
    "\n",
    "print(\"\\n\\nBanheiro\\n\")\n",
    "print(\"Máximo\", house_sale_price_processed.FullBath.max(), \"\\nMínimo\", house_sale_price_processed.FullBath.min())"
   ]
  },
  {
   "cell_type": "code",
   "execution_count": 52,
   "metadata": {},
   "outputs": [
    {
     "name": "stdout",
     "output_type": "stream",
     "text": [
      "\n",
      "\n",
      "Lavabo\n",
      "\n",
      "Máximo 2 \n",
      "Mínimo 0\n",
      "\n",
      "\n",
      "Os quartos\n",
      "\n",
      "Máximo 8 \n",
      "Mínimo 0\n",
      "\n",
      "\n",
      "Lareiras\n",
      "\n",
      "Máximo 3 \n",
      "Mínimo 0\n",
      "\n",
      "\n",
      "Quantidade de carros na garagem\n",
      "\n",
      "Máximo 4 \n",
      "Mínimo 0\n"
     ]
    }
   ],
   "source": [
    "print(\"\\n\\nLavabo\\n\")\n",
    "print(\"Máximo\", house_sale_price_processed.HalfBath.max(), \"\\nMínimo\", house_sale_price_processed.HalfBath.min())\n",
    "\n",
    "print(\"\\n\\nOs quartos\\n\")\n",
    "print(\"Máximo\", house_sale_price_processed.BedroomAbvGr.max(), \"\\nMínimo\", house_sale_price_processed.BedroomAbvGr.min())\n",
    "\n",
    "print(\"\\n\\nLareiras\\n\")\n",
    "print(\"Máximo\", house_sale_price_processed.Fireplaces.max(), \"\\nMínimo\", house_sale_price_processed.Fireplaces.min())\n",
    "\n",
    "print(\"\\n\\nQuantidade de carros na garagem\\n\")\n",
    "print(\"Máximo\", house_sale_price_processed.GarageCars.max(), \"\\nMínimo\", house_sale_price_processed.GarageCars.min())"
   ]
  },
  {
   "cell_type": "code",
   "execution_count": 53,
   "metadata": {},
   "outputs": [
    {
     "name": "stdout",
     "output_type": "stream",
     "text": [
      "\n",
      "\n",
      "Área da garagem\n",
      "\n",
      "Máximo 1418 \n",
      "Mínimo 0\n",
      "\n",
      "\n",
      "Área da piscina\n",
      "\n",
      "Máximo 738 \n",
      "Mínimo 0\n",
      "\n",
      "\n",
      "Ano no qual foi vendida\n",
      "\n",
      "Máximo 2010 \n",
      "Mínimo 2006\n",
      "\n",
      "\n",
      "Preço de venda\n",
      "\n",
      "Máximo 755000 \n",
      "Mínimo 34900\n"
     ]
    }
   ],
   "source": [
    "print(\"\\n\\nÁrea da garagem\\n\")\n",
    "print(\"Máximo\", house_sale_price_processed.GarageArea.max(), \"\\nMínimo\", house_sale_price_processed.GarageArea.min())\n",
    "\n",
    "print(\"\\n\\nÁrea da piscina\\n\")\n",
    "print(\"Máximo\", house_sale_price_processed.PoolArea.max(), \"\\nMínimo\", house_sale_price_processed.PoolArea.min())\n",
    "\n",
    "print(\"\\n\\nAno no qual foi vendida\\n\")\n",
    "print(\"Máximo\", house_sale_price_processed.YrSold.max(), \"\\nMínimo\", house_sale_price_processed.YrSold.min())\n",
    "\n",
    "print(\"\\n\\nPreço de venda\\n\")\n",
    "print(\"Máximo\", house_sale_price_processed.SalePrice.max(), \"\\nMínimo\", house_sale_price_processed.SalePrice.min())"
   ]
  },
  {
   "cell_type": "markdown",
   "metadata": {},
   "source": [
    "### Alterando os tipos das colunas acima para um tipo de dado menos custoso"
   ]
  },
  {
   "cell_type": "markdown",
   "metadata": {},
   "source": [
    "#### Valores numéricos"
   ]
  },
  {
   "cell_type": "code",
   "execution_count": 54,
   "metadata": {},
   "outputs": [],
   "source": [
    "house_sale_price_processed.LotFrontage = house_sale_price_processed.LotFrontage.astype(\"uint8\")\n",
    "\n",
    "house_sale_price_processed.LotArea = house_sale_price_processed.LotArea.astype(\"uint32\")\n",
    "house_sale_price_processed.YearBuilt = house_sale_price_processed.YearBuilt.astype(\"uint16\")\n",
    "house_sale_price_processed.YearRemodAdd = house_sale_price_processed.YearRemodAdd.astype(\"uint16\")\n",
    "house_sale_price_processed.FullBath = house_sale_price_processed.FullBath.astype(\"uint8\")\n",
    "\n",
    "house_sale_price_processed.HalfBath = house_sale_price_processed.HalfBath.astype(\"uint8\")\n",
    "house_sale_price_processed.BedroomAbvGr = house_sale_price_processed.BedroomAbvGr.astype(\"uint8\")\n",
    "house_sale_price_processed.Fireplaces = house_sale_price_processed.Fireplaces.astype(\"uint8\")\n",
    "house_sale_price_processed.GarageCars = house_sale_price_processed.GarageCars.astype(\"uint8\")\n",
    "\n",
    "house_sale_price_processed.GarageArea = house_sale_price_processed.GarageArea.astype(\"uint16\")\n",
    "house_sale_price_processed.PoolArea = house_sale_price_processed.PoolArea.astype(\"uint16\")\n",
    "house_sale_price_processed.YrSold = house_sale_price_processed.YrSold.astype(\"uint16\")\n",
    "house_sale_price_processed.SalePrice = house_sale_price_processed.SalePrice.astype(\"uint32\")"
   ]
  },
  {
   "cell_type": "markdown",
   "metadata": {},
   "source": [
    "#### Valores não numéricos"
   ]
  },
  {
   "cell_type": "code",
   "execution_count": 55,
   "metadata": {},
   "outputs": [],
   "source": [
    "house_sale_price_processed.LotShape = house_sale_price_processed.LotShape.astype(\"category\")\n",
    "house_sale_price_processed.LandSlope = house_sale_price_processed.LandSlope.astype(\"category\")\n",
    "house_sale_price_processed.Neighborhood = house_sale_price_processed.Neighborhood.astype(\"category\")\n",
    "house_sale_price_processed.ExterQual = house_sale_price_processed.ExterQual.astype(\"category\")\n",
    "house_sale_price_processed.ExterCond = house_sale_price_processed.ExterCond.astype(\"category\")"
   ]
  },
  {
   "cell_type": "code",
   "execution_count": 56,
   "metadata": {},
   "outputs": [
    {
     "name": "stdout",
     "output_type": "stream",
     "text": [
      "<class 'pandas.core.frame.DataFrame'>\n",
      "Index: 1460 entries, 1 to 1460\n",
      "Data columns (total 18 columns):\n",
      " #   Column        Non-Null Count  Dtype   \n",
      "---  ------        --------------  -----   \n",
      " 0   LotFrontage   1460 non-null   uint8   \n",
      " 1   LotArea       1460 non-null   uint32  \n",
      " 2   LotShape      1460 non-null   category\n",
      " 3   LandSlope     1460 non-null   category\n",
      " 4   Neighborhood  1460 non-null   category\n",
      " 5   YearBuilt     1460 non-null   uint16  \n",
      " 6   YearRemodAdd  1460 non-null   uint16  \n",
      " 7   ExterQual     1460 non-null   category\n",
      " 8   ExterCond     1460 non-null   category\n",
      " 9   FullBath      1460 non-null   uint8   \n",
      " 10  HalfBath      1460 non-null   uint8   \n",
      " 11  BedroomAbvGr  1460 non-null   uint8   \n",
      " 12  Fireplaces    1460 non-null   uint8   \n",
      " 13  GarageCars    1460 non-null   uint8   \n",
      " 14  GarageArea    1460 non-null   uint16  \n",
      " 15  PoolArea      1460 non-null   uint16  \n",
      " 16  YrSold        1460 non-null   uint16  \n",
      " 17  SalePrice     1460 non-null   uint32  \n",
      "dtypes: category(5), uint16(5), uint32(2), uint8(6)\n",
      "memory usage: 54.2 KB\n"
     ]
    }
   ],
   "source": [
    "house_sale_price_processed.info()"
   ]
  },
  {
   "cell_type": "markdown",
   "metadata": {},
   "source": [
    "### Nomalizando os dados numéricos via min-max-scaling"
   ]
  },
  {
   "cell_type": "code",
   "execution_count": 57,
   "metadata": {},
   "outputs": [
    {
     "name": "stdout",
     "output_type": "stream",
     "text": [
      "      LotFrontage   LotArea LotShape LandSlope Neighborhood  YearBuilt  \\\n",
      "Id                                                                       \n",
      "1        0.273292  0.033420      Reg       Gtl      CollgCr       2003   \n",
      "2        0.366460  0.038795      Reg       Gtl      Veenker       1976   \n",
      "3        0.291925  0.046507      IR1       Gtl      CollgCr       2001   \n",
      "4        0.242236  0.038561      IR1       Gtl      Crawfor       1915   \n",
      "5        0.391304  0.060576      IR1       Gtl      NoRidge       2000   \n",
      "...           ...       ...      ...       ...          ...        ...   \n",
      "1456     0.254658  0.030929      Reg       Gtl      Gilbert       1999   \n",
      "1457     0.397516  0.055505      Reg       Gtl       NWAmes       1978   \n",
      "1458     0.279503  0.036187      Reg       Gtl      Crawfor       1941   \n",
      "1459     0.291925  0.039342      Reg       Gtl        NAmes       1950   \n",
      "1460     0.335404  0.040370      Reg       Gtl      Edwards       1965   \n",
      "\n",
      "      YearRemodAdd ExterQual ExterCond  FullBath  HalfBath  BedroomAbvGr  \\\n",
      "Id                                                                         \n",
      "1             2003        Gd        TA  0.666667       0.5         0.375   \n",
      "2             1976        TA        TA  0.666667       0.0         0.375   \n",
      "3             2002        Gd        TA  0.666667       0.5         0.375   \n",
      "4             1970        TA        TA  0.333333       0.0         0.375   \n",
      "5             2000        Gd        TA  0.666667       0.5         0.500   \n",
      "...            ...       ...       ...       ...       ...           ...   \n",
      "1456          2000        TA        TA  0.666667       0.5         0.375   \n",
      "1457          1988        TA        TA  0.666667       0.0         0.375   \n",
      "1458          2006        Ex        Gd  0.666667       0.0         0.500   \n",
      "1459          1996        TA        TA  0.333333       0.0         0.250   \n",
      "1460          1965        Gd        TA  0.333333       0.5         0.375   \n",
      "\n",
      "      Fireplaces  GarageCars  GarageArea  PoolArea  YrSold  SalePrice  \n",
      "Id                                                                     \n",
      "1       0.000000        0.50    0.386460       0.0    0.50   0.241078  \n",
      "2       0.333333        0.50    0.324401       0.0    0.25   0.203583  \n",
      "3       0.333333        0.50    0.428773       0.0    0.50   0.261908  \n",
      "4       0.333333        0.75    0.452750       0.0    0.00   0.145952  \n",
      "5       0.333333        0.75    0.589563       0.0    0.50   0.298709  \n",
      "...          ...         ...         ...       ...     ...        ...  \n",
      "1456    0.333333        0.50    0.324401       0.0    0.25   0.194556  \n",
      "1457    0.666667        0.50    0.352609       0.0    1.00   0.243161  \n",
      "1458    0.666667        0.25    0.177715       0.0    1.00   0.321622  \n",
      "1459    0.000000        0.25    0.169252       0.0    1.00   0.148903  \n",
      "1460    0.000000        0.25    0.194640       0.0    0.50   0.156367  \n",
      "\n",
      "[1460 rows x 18 columns]\n"
     ]
    }
   ],
   "source": [
    "copia = house_sale_price_processed.copy(deep = True)\n",
    "colunas_nomalizaveis = [coluna for coluna in house_sale_price_processed.columns if house_sale_price_processed[coluna].name not in [\"LotShape\", \"LandSlope\", \"Neighborhood\", \"ExterQual\", \"ExterCond\", \"YearBuilt\", \"YearRemodAdd\"]]\n",
    "\n",
    "for column in colunas_nomalizaveis:\n",
    "\tcopia[column] = (house_sale_price_processed[column] - house_sale_price_processed[column].min()) / (house_sale_price_processed[column].max() - house_sale_price_processed[column].min())\t\n",
    "\n",
    "print(copia)\n"
   ]
  },
  {
   "cell_type": "markdown",
   "metadata": {},
   "source": [
    "##### Retornando a cópia ao original"
   ]
  },
  {
   "cell_type": "code",
   "execution_count": 58,
   "metadata": {},
   "outputs": [],
   "source": [
    "house_sale_price_processed = copia"
   ]
  },
  {
   "cell_type": "markdown",
   "metadata": {},
   "source": [
    "### Salvando tabela tratada em um novo arquivo\n",
    "#### Formato .pkl foi escolhido"
   ]
  },
  {
   "cell_type": "markdown",
   "metadata": {},
   "source": [
    "#### Salvando em /databases/processed/"
   ]
  },
  {
   "cell_type": "code",
   "execution_count": 59,
   "metadata": {},
   "outputs": [],
   "source": [
    "# Se quiser salvar descomentar bloco a seguir\n",
    "#\n",
    "# house_sale_price_processed.to_pickle(path = \"../databases/processed/house_sale_processed.pkl\")\n",
    "#"
   ]
  },
  {
   "cell_type": "markdown",
   "metadata": {},
   "source": [
    "## Funções auxiliares para plotar gráficos"
   ]
  },
  {
   "cell_type": "markdown",
   "metadata": {},
   "source": [
    "### Gráficos de dispersão"
   ]
  },
  {
   "cell_type": "code",
   "execution_count": 60,
   "metadata": {},
   "outputs": [],
   "source": [
    "def funcao_dispersao (X:pd.Series, Y:pd.Series, titulo:str=\"Gráfico de dispersão\", label_x:str=\"eixo x\", label_y:str=\"eixo y\") -> None:\n",
    "    figure, _ = plt.subplots(figsize = (12, 6))\n",
    "    plt.scatter(\n",
    "        x = X,\n",
    "        y = Y,\n",
    "    )\n",
    "    plt.title(titulo)\n",
    "    plt.xlabel(label_x)\n",
    "    plt.ylabel(label_y)\n",
    "    plt.show()\n",
    "\n",
    "\n",
    "def funcao_linear(X:pd.Series, Y:pd.Series, titulo:str=\"Gráfico linear\", label_x:str=\"eixo x\", label_y:str=\"eixo y\", cor:str=\"red\") -> None:\n",
    "    figure, _ = plt.subplots(figsize = (12, 6))\n",
    "    plt.plot(\n",
    "        X,\n",
    "        Y,\n",
    "        color = cor\n",
    "    )\n",
    "    plt.title(titulo)\n",
    "    plt.xlabel(label_x)\n",
    "    plt.ylabel(label_y)\n",
    "    plt.show()\n"
   ]
  },
  {
   "cell_type": "markdown",
   "metadata": {},
   "source": [
    "## Implementação do **Passo 1**"
   ]
  },
  {
   "cell_type": "markdown",
   "metadata": {},
   "source": [
    "### Escolhendo a variável com base na variância, correlação e covariância"
   ]
  },
  {
   "cell_type": "markdown",
   "metadata": {},
   "source": [
    "#### A variância:"
   ]
  },
  {
   "cell_type": "code",
   "execution_count": 61,
   "metadata": {},
   "outputs": [
    {
     "name": "stdout",
     "output_type": "stream",
     "text": [
      "Frente do terreno:  0.015586208271912762\n",
      "Área do terreno:  0.002175050375804109\n",
      "Ano no qual a casa foi contruida:  911.590607524864\n",
      "Ano no qual a casa remodelada:  425.94088196659794\n",
      "Quantidade de banheiros:  0.033700037530493526\n",
      "Quantidade de lavabos:  0.06318012291236631\n",
      "Área dos quartos (em média):  0.01039121874413586\n",
      "Quantidade de lareiras:  0.046145566189195374\n",
      "Quantidade de carros na garagem:  0.03488107524863952\n",
      "Área da garagem:  0.022718782035919493\n",
      "Tamanho da piscina:  0.00296177019470023\n"
     ]
    }
   ],
   "source": [
    "print(\"Frente do terreno: \", np.var(house_sale_price_processed.LotFrontage))\n",
    "print(\"Área do terreno: \", np.var(house_sale_price_processed.LotArea))\n",
    "print(\"Ano no qual a casa foi contruida: \", np.var(house_sale_price_processed.YearBuilt))\n",
    "print(\"Ano no qual a casa remodelada: \", np.var(house_sale_price_processed.YearRemodAdd))\n",
    "print(\"Quantidade de banheiros: \", np.var(house_sale_price_processed.FullBath))\n",
    "print(\"Quantidade de lavabos: \", np.var(house_sale_price_processed.HalfBath))\n",
    "print(\"Área dos quartos (em média): \", np.var(house_sale_price_processed.BedroomAbvGr))\n",
    "print(\"Quantidade de lareiras: \", np.var(house_sale_price_processed.Fireplaces))\n",
    "print(\"Quantidade de carros na garagem: \", np.var(house_sale_price_processed.GarageCars))\n",
    "print(\"Área da garagem: \", np.var(house_sale_price_processed.GarageArea))\n",
    "print(\"Tamanho da piscina: \", np.var(house_sale_price_processed.PoolArea))"
   ]
  },
  {
   "cell_type": "markdown",
   "metadata": {},
   "source": [
    "#### A correlação:"
   ]
  },
  {
   "cell_type": "code",
   "execution_count": 62,
   "metadata": {},
   "outputs": [
    {
     "name": "stdout",
     "output_type": "stream",
     "text": [
      "Frente do terreno:  [96.49260483]\n",
      "Área do terreno:  [14.73553684]\n",
      "Ano no qual a casa foi contruida:  [586150.48473129]\n",
      "Ano no qual a casa remodelada:  [589319.35760728]\n",
      "Quantidade de banheiros:  [171.02230986]\n",
      "Quantidade de lavabos:  [68.17514442]\n",
      "Área dos quartos (em média):  [108.83973459]\n",
      "Quantidade de lareiras:  [76.6460237]\n",
      "Quantidade de carros na garagem:  [150.05073254]\n",
      "Área da garagem:  [113.88147923]\n",
      "Tamanho da piscina:  [1.91647513]\n"
     ]
    }
   ],
   "source": [
    "print(\"Frente do terreno: \", np.correlate(house_sale_price_processed.LotFrontage, house_sale_price_processed.SalePrice))\n",
    "print(\"Área do terreno: \", np.correlate(house_sale_price_processed.LotArea, house_sale_price_processed.SalePrice))\n",
    "print(\"Ano no qual a casa foi contruida: \", np.correlate(house_sale_price_processed.YearBuilt, house_sale_price_processed.SalePrice))\n",
    "print(\"Ano no qual a casa remodelada: \", np.correlate(house_sale_price_processed.YearRemodAdd, house_sale_price_processed.SalePrice))\n",
    "print(\"Quantidade de banheiros: \", np.correlate(house_sale_price_processed.FullBath, house_sale_price_processed.SalePrice))\n",
    "print(\"Quantidade de lavabos: \", np.correlate(house_sale_price_processed.HalfBath, house_sale_price_processed.SalePrice))\n",
    "print(\"Área dos quartos (em média): \", np.correlate(house_sale_price_processed.BedroomAbvGr, house_sale_price_processed.SalePrice))\n",
    "print(\"Quantidade de lareiras: \", np.correlate(house_sale_price_processed.Fireplaces, house_sale_price_processed.SalePrice))\n",
    "print(\"Quantidade de carros na garagem: \", np.correlate(house_sale_price_processed.GarageCars, house_sale_price_processed.SalePrice))\n",
    "print(\"Área da garagem: \", np.correlate(house_sale_price_processed.GarageArea, house_sale_price_processed.SalePrice))\n",
    "print(\"Tamanho da piscina: \", np.correlate(house_sale_price_processed.PoolArea, house_sale_price_processed.SalePrice))"
   ]
  },
  {
   "cell_type": "markdown",
   "metadata": {},
   "source": [
    "#### A covariância"
   ]
  },
  {
   "cell_type": "code",
   "execution_count": 63,
   "metadata": {},
   "outputs": [
    {
     "name": "stdout",
     "output_type": "stream",
     "text": [
      "Frente do terreno:  [[0.01559689 0.00499224]\n",
      " [0.00499224 0.01217083]]\n",
      "Área do terreno:  [[0.00217654 0.00135797]\n",
      " [0.00135797 0.01217083]]\n",
      "Ano no qual a casa foi contruida:  [[9.12215413e+02 1.74230923e+00]\n",
      " [1.74230923e+00 1.21708305e-02]]\n",
      "Ano no qual a casa remodelada:  [[4.26232822e+02 1.15498938e+00]\n",
      " [1.15498938e+00 1.21708305e-02]]\n",
      "Quantidade de banheiros:  [[0.03372314 0.01135865]\n",
      " [0.01135865 0.01217083]]\n",
      "Quantidade de lavabos:  [[0.06322343 0.00788101]\n",
      " [0.00788101 0.01217083]]\n",
      "Área dos quartos (em média):  [[0.01039834 0.00189235]\n",
      " [0.00189235 0.01217083]]\n",
      "Quantidade de lareiras:  [[0.04617719 0.01106941]\n",
      " [0.01106941 0.01217083]]\n",
      "Quantidade de carros na garagem:  [[0.03490498 0.01319962]\n",
      " [0.01319962 0.01217083]]\n",
      "Área da garagem:  [[0.02273435 0.01037027]\n",
      " [0.01037027 0.01217083]]\n",
      "Tamanho da piscina:  [[0.0029638  0.00055497]\n",
      " [0.00055497 0.01217083]]\n"
     ]
    }
   ],
   "source": [
    "print(\"Frente do terreno: \", np.cov(house_sale_price_processed.LotFrontage, house_sale_price_processed.SalePrice))\n",
    "print(\"Área do terreno: \", np.cov(house_sale_price_processed.LotArea, house_sale_price_processed.SalePrice))\n",
    "print(\"Ano no qual a casa foi contruida: \", np.cov(house_sale_price_processed.YearBuilt, house_sale_price_processed.SalePrice))\n",
    "print(\"Ano no qual a casa remodelada: \", np.cov(house_sale_price_processed.YearRemodAdd, house_sale_price_processed.SalePrice))\n",
    "print(\"Quantidade de banheiros: \", np.cov(house_sale_price_processed.FullBath, house_sale_price_processed.SalePrice))\n",
    "print(\"Quantidade de lavabos: \", np.cov(house_sale_price_processed.HalfBath, house_sale_price_processed.SalePrice))\n",
    "print(\"Área dos quartos (em média): \", np.cov(house_sale_price_processed.BedroomAbvGr, house_sale_price_processed.SalePrice))\n",
    "print(\"Quantidade de lareiras: \", np.cov(house_sale_price_processed.Fireplaces, house_sale_price_processed.SalePrice))\n",
    "print(\"Quantidade de carros na garagem: \", np.cov(house_sale_price_processed.GarageCars, house_sale_price_processed.SalePrice))\n",
    "print(\"Área da garagem: \", np.cov(house_sale_price_processed.GarageArea, house_sale_price_processed.SalePrice))\n",
    "print(\"Tamanho da piscina: \", np.cov(house_sale_price_processed.PoolArea, house_sale_price_processed.SalePrice))"
   ]
  },
  {
   "cell_type": "markdown",
   "metadata": {},
   "source": [
    "### Plotando o gráfico de dispersão"
   ]
  },
  {
   "cell_type": "markdown",
   "metadata": {},
   "source": [
    "#### Visto variância, correlação e covariância,<br>foi escolhido a coluna (variável) YearBuilt - Ano no qual a casa foi construida"
   ]
  },
  {
   "cell_type": "code",
   "execution_count": 64,
   "metadata": {},
   "outputs": [
    {
     "data": {
      "image/png": "[encoded data removed]",
      "text/plain": [
       "<Figure size 1200x600 with 1 Axes>"
      ]
     },
     "metadata": {},
     "output_type": "display_data"
    }
   ],
   "source": [
    "funcao_dispersao(\n",
    "    house_sale_price_processed.YearBuilt,\n",
    "    house_sale_price_processed.SalePrice,\n",
    "    \"Correlação entre o tamanho do terreno e seu preço final\",\n",
    "    \"Ano de Construção\",\n",
    "    \"Preço final de venda\"\n",
    ")"
   ]
  },
  {
   "cell_type": "markdown",
   "metadata": {},
   "source": [
    "## Implementação do **Passo 2**"
   ]
  },
  {
   "cell_type": "markdown",
   "metadata": {},
   "source": [
    "### Função auxiliar para calcular o valor de h<sub>θ</sub>(x<sup>(i)</sup>)"
   ]
  },
  {
   "cell_type": "code",
   "execution_count": 65,
   "metadata": {},
   "outputs": [],
   "source": [
    "def funcao_h_theta(x:float, theta_0:float=1.0, theta_1:float=0.5) -> float:\n",
    "    return (theta_0 + (theta_1 * x))\n"
   ]
  },
  {
   "cell_type": "markdown",
   "metadata": {},
   "source": [
    "### Função de custo *J*"
   ]
  },
  {
   "cell_type": "code",
   "execution_count": 66,
   "metadata": {},
   "outputs": [],
   "source": [
    "def funcao_de_custo(parameter: pd.Series, target: pd.Series, theta_0:float=1.0, theta_1:float=0.5) -> float:\n",
    "    somatorio = 0.0\n",
    "    \n",
    "    for i in range(1, len(parameter) + 1):\n",
    "        h_theta = funcao_h_theta(parameter[i], theta_0, theta_1)\n",
    "        somatorio = somatorio + ((h_theta - target[i]) ** 2)\n",
    "    \n",
    "    return (somatorio / (2 * parameter.shape[0]))\n",
    "    "
   ]
  },
  {
   "cell_type": "markdown",
   "metadata": {},
   "source": [
    "## Implementação do **Passo 3**"
   ]
  },
  {
   "cell_type": "markdown",
   "metadata": {},
   "source": [
    "### Função auxiliar para calcular (h<sub>θ</sub>(x<sup>(i)</sup>) - y<sup>(i)</sup>)"
   ]
  },
  {
   "cell_type": "code",
   "execution_count": 67,
   "metadata": {},
   "outputs": [],
   "source": [
    "def calcula_theta(x:pd.Series, y:pd.Series, theta_0:float, theta_1:float, tamanho:int) -> float:\n",
    "    h_theta = 0.0\n",
    "    \n",
    "    for i in range(1, tamanho + 1):\n",
    "        h_theta = (funcao_h_theta(x[i], theta_0, theta_1) - y[i])\n",
    "    \n",
    "    return h_theta\n"
   ]
  },
  {
   "cell_type": "markdown",
   "metadata": {},
   "source": [
    "### Função gradiente descendente"
   ]
  },
  {
   "cell_type": "code",
   "execution_count": 68,
   "metadata": {},
   "outputs": [],
   "source": [
    "def funcao_gradiente_descendente(x:pd.Series, y:pd.Series, alpha:float, max_iter:int=20, tolerancia:float=0.002) -> (float, float):\n",
    "    tamanho = x.shape[0]\n",
    "    theta_0 = 0.0\n",
    "    theta_1 = 0.0\n",
    "    sucesso = 0\n",
    "    \n",
    "    for i in range(1, max_iter + 1):\n",
    "        theta_0_temp = alpha * calcula_theta(x, y, theta_0, theta_1, tamanho) / tamanho\n",
    "        theta_1_temp = alpha * (calcula_theta(x, y, theta_0, theta_1, tamanho) * x[i]) / tamanho\n",
    "        theta_0 = theta_0 - theta_0_temp\n",
    "        theta_1 = theta_1 - theta_1_temp\n",
    "        \n",
    "        \n",
    "        if funcao_de_custo(x, y, theta_0, theta_1) <= tolerancia:\n",
    "            sucesso = sucesso + 1\n",
    "            \n",
    "            if sucesso == 2:\n",
    "                return theta_0, theta_1\n",
    "        else:\n",
    "            sucesso = 0\n",
    "        \n",
    "    raise Exception(\"O número máximo de iterações foi atingido!!!\\nO método não convergiu!\")\n"
   ]
  },
  {
   "cell_type": "markdown",
   "metadata": {},
   "source": [
    "## Implementação do **Passo 4**"
   ]
  },
  {
   "cell_type": "markdown",
   "metadata": {},
   "source": [
    "### Executando a Função Gradiente Descendente"
   ]
  },
  {
   "cell_type": "markdown",
   "metadata": {},
   "source": [
    "Os parâmetros são:\n",
    "* x = Ano no qual a casa foi construiida (*YearBuilt*)\n",
    "* y = Preço final de venda (*SalePrice*)"
   ]
  },
  {
   "cell_type": "code",
   "execution_count": 69,
   "metadata": {},
   "outputs": [],
   "source": [
    "# Abaixo é o valor de alpha\n",
    "#\n",
    "alpha = 0.0005\n",
    "\n",
    "#\n",
    "# Abaixo é o valor máximo de iterações (m)\n",
    "#\n",
    "max_iter = 5000\n",
    "\n",
    "#\n",
    "# Abaixo é o valor de tolerância (ε)\n",
    "#\n",
    "tolerancia = 0.02\n",
    "\n",
    "#\n",
    "# Executando a Função Gradiente Descendente\n",
    "# \n",
    "theta_0, theta_1 = funcao_gradiente_descendente(house_sale_price_processed.YearBuilt, house_sale_price_processed.SalePrice, alpha, max_iter, tolerancia)"
   ]
  },
  {
   "cell_type": "markdown",
   "metadata": {},
   "source": [
    "#### Imprimindo os valores retornados da função gradiente descendente"
   ]
  },
  {
   "cell_type": "code",
   "execution_count": 70,
   "metadata": {},
   "outputs": [
    {
     "name": "stdout",
     "output_type": "stream",
     "text": [
      "\n",
      "      O valor de θ_0 é: 3.4919703063488414e-08\n",
      "      O valor de θ_1 é: 7.044719408328458e-05\n",
      "    \n"
     ]
    }
   ],
   "source": [
    "print(f\"\"\"\n",
    "      O valor de θ_0 é: {theta_0}\n",
    "      O valor de θ_1 é: {theta_1}\n",
    "    \"\"\")"
   ]
  },
  {
   "cell_type": "markdown",
   "metadata": {},
   "source": [
    "### Plotando os gráficos: dispersão e reta"
   ]
  },
  {
   "cell_type": "code",
   "execution_count": 71,
   "metadata": {},
   "outputs": [
    {
     "data": {
      "image/png": "[encoded data removed]",
      "text/plain": [
       "<Figure size 1200x600 with 1 Axes>"
      ]
     },
     "metadata": {},
     "output_type": "display_data"
    }
   ],
   "source": [
    "figure, _ = plt.subplots(figsize = (12, 6))\n",
    "plt.scatter(\n",
    "    house_sale_price_processed.YearBuilt,\n",
    "    house_sale_price_processed.SalePrice\n",
    ")\n",
    "plt.plot(\n",
    "    theta_0 + theta_1 * house_sale_price_processed.YearBuilt,\n",
    "    color = \"red\"\n",
    ")\n",
    "plt.title(\"Execução da Função Gradiente Descendente\")\n",
    "plt.xlabel(\"Ano de construção\")\n",
    "plt.ylabel(\"Preço de venda\")\n",
    "plt.show()"
   ]
  },
  {
   "cell_type": "markdown",
   "metadata": {},
   "source": [
    "## Implementação do **Passo 5**"
   ]
  },
  {
   "cell_type": "markdown",
   "metadata": {},
   "source": [
    "### Escolhendo 3 valores distintos para 3 alfas"
   ]
  },
  {
   "cell_type": "code",
   "execution_count": 102,
   "metadata": {},
   "outputs": [],
   "source": [
    "# Valor muito pequeno\n",
    "alpha_pequeno = 0.00001\n",
    "\n",
    "#\n",
    "# Valor intermediario\n",
    "alpha = 0.0001\n",
    "\n",
    "#\n",
    "# valor muito grande\n",
    "alpha_grande = 0.0005"
   ]
  },
  {
   "cell_type": "markdown",
   "metadata": {},
   "source": [
    "### Executando a Função de Custos"
   ]
  },
  {
   "cell_type": "markdown",
   "metadata": {},
   "source": [
    "#### Adaptação da Função Gradiente Descendente para retornar somente o vetor de custos"
   ]
  },
  {
   "cell_type": "code",
   "execution_count": 104,
   "metadata": {},
   "outputs": [],
   "source": [
    "def funcao_gradiente_descendente(x:pd.Series, y:pd.Series, alpha:float, max_iter:int=20, tolerancia:float=0.002) -> (list):\n",
    "    tamanho = x.shape[0]\n",
    "    theta_0 = 0.0\n",
    "    theta_1 = 0.0\n",
    "    sucesso = 0\n",
    "    vetor_de_custos = []\n",
    "    \n",
    "    for i in range(1, max_iter + 1):\n",
    "        theta_0_temp = alpha * calcula_theta(x, y, theta_0, theta_1, tamanho) / tamanho\n",
    "        theta_1_temp = alpha * (calcula_theta(x, y, theta_0, theta_1, tamanho) * x[i]) / tamanho\n",
    "        theta_0 = theta_0 - theta_0_temp\n",
    "        theta_1 = theta_1 - theta_1_temp\n",
    "        vetor_de_custos.append(funcao_de_custo(x, y, theta_0, theta_1))\n",
    "        \n",
    "        if vetor_de_custos[i - 1] <= tolerancia:\n",
    "            sucesso = sucesso + 1\n",
    "            \n",
    "            if sucesso == 2:\n",
    "                return vetor_de_custos\n",
    "        else:\n",
    "            sucesso = 0\n",
    "        \n",
    "    raise Exception(\"O número máximo de iterações foi atingido!!!\\nO método não convergiu!\")"
   ]
  },
  {
   "cell_type": "markdown",
   "metadata": {},
   "source": [
    "#### Alfa Muito Pequeno"
   ]
  },
  {
   "cell_type": "code",
   "execution_count": 105,
   "metadata": {},
   "outputs": [],
   "source": [
    "#\n",
    "# Abaixo é o valor máximo de iterações (m)\n",
    "#\n",
    "max_iter = 5000\n",
    "\n",
    "#\n",
    "# Abaixo é o valor de tolerância (ε)\n",
    "#\n",
    "tolerancia = 0.02\n",
    "\n",
    "#\n",
    "# Executando a Função Gradiente Descendente\n",
    "# \n",
    "\n",
    "vetor_de_custos_pequeno = funcao_gradiente_descendente(house_sale_price_processed.YearBuilt, house_sale_price_processed.SalePrice, alpha_pequeno, max_iter, tolerancia)"
   ]
  },
  {
   "cell_type": "markdown",
   "metadata": {},
   "source": [
    "#### Alfa Médio"
   ]
  },
  {
   "cell_type": "code",
   "execution_count": 106,
   "metadata": {},
   "outputs": [],
   "source": [
    "#\n",
    "# Abaixo é o valor máximo de iterações (m)\n",
    "#\n",
    "max_iter = 5000\n",
    "\n",
    "#\n",
    "# Abaixo é o valor de tolerância (ε)\n",
    "#\n",
    "tolerancia = 0.02\n",
    "\n",
    "#\n",
    "# Executando a Função Gradiente Descendente\n",
    "# \n",
    "vetor_de_custos = funcao_gradiente_descendente(house_sale_price_processed.YearBuilt, house_sale_price_processed.SalePrice, alpha, max_iter, tolerancia)"
   ]
  },
  {
   "cell_type": "markdown",
   "metadata": {},
   "source": [
    "#### Alfa Muito Grande"
   ]
  },
  {
   "cell_type": "code",
   "execution_count": 107,
   "metadata": {},
   "outputs": [],
   "source": [
    "#\n",
    "# Abaixo é o valor máximo de iterações (m)\n",
    "#\n",
    "max_iter = 5000\n",
    "\n",
    "#\n",
    "# Abaixo é o valor de tolerância (ε)\n",
    "#\n",
    "tolerancia = 0.02\n",
    "\n",
    "#\n",
    "# Executando a Função Gradiente Descendente\n",
    "# \n",
    "vetor_de_custos_grande = funcao_gradiente_descendente(house_sale_price_processed.YearBuilt, house_sale_price_processed.SalePrice, alpha_grande, max_iter, tolerancia)"
   ]
  },
  {
   "cell_type": "markdown",
   "metadata": {},
   "source": [
    "### Plotando os vetores de custo criados acima"
   ]
  },
  {
   "cell_type": "code",
   "execution_count": 108,
   "metadata": {},
   "outputs": [
    {
     "data": {
      "image/png": "[encoded data removed]",
      "text/plain": [
       "<Figure size 2000x1200 with 3 Axes>"
      ]
     },
     "metadata": {},
     "output_type": "display_data"
    }
   ],
   "source": [
    "figure, axis = plt.subplots(nrows = 3, ncols = 1, figsize = (20, 12))\n",
    "figure.suptitle(\"Valores de custo para valores diferentes de alfa\")\n",
    "axis[0].plot(\n",
    "    vetor_de_custos_pequeno,\n",
    "    color = \"red\"\n",
    ")\n",
    "axis[1].plot(\n",
    "    vetor_de_custos,\n",
    "    color = \"green\"\n",
    ")\n",
    "axis[2].plot(\n",
    "    vetor_de_custos_grande,\n",
    "    color = \"blue\"\n",
    ")\n",
    "axis[0].set_title(\"Alfa pequeno\")\n",
    "axis[1].set_title(\"Alfa mediano\")\n",
    "axis[2].set_title(\"Alfa grande\")\n",
    "plt.show()"
   ]
  },
  {
   "cell_type": "markdown",
   "metadata": {},
   "source": [
    "### Discorrendo sobre o resultado acima"
   ]
  },
  {
   "cell_type": "markdown",
   "metadata": {},
   "source": [
    "Para o valor de alfa pequeno, a Função Gradiente Descendente demorou muito mais para convergir, 10 segundos, enquanto para os outros dois valores de alfa, houve convergencia em 1 segundo.\n",
    "<br>\n",
    "Para o valor de alfa mediano, a Função Gradiente Descendente obteve um comportamento similar ao comportamento alfa pequeno, porém houve a convergencia em 1 segundo e o gráfico de alfa pequeno é uma parábola com sua concavidade muito suave.\n",
    "<br>\n",
    "para o valor de alfa grande, a Função Gradiente Descendente teve custo positivo, crescendo a partir do valor 0.006 até o valor 0.008, quando houve a convergência. Seu comportamento foi o único ascendente."
   ]
  }
 ],
 "metadata": {
  "kernelspec": {
   "display_name": ".aquisicao-venv",
   "language": "python",
   "name": "python3"
  },
  "language_info": {
   "codemirror_mode": {
    "name": "ipython",
    "version": 3
   },
   "file_extension": ".py",
   "mimetype": "text/x-python",
   "name": "python",
   "nbconvert_exporter": "python",
   "pygments_lexer": "ipython3",
   "version": "3.10.6"
  },
  "orig_nbformat": 4
 },
 "nbformat": 4,
 "nbformat_minor": 2
}
