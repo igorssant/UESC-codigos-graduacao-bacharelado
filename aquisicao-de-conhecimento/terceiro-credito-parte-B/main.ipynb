{
 "cells": [
  {
   "cell_type": "markdown",
   "metadata": {},
   "source": [
    "# 3<sup>o</sup> crédito de Aquisição de Conhecimento\n",
    "\n",
    "# Agrupamento"
   ]
  },
  {
   "cell_type": "markdown",
   "metadata": {},
   "source": [
    "## Sumário\n",
    "\n",
    "- [Objetivos](#objetivos-do-trabalho)\n",
    "\n",
    "- [Preparação](#preparacao)\n",
    "\n",
    "- [Importando-bibliotecas-Parte-1](#importando-as-bibliotecas)\n",
    "\n",
    "- [Importando-DataSet](#importando-dataset-water_flow_by_day-de-datasetsraw)\n",
    "\n",
    "- [Exclusão-de-Colunas](#excluindo-colunas-irrelevantes)\n",
    "\n",
    "- [Renomeando-Colunas](#renomeando-colunas)\n",
    "\n",
    "- [Valores-Unicos-de-Colunas](#verificando-os-valores)\n",
    "\n",
    "- [Mudancas-de-Tipos-das-Colunas](#mudanca-dos-tipos-das-colunas)\n",
    "\n",
    "- [Analise-Exploratoria-dos-Dados](#analise-exploratoria-dos-dados-aed)\n",
    "\n",
    "- [Verificacao-de-valores-NaN](#verificando-se-ha-valores-nans)\n",
    "\n",
    "- [Verificacao-de-valores-nulos](#verificando-se-ha-valores-nulos)\n",
    "\n",
    "- [Parte-1](#parte-1)\n",
    "\n",
    "- [Parte-2](#parte-2)\n",
    "\n",
    "- d\n",
    "\n",
    "- e"
   ]
  },
  {
   "cell_type": "markdown",
   "metadata": {},
   "source": [
    "## Objetivos do trabalho"
   ]
  },
  {
   "cell_type": "markdown",
   "metadata": {},
   "source": [
    "No contexto de produção animal, seja a seguinte base de dados contendo o consumo diário de água pelo grupo de animais (chamado de lote):\n",
    "\n",
    "![Exemplo_do_DataFrame](img/imagem0.png)\n",
    "\n",
    "Para cada dia de alojamento (lot_day), temos, na ordem, a estação do ano a qual se refere\n",
    "o dia, a idade dos animais do lote, o consumo médio de água por cabeça, um número identificador do lote e num número identificador do produtor/fazenda que produziu o lote.\n",
    "\n",
    "Uma fazenda pode produzir mais de um lote.\n",
    "\n",
    "A base contém o consumo diário entre os dias 3 e 43 de alojamento dos animais. Como mostra a imagem.\n",
    "\n",
    "A base pode conter dados faltantes, você deve lidar com isso. Perceba que o consumo de água aumenta ao longo dos dias, então talvez preencher com valor médio não seja a solução ideal (por exemplo, o dia 3, poderia ter valor muito alto, se usarmos a média de todos os dias para preencher seu dado). Uma média local pode ser mais adequada. Além disso, descartar lotes com dados faltantes pode resultar em uma base muito pequena, então cuidado ao usar essa estratégia."
   ]
  },
  {
   "cell_type": "markdown",
   "metadata": {},
   "source": [
    "[1<sup>o</sup>](link) Você deve usar o consumo diário como variáveis para agrupar os lotes. Isto é, seu:\n",
    "\n",
    "x<sub>1</sub> = consumo de água por cabeça no dia 3 de alojamento.\n",
    "\n",
    "x<sub>2</sub> = consumo de água por cabeça no dia 4 de alojamento.\n",
    "\n",
    "…\n",
    "\n",
    "x<sub>n</sub> = consumo de água por cabeça no dia m de alojamento\n",
    "\n",
    "a. Deve escolher quais métricas para comparação usar;\n",
    "\n",
    "b. Qual número de grupos;\n",
    "\n",
    "c. Qual algoritmo ou variação do algoritmo;\n",
    "\n",
    "d. Como limpar ou lidar com os dados faltantes;\n",
    "\n",
    "e. Para cada grupo, deve mostrar as curvas de consumo pertencentes a um grupo e seu centróide.\n",
    "\n",
    "\n",
    "[2<sup>o</sup>](link) Comparar o perfil dos lotes de cada grupo encontrado. Mostrar as comparações em\n",
    "gráficos e comentar sobre as diferenças ou semelhanças. Para isso, uma base de\n",
    "dados auxiliar é dada, com informações extras referente ao lote:\n",
    "\n",
    "![Exemplo_de_DataFrame](img/imagem1.png)\n",
    "\n",
    "\n",
    "Em ordem: número identificador do lote, número de animais alojados, mortalidade em\n",
    "percentual, idade dos animais no momento no início do lote, idade dos animais no final do\n",
    "lote, peso médio dos animais no início do lote, peso médio dos animais no final do lote,\n",
    "ganho de peso médio diário, consumo médio diário de ração, taxa de conversão alimentar,\n",
    "dias de alojamento.\n",
    "\n",
    "Da mesma maneira, podem haver outliers ou dados faltantes. Você não precisa usar todas\n",
    "as variáveis, pode usar as mais relevantes na comparação dos grupos."
   ]
  },
  {
   "cell_type": "markdown",
   "metadata": {},
   "source": [
    "## Preparacao"
   ]
  },
  {
   "cell_type": "markdown",
   "metadata": {},
   "source": [
    "### Importando as bibliotecas"
   ]
  },
  {
   "cell_type": "code",
   "execution_count": 2,
   "metadata": {},
   "outputs": [],
   "source": [
    "import numpy as np\n",
    "import pandas as pd\n",
    "\n",
    "# bibliotecas graficas\n",
    "from matplotlib import pyplot as plt\n",
    "import seaborn as sns\n",
    "\n",
    "# modelos\n",
    "from sklearn.model_selection import train_test_split\n"
   ]
  },
  {
   "cell_type": "markdown",
   "metadata": {},
   "source": [
    "### Importando dataset *water_flow_by_day* de *./datasets/raw/*"
   ]
  },
  {
   "cell_type": "code",
   "execution_count": 3,
   "metadata": {},
   "outputs": [],
   "source": [
    "df_waterflow_raw = pd.read_csv(\"datasets/raw/water_flow_by_day.csv\", sep = \",\")"
   ]
  },
  {
   "cell_type": "markdown",
   "metadata": {},
   "source": [
    "### Alguns valores do Dataset"
   ]
  },
  {
   "cell_type": "code",
   "execution_count": 4,
   "metadata": {},
   "outputs": [
    {
     "data": {
      "text/html": [
       "<div>\n",
       "<style scoped>\n",
       "    .dataframe tbody tr th:only-of-type {\n",
       "        vertical-align: middle;\n",
       "    }\n",
       "\n",
       "    .dataframe tbody tr th {\n",
       "        vertical-align: top;\n",
       "    }\n",
       "\n",
       "    .dataframe thead th {\n",
       "        text-align: right;\n",
       "    }\n",
       "</style>\n",
       "<table border=\"1\" class=\"dataframe\">\n",
       "  <thead>\n",
       "    <tr style=\"text-align: right;\">\n",
       "      <th></th>\n",
       "      <th>Unnamed: 0</th>\n",
       "      <th>lot_day</th>\n",
       "      <th>season</th>\n",
       "      <th>age</th>\n",
       "      <th>per_capita</th>\n",
       "      <th>lot_id</th>\n",
       "      <th>prod_id</th>\n",
       "    </tr>\n",
       "  </thead>\n",
       "  <tbody>\n",
       "    <tr>\n",
       "      <th>0</th>\n",
       "      <td>0</td>\n",
       "      <td>3</td>\n",
       "      <td>inv</td>\n",
       "      <td>23.0</td>\n",
       "      <td>0.346664</td>\n",
       "      <td>615812</td>\n",
       "      <td>n_3</td>\n",
       "    </tr>\n",
       "    <tr>\n",
       "      <th>1</th>\n",
       "      <td>1</td>\n",
       "      <td>4</td>\n",
       "      <td>inv</td>\n",
       "      <td>24.0</td>\n",
       "      <td>0.708991</td>\n",
       "      <td>615812</td>\n",
       "      <td>n_3</td>\n",
       "    </tr>\n",
       "    <tr>\n",
       "      <th>2</th>\n",
       "      <td>2</td>\n",
       "      <td>5</td>\n",
       "      <td>inv</td>\n",
       "      <td>25.0</td>\n",
       "      <td>0.936537</td>\n",
       "      <td>615812</td>\n",
       "      <td>n_3</td>\n",
       "    </tr>\n",
       "    <tr>\n",
       "      <th>3</th>\n",
       "      <td>3</td>\n",
       "      <td>6</td>\n",
       "      <td>inv</td>\n",
       "      <td>26.0</td>\n",
       "      <td>0.722595</td>\n",
       "      <td>615812</td>\n",
       "      <td>n_3</td>\n",
       "    </tr>\n",
       "    <tr>\n",
       "      <th>4</th>\n",
       "      <td>4</td>\n",
       "      <td>7</td>\n",
       "      <td>inv</td>\n",
       "      <td>27.0</td>\n",
       "      <td>0.744303</td>\n",
       "      <td>615812</td>\n",
       "      <td>n_3</td>\n",
       "    </tr>\n",
       "  </tbody>\n",
       "</table>\n",
       "</div>"
      ],
      "text/plain": [
       "   Unnamed: 0  lot_day season   age  per_capita  lot_id prod_id\n",
       "0           0        3    inv  23.0    0.346664  615812     n_3\n",
       "1           1        4    inv  24.0    0.708991  615812     n_3\n",
       "2           2        5    inv  25.0    0.936537  615812     n_3\n",
       "3           3        6    inv  26.0    0.722595  615812     n_3\n",
       "4           4        7    inv  27.0    0.744303  615812     n_3"
      ]
     },
     "execution_count": 4,
     "metadata": {},
     "output_type": "execute_result"
    }
   ],
   "source": [
    "df_waterflow_raw.head(5)"
   ]
  },
  {
   "cell_type": "markdown",
   "metadata": {},
   "source": [
    "Como podemos ver, temos uma coluna sem nome que atual como contador das linhas.\n",
    "\n",
    "Nós vamos deletar esta coluna eventualmente, pois é irrelevante para o DataFrame."
   ]
  },
  {
   "cell_type": "markdown",
   "metadata": {},
   "source": [
    "### Verificando os tipos dos dados"
   ]
  },
  {
   "cell_type": "code",
   "execution_count": 5,
   "metadata": {},
   "outputs": [
    {
     "data": {
      "text/plain": [
       "Unnamed: 0      int64\n",
       "lot_day         int64\n",
       "season         object\n",
       "age           float64\n",
       "per_capita    float64\n",
       "lot_id          int64\n",
       "prod_id        object\n",
       "dtype: object"
      ]
     },
     "execution_count": 5,
     "metadata": {},
     "output_type": "execute_result"
    }
   ],
   "source": [
    "df_waterflow_raw.dtypes"
   ]
  },
  {
   "cell_type": "markdown",
   "metadata": {},
   "source": [
    "### Quantidade de linhas do DataFrame"
   ]
  },
  {
   "cell_type": "code",
   "execution_count": 6,
   "metadata": {},
   "outputs": [
    {
     "data": {
      "text/plain": [
       "6074"
      ]
     },
     "execution_count": 6,
     "metadata": {},
     "output_type": "execute_result"
    }
   ],
   "source": [
    "df_waterflow_raw.shape[0]"
   ]
  },
  {
   "cell_type": "markdown",
   "metadata": {},
   "source": [
    "Como podemos ver:\n",
    "- O DataFrame possui 6074 linhas;\n",
    "- 6 colunas relevantes;\n",
    "\n",
    "- 1 coluna irrelevante;\n",
    "\n",
    "- A idade dos animais está sendo tratada como ponto flutuante;\n",
    "\n",
    "- O lote está sendo tratado como ponto flututante;\n",
    "\n",
    "- O id está sendo tratado como tipo Objeto."
   ]
  },
  {
   "cell_type": "markdown",
   "metadata": {},
   "source": [
    "### Excluindo colunas irrelevantes"
   ]
  },
  {
   "cell_type": "code",
   "execution_count": 7,
   "metadata": {},
   "outputs": [
    {
     "data": {
      "text/html": [
       "<div>\n",
       "<style scoped>\n",
       "    .dataframe tbody tr th:only-of-type {\n",
       "        vertical-align: middle;\n",
       "    }\n",
       "\n",
       "    .dataframe tbody tr th {\n",
       "        vertical-align: top;\n",
       "    }\n",
       "\n",
       "    .dataframe thead th {\n",
       "        text-align: right;\n",
       "    }\n",
       "</style>\n",
       "<table border=\"1\" class=\"dataframe\">\n",
       "  <thead>\n",
       "    <tr style=\"text-align: right;\">\n",
       "      <th></th>\n",
       "      <th>lot_day</th>\n",
       "      <th>season</th>\n",
       "      <th>age</th>\n",
       "      <th>per_capita</th>\n",
       "      <th>lot_id</th>\n",
       "      <th>prod_id</th>\n",
       "    </tr>\n",
       "  </thead>\n",
       "  <tbody>\n",
       "    <tr>\n",
       "      <th>0</th>\n",
       "      <td>3</td>\n",
       "      <td>inv</td>\n",
       "      <td>23.0</td>\n",
       "      <td>0.346664</td>\n",
       "      <td>615812</td>\n",
       "      <td>n_3</td>\n",
       "    </tr>\n",
       "    <tr>\n",
       "      <th>1</th>\n",
       "      <td>4</td>\n",
       "      <td>inv</td>\n",
       "      <td>24.0</td>\n",
       "      <td>0.708991</td>\n",
       "      <td>615812</td>\n",
       "      <td>n_3</td>\n",
       "    </tr>\n",
       "    <tr>\n",
       "      <th>2</th>\n",
       "      <td>5</td>\n",
       "      <td>inv</td>\n",
       "      <td>25.0</td>\n",
       "      <td>0.936537</td>\n",
       "      <td>615812</td>\n",
       "      <td>n_3</td>\n",
       "    </tr>\n",
       "    <tr>\n",
       "      <th>3</th>\n",
       "      <td>6</td>\n",
       "      <td>inv</td>\n",
       "      <td>26.0</td>\n",
       "      <td>0.722595</td>\n",
       "      <td>615812</td>\n",
       "      <td>n_3</td>\n",
       "    </tr>\n",
       "    <tr>\n",
       "      <th>4</th>\n",
       "      <td>7</td>\n",
       "      <td>inv</td>\n",
       "      <td>27.0</td>\n",
       "      <td>0.744303</td>\n",
       "      <td>615812</td>\n",
       "      <td>n_3</td>\n",
       "    </tr>\n",
       "  </tbody>\n",
       "</table>\n",
       "</div>"
      ],
      "text/plain": [
       "   lot_day season   age  per_capita  lot_id prod_id\n",
       "0        3    inv  23.0    0.346664  615812     n_3\n",
       "1        4    inv  24.0    0.708991  615812     n_3\n",
       "2        5    inv  25.0    0.936537  615812     n_3\n",
       "3        6    inv  26.0    0.722595  615812     n_3\n",
       "4        7    inv  27.0    0.744303  615812     n_3"
      ]
     },
     "execution_count": 7,
     "metadata": {},
     "output_type": "execute_result"
    }
   ],
   "source": [
    "df_waterflow_processed = df_waterflow_raw.drop(columns = [\"Unnamed: 0\"])\n",
    "df_waterflow_processed.head(5)"
   ]
  },
  {
   "cell_type": "markdown",
   "metadata": {},
   "source": [
    "### Renomeando colunas"
   ]
  },
  {
   "cell_type": "code",
   "execution_count": 8,
   "metadata": {},
   "outputs": [],
   "source": [
    "colunas_renomear = {\n",
    "    \"lot_day\"       : \"dia_lote\",\n",
    "    \"season\"        : \"estacao_ano\",\n",
    "    \"age\"           : \"idade_animal\",\n",
    "    \"per_capita\"    : \"litros_por_cabeca\",\n",
    "    \"lot_id\"        : \"id_lote\",\n",
    "    \"prod_id\"       : \"id_produto\"\n",
    "}"
   ]
  },
  {
   "cell_type": "code",
   "execution_count": 9,
   "metadata": {},
   "outputs": [
    {
     "data": {
      "text/html": [
       "<div>\n",
       "<style scoped>\n",
       "    .dataframe tbody tr th:only-of-type {\n",
       "        vertical-align: middle;\n",
       "    }\n",
       "\n",
       "    .dataframe tbody tr th {\n",
       "        vertical-align: top;\n",
       "    }\n",
       "\n",
       "    .dataframe thead th {\n",
       "        text-align: right;\n",
       "    }\n",
       "</style>\n",
       "<table border=\"1\" class=\"dataframe\">\n",
       "  <thead>\n",
       "    <tr style=\"text-align: right;\">\n",
       "      <th></th>\n",
       "      <th>dia_lote</th>\n",
       "      <th>estacao_ano</th>\n",
       "      <th>idade_animal</th>\n",
       "      <th>litros_por_cabeca</th>\n",
       "      <th>id_lote</th>\n",
       "      <th>id_produto</th>\n",
       "    </tr>\n",
       "  </thead>\n",
       "  <tbody>\n",
       "    <tr>\n",
       "      <th>0</th>\n",
       "      <td>3</td>\n",
       "      <td>inv</td>\n",
       "      <td>23.0</td>\n",
       "      <td>0.346664</td>\n",
       "      <td>615812</td>\n",
       "      <td>n_3</td>\n",
       "    </tr>\n",
       "    <tr>\n",
       "      <th>1</th>\n",
       "      <td>4</td>\n",
       "      <td>inv</td>\n",
       "      <td>24.0</td>\n",
       "      <td>0.708991</td>\n",
       "      <td>615812</td>\n",
       "      <td>n_3</td>\n",
       "    </tr>\n",
       "    <tr>\n",
       "      <th>2</th>\n",
       "      <td>5</td>\n",
       "      <td>inv</td>\n",
       "      <td>25.0</td>\n",
       "      <td>0.936537</td>\n",
       "      <td>615812</td>\n",
       "      <td>n_3</td>\n",
       "    </tr>\n",
       "    <tr>\n",
       "      <th>3</th>\n",
       "      <td>6</td>\n",
       "      <td>inv</td>\n",
       "      <td>26.0</td>\n",
       "      <td>0.722595</td>\n",
       "      <td>615812</td>\n",
       "      <td>n_3</td>\n",
       "    </tr>\n",
       "    <tr>\n",
       "      <th>4</th>\n",
       "      <td>7</td>\n",
       "      <td>inv</td>\n",
       "      <td>27.0</td>\n",
       "      <td>0.744303</td>\n",
       "      <td>615812</td>\n",
       "      <td>n_3</td>\n",
       "    </tr>\n",
       "  </tbody>\n",
       "</table>\n",
       "</div>"
      ],
      "text/plain": [
       "   dia_lote estacao_ano  idade_animal  litros_por_cabeca  id_lote id_produto\n",
       "0         3         inv          23.0           0.346664   615812        n_3\n",
       "1         4         inv          24.0           0.708991   615812        n_3\n",
       "2         5         inv          25.0           0.936537   615812        n_3\n",
       "3         6         inv          26.0           0.722595   615812        n_3\n",
       "4         7         inv          27.0           0.744303   615812        n_3"
      ]
     },
     "execution_count": 9,
     "metadata": {},
     "output_type": "execute_result"
    }
   ],
   "source": [
    "df_waterflow_processed = df_waterflow_processed.rename(columns = colunas_renomear)\n",
    "df_waterflow_processed.head(5)"
   ]
  },
  {
   "cell_type": "markdown",
   "metadata": {},
   "source": [
    "### Verificando os valores"
   ]
  },
  {
   "cell_type": "markdown",
   "metadata": {},
   "source": [
    "#### Valores únicos de cada coluna não numérica"
   ]
  },
  {
   "cell_type": "markdown",
   "metadata": {},
   "source": [
    "##### Estação do ano"
   ]
  },
  {
   "cell_type": "code",
   "execution_count": 10,
   "metadata": {},
   "outputs": [
    {
     "data": {
      "text/plain": [
       "array(['inv', 'out', 'pri', 'ver'], dtype=object)"
      ]
     },
     "execution_count": 10,
     "metadata": {},
     "output_type": "execute_result"
    }
   ],
   "source": [
    "df_waterflow_processed.estacao_ano.unique()"
   ]
  },
  {
   "cell_type": "markdown",
   "metadata": {},
   "source": [
    "##### ID do Lote"
   ]
  },
  {
   "cell_type": "code",
   "execution_count": 11,
   "metadata": {},
   "outputs": [
    {
     "data": {
      "text/plain": [
       "array([615812, 880714, 339544, 339545, 339546, 387681, 393432, 403726,\n",
       "       414323, 436332, 479845, 491363, 514226, 527072, 536408, 562446,\n",
       "       589872, 637193, 664685, 720666, 758507, 794864, 542538, 542539,\n",
       "       562033, 592317, 622239, 640128, 698330, 744887, 423966, 447340,\n",
       "       483807, 507626, 523619, 530999, 544600, 582096, 610732, 629640,\n",
       "       653501, 712037, 755669, 783289, 869971, 388793, 388794, 389469,\n",
       "       400085, 483075, 501978, 522737, 529206, 544291, 571905, 607321,\n",
       "       631156, 642729, 699708, 743546, 771448, 837020, 916201, 340063,\n",
       "       340064, 387761, 389526, 395027, 406984, 418361, 445237, 637069,\n",
       "       680260, 731535, 767820, 813661, 476539, 499077, 516748, 528115,\n",
       "       539831, 339985, 339986, 339987, 389518, 393790, 405280, 415853,\n",
       "       464403, 569703, 632012, 543334, 582752, 592484, 622513, 638672,\n",
       "       687045, 743547, 771449, 340031, 340032, 340033, 387751, 393478,\n",
       "       405281, 414343, 438737, 474020, 494878, 516243, 486165, 509381,\n",
       "       525611, 535955, 546950, 583161, 613463, 629638, 653499, 712035,\n",
       "       755668, 783282, 794858, 339039, 339040, 339041, 387613, 393386,\n",
       "       408303, 429364, 464843, 489709, 511686, 526805, 536193, 562407,\n",
       "       586886, 615815, 637194, 664692, 720679, 758511, 810315, 902085,\n",
       "       339083, 339084, 339085, 387620, 389412, 396675, 407732, 423951,\n",
       "       912928, 832521, 452725, 486166, 509384, 525615, 535957, 546951,\n",
       "       583162, 613466, 629639, 569700, 605011, 622508, 638671, 687039,\n",
       "       734395, 340153, 340154, 387776, 393490, 400139, 492002, 514220,\n",
       "       527633, 539832, 569704, 607457, 627371, 649206, 716383, 762905,\n",
       "       817781, 613453, 629632, 653495])"
      ]
     },
     "execution_count": 11,
     "metadata": {},
     "output_type": "execute_result"
    }
   ],
   "source": [
    "df_waterflow_processed.id_lote.unique()"
   ]
  },
  {
   "cell_type": "markdown",
   "metadata": {},
   "source": [
    "##### ID do Produto"
   ]
  },
  {
   "cell_type": "code",
   "execution_count": 12,
   "metadata": {},
   "outputs": [
    {
     "data": {
      "text/plain": [
       "array(['n_3', 'n_0', 'n_1', 'n_2', 'n_9', 'n_5', 'n_11', 'n_4', 'n_6',\n",
       "       'n_7', 'n_8', 'n_10', 'n_13', 'n_18'], dtype=object)"
      ]
     },
     "execution_count": 12,
     "metadata": {},
     "output_type": "execute_result"
    }
   ],
   "source": [
    "df_waterflow_processed.id_produto.unique()"
   ]
  },
  {
   "cell_type": "markdown",
   "metadata": {},
   "source": [
    "#### Verificando os valores únicos da coluna *dia_lote*"
   ]
  },
  {
   "cell_type": "code",
   "execution_count": 13,
   "metadata": {},
   "outputs": [
    {
     "data": {
      "text/plain": [
       "array([ 3,  4,  5,  6,  7,  8,  9, 10, 11, 12, 13, 14, 15, 16, 17, 18, 19,\n",
       "       20, 21, 22, 23, 24, 25, 26, 27, 28, 29, 30, 31, 32, 33, 34, 35, 36,\n",
       "       37, 38, 39, 40, 41, 42, 43])"
      ]
     },
     "execution_count": 13,
     "metadata": {},
     "output_type": "execute_result"
    }
   ],
   "source": [
    "df_waterflow_processed.dia_lote.unique()"
   ]
  },
  {
   "cell_type": "markdown",
   "metadata": {},
   "source": [
    "### Mudanca dos tipos das colunas"
   ]
  },
  {
   "cell_type": "markdown",
   "metadata": {},
   "source": [
    "#### Colunas categóricas"
   ]
  },
  {
   "cell_type": "code",
   "execution_count": 14,
   "metadata": {},
   "outputs": [],
   "source": [
    "# dia_lote, estacao_ano, id_lote e id_produto\n",
    "df_waterflow_processed.dia_lote = df_waterflow_processed.dia_lote.astype(\"category\")\n",
    "df_waterflow_processed.estacao_ano = df_waterflow_processed.estacao_ano.astype(\"category\")\n",
    "df_waterflow_processed.id_lote = df_waterflow_processed.id_lote.astype(\"category\")\n",
    "df_waterflow_processed.id_produto = df_waterflow_processed.id_produto.astype(\"category\")"
   ]
  },
  {
   "cell_type": "markdown",
   "metadata": {},
   "source": [
    "#### Colunas numéricas"
   ]
  },
  {
   "cell_type": "code",
   "execution_count": 15,
   "metadata": {},
   "outputs": [],
   "source": [
    "# idade_animal\n",
    "df_waterflow_processed.idade_animal = df_waterflow_processed.dia_lote.astype(\"uint8\")"
   ]
  },
  {
   "cell_type": "markdown",
   "metadata": {},
   "source": [
    "#### DataFrame atual"
   ]
  },
  {
   "cell_type": "code",
   "execution_count": 16,
   "metadata": {},
   "outputs": [
    {
     "data": {
      "text/html": [
       "<div>\n",
       "<style scoped>\n",
       "    .dataframe tbody tr th:only-of-type {\n",
       "        vertical-align: middle;\n",
       "    }\n",
       "\n",
       "    .dataframe tbody tr th {\n",
       "        vertical-align: top;\n",
       "    }\n",
       "\n",
       "    .dataframe thead th {\n",
       "        text-align: right;\n",
       "    }\n",
       "</style>\n",
       "<table border=\"1\" class=\"dataframe\">\n",
       "  <thead>\n",
       "    <tr style=\"text-align: right;\">\n",
       "      <th></th>\n",
       "      <th>dia_lote</th>\n",
       "      <th>estacao_ano</th>\n",
       "      <th>idade_animal</th>\n",
       "      <th>litros_por_cabeca</th>\n",
       "      <th>id_lote</th>\n",
       "      <th>id_produto</th>\n",
       "    </tr>\n",
       "  </thead>\n",
       "  <tbody>\n",
       "    <tr>\n",
       "      <th>3305</th>\n",
       "      <td>19</td>\n",
       "      <td>ver</td>\n",
       "      <td>19</td>\n",
       "      <td>5.966034</td>\n",
       "      <td>771449</td>\n",
       "      <td>n_4</td>\n",
       "    </tr>\n",
       "    <tr>\n",
       "      <th>5416</th>\n",
       "      <td>24</td>\n",
       "      <td>inv</td>\n",
       "      <td>24</td>\n",
       "      <td>1.348103</td>\n",
       "      <td>605011</td>\n",
       "      <td>n_10</td>\n",
       "    </tr>\n",
       "    <tr>\n",
       "      <th>4415</th>\n",
       "      <td>31</td>\n",
       "      <td>ver</td>\n",
       "      <td>31</td>\n",
       "      <td>2.279781</td>\n",
       "      <td>536193</td>\n",
       "      <td>n_6</td>\n",
       "    </tr>\n",
       "    <tr>\n",
       "      <th>3525</th>\n",
       "      <td>26</td>\n",
       "      <td>out</td>\n",
       "      <td>26</td>\n",
       "      <td>3.760179</td>\n",
       "      <td>405281</td>\n",
       "      <td>n_4</td>\n",
       "    </tr>\n",
       "    <tr>\n",
       "      <th>107</th>\n",
       "      <td>28</td>\n",
       "      <td>inv</td>\n",
       "      <td>28</td>\n",
       "      <td>7.565062</td>\n",
       "      <td>339544</td>\n",
       "      <td>n_3</td>\n",
       "    </tr>\n",
       "  </tbody>\n",
       "</table>\n",
       "</div>"
      ],
      "text/plain": [
       "     dia_lote estacao_ano  idade_animal  litros_por_cabeca id_lote id_produto\n",
       "3305       19         ver            19           5.966034  771449        n_4\n",
       "5416       24         inv            24           1.348103  605011       n_10\n",
       "4415       31         ver            31           2.279781  536193        n_6\n",
       "3525       26         out            26           3.760179  405281        n_4\n",
       "107        28         inv            28           7.565062  339544        n_3"
      ]
     },
     "execution_count": 16,
     "metadata": {},
     "output_type": "execute_result"
    }
   ],
   "source": [
    "df_waterflow_processed.sample(5)"
   ]
  },
  {
   "cell_type": "markdown",
   "metadata": {},
   "source": [
    "#### Tipos das colunas"
   ]
  },
  {
   "cell_type": "code",
   "execution_count": 17,
   "metadata": {},
   "outputs": [
    {
     "data": {
      "text/plain": [
       "dia_lote             category\n",
       "estacao_ano          category\n",
       "idade_animal            uint8\n",
       "litros_por_cabeca     float64\n",
       "id_lote              category\n",
       "id_produto           category\n",
       "dtype: object"
      ]
     },
     "execution_count": 17,
     "metadata": {},
     "output_type": "execute_result"
    }
   ],
   "source": [
    "df_waterflow_processed.dtypes"
   ]
  },
  {
   "cell_type": "markdown",
   "metadata": {},
   "source": [
    "### Salvando o DataFrame processado"
   ]
  },
  {
   "cell_type": "code",
   "execution_count": 18,
   "metadata": {},
   "outputs": [],
   "source": [
    "df_waterflow_processed.to_pickle(\"datasets/processed/dataset-gasto-agua.pkl\")"
   ]
  },
  {
   "cell_type": "markdown",
   "metadata": {},
   "source": [
    "### Analise Exploratoria dos Dados (AED)"
   ]
  },
  {
   "cell_type": "markdown",
   "metadata": {},
   "source": [
    "#### Idade"
   ]
  },
  {
   "cell_type": "markdown",
   "metadata": {},
   "source": [
    "##### Cálculo da média"
   ]
  },
  {
   "cell_type": "code",
   "execution_count": 19,
   "metadata": {},
   "outputs": [
    {
     "data": {
      "text/plain": [
       "22.956"
      ]
     },
     "execution_count": 19,
     "metadata": {},
     "output_type": "execute_result"
    }
   ],
   "source": [
    "round(df_waterflow_processed.idade_animal.mean(), 3)"
   ]
  },
  {
   "cell_type": "markdown",
   "metadata": {},
   "source": [
    "##### Cálculo da mediana"
   ]
  },
  {
   "cell_type": "code",
   "execution_count": 20,
   "metadata": {},
   "outputs": [
    {
     "data": {
      "text/plain": [
       "23.0"
      ]
     },
     "execution_count": 20,
     "metadata": {},
     "output_type": "execute_result"
    }
   ],
   "source": [
    "df_waterflow_processed.idade_animal.median()"
   ]
  },
  {
   "cell_type": "markdown",
   "metadata": {},
   "source": [
    "##### Desvio padrão"
   ]
  },
  {
   "cell_type": "code",
   "execution_count": 21,
   "metadata": {},
   "outputs": [
    {
     "data": {
      "text/plain": [
       "11.78"
      ]
     },
     "execution_count": 21,
     "metadata": {},
     "output_type": "execute_result"
    }
   ],
   "source": [
    "round(df_waterflow_processed.idade_animal.std(), 3)"
   ]
  },
  {
   "cell_type": "markdown",
   "metadata": {},
   "source": [
    "##### Valor mínimo"
   ]
  },
  {
   "cell_type": "code",
   "execution_count": 22,
   "metadata": {},
   "outputs": [
    {
     "data": {
      "text/plain": [
       "3"
      ]
     },
     "execution_count": 22,
     "metadata": {},
     "output_type": "execute_result"
    }
   ],
   "source": [
    "df_waterflow_processed.idade_animal.min()"
   ]
  },
  {
   "cell_type": "markdown",
   "metadata": {},
   "source": [
    "##### Valor máximo"
   ]
  },
  {
   "cell_type": "code",
   "execution_count": 23,
   "metadata": {},
   "outputs": [
    {
     "data": {
      "text/plain": [
       "43"
      ]
     },
     "execution_count": 23,
     "metadata": {},
     "output_type": "execute_result"
    }
   ],
   "source": [
    "df_waterflow_processed.idade_animal.max()"
   ]
  },
  {
   "cell_type": "markdown",
   "metadata": {},
   "source": [
    "#### Litros por cabeça"
   ]
  },
  {
   "cell_type": "markdown",
   "metadata": {},
   "source": [
    "##### Cálculo da média"
   ]
  },
  {
   "cell_type": "code",
   "execution_count": 24,
   "metadata": {},
   "outputs": [
    {
     "data": {
      "text/plain": [
       "2.595"
      ]
     },
     "execution_count": 24,
     "metadata": {},
     "output_type": "execute_result"
    }
   ],
   "source": [
    "round(df_waterflow_processed.litros_por_cabeca.mean(), 3)"
   ]
  },
  {
   "cell_type": "markdown",
   "metadata": {},
   "source": [
    "##### Cálculo da mediana"
   ]
  },
  {
   "cell_type": "code",
   "execution_count": 25,
   "metadata": {},
   "outputs": [
    {
     "data": {
      "text/plain": [
       "2.209"
      ]
     },
     "execution_count": 25,
     "metadata": {},
     "output_type": "execute_result"
    }
   ],
   "source": [
    "round(df_waterflow_processed.litros_por_cabeca.median(), 3)"
   ]
  },
  {
   "cell_type": "markdown",
   "metadata": {},
   "source": [
    "##### Desvio padrão"
   ]
  },
  {
   "cell_type": "code",
   "execution_count": 26,
   "metadata": {},
   "outputs": [
    {
     "data": {
      "text/plain": [
       "1.854"
      ]
     },
     "execution_count": 26,
     "metadata": {},
     "output_type": "execute_result"
    }
   ],
   "source": [
    "round(df_waterflow_processed.litros_por_cabeca.std(), 3)"
   ]
  },
  {
   "cell_type": "markdown",
   "metadata": {},
   "source": [
    "##### Valor mínimo"
   ]
  },
  {
   "cell_type": "code",
   "execution_count": 27,
   "metadata": {},
   "outputs": [
    {
     "data": {
      "text/plain": [
       "0.002"
      ]
     },
     "execution_count": 27,
     "metadata": {},
     "output_type": "execute_result"
    }
   ],
   "source": [
    "round(df_waterflow_processed.litros_por_cabeca.min(), 3)"
   ]
  },
  {
   "cell_type": "markdown",
   "metadata": {},
   "source": [
    "##### Valor máximo"
   ]
  },
  {
   "cell_type": "code",
   "execution_count": 28,
   "metadata": {},
   "outputs": [
    {
     "data": {
      "text/plain": [
       "22.702"
      ]
     },
     "execution_count": 28,
     "metadata": {},
     "output_type": "execute_result"
    }
   ],
   "source": [
    "round(df_waterflow_processed.litros_por_cabeca.max(), 3)"
   ]
  },
  {
   "cell_type": "markdown",
   "metadata": {},
   "source": [
    "#### dia do lote"
   ]
  },
  {
   "cell_type": "markdown",
   "metadata": {},
   "source": [
    "##### Quantidade de elementos em cada lote"
   ]
  },
  {
   "cell_type": "code",
   "execution_count": 29,
   "metadata": {},
   "outputs": [
    {
     "data": {
      "text/html": [
       "<div>\n",
       "<style scoped>\n",
       "    .dataframe tbody tr th:only-of-type {\n",
       "        vertical-align: middle;\n",
       "    }\n",
       "\n",
       "    .dataframe tbody tr th {\n",
       "        vertical-align: top;\n",
       "    }\n",
       "\n",
       "    .dataframe thead th {\n",
       "        text-align: right;\n",
       "    }\n",
       "</style>\n",
       "<table border=\"1\" class=\"dataframe\">\n",
       "  <thead>\n",
       "    <tr style=\"text-align: right;\">\n",
       "      <th></th>\n",
       "      <th>estacao_ano</th>\n",
       "      <th>idade_animal</th>\n",
       "      <th>litros_por_cabeca</th>\n",
       "      <th>id_lote</th>\n",
       "      <th>id_produto</th>\n",
       "    </tr>\n",
       "    <tr>\n",
       "      <th>dia_lote</th>\n",
       "      <th></th>\n",
       "      <th></th>\n",
       "      <th></th>\n",
       "      <th></th>\n",
       "      <th></th>\n",
       "    </tr>\n",
       "  </thead>\n",
       "  <tbody>\n",
       "    <tr>\n",
       "      <th>3</th>\n",
       "      <td>115</td>\n",
       "      <td>115</td>\n",
       "      <td>115</td>\n",
       "      <td>115</td>\n",
       "      <td>115</td>\n",
       "    </tr>\n",
       "    <tr>\n",
       "      <th>4</th>\n",
       "      <td>127</td>\n",
       "      <td>127</td>\n",
       "      <td>127</td>\n",
       "      <td>127</td>\n",
       "      <td>127</td>\n",
       "    </tr>\n",
       "    <tr>\n",
       "      <th>5</th>\n",
       "      <td>144</td>\n",
       "      <td>144</td>\n",
       "      <td>144</td>\n",
       "      <td>144</td>\n",
       "      <td>144</td>\n",
       "    </tr>\n",
       "    <tr>\n",
       "      <th>6</th>\n",
       "      <td>152</td>\n",
       "      <td>152</td>\n",
       "      <td>152</td>\n",
       "      <td>152</td>\n",
       "      <td>152</td>\n",
       "    </tr>\n",
       "    <tr>\n",
       "      <th>7</th>\n",
       "      <td>156</td>\n",
       "      <td>156</td>\n",
       "      <td>156</td>\n",
       "      <td>156</td>\n",
       "      <td>156</td>\n",
       "    </tr>\n",
       "    <tr>\n",
       "      <th>8</th>\n",
       "      <td>161</td>\n",
       "      <td>161</td>\n",
       "      <td>161</td>\n",
       "      <td>161</td>\n",
       "      <td>161</td>\n",
       "    </tr>\n",
       "    <tr>\n",
       "      <th>9</th>\n",
       "      <td>162</td>\n",
       "      <td>162</td>\n",
       "      <td>162</td>\n",
       "      <td>162</td>\n",
       "      <td>162</td>\n",
       "    </tr>\n",
       "    <tr>\n",
       "      <th>10</th>\n",
       "      <td>165</td>\n",
       "      <td>165</td>\n",
       "      <td>165</td>\n",
       "      <td>165</td>\n",
       "      <td>165</td>\n",
       "    </tr>\n",
       "    <tr>\n",
       "      <th>11</th>\n",
       "      <td>149</td>\n",
       "      <td>149</td>\n",
       "      <td>149</td>\n",
       "      <td>149</td>\n",
       "      <td>149</td>\n",
       "    </tr>\n",
       "    <tr>\n",
       "      <th>12</th>\n",
       "      <td>149</td>\n",
       "      <td>149</td>\n",
       "      <td>149</td>\n",
       "      <td>149</td>\n",
       "      <td>149</td>\n",
       "    </tr>\n",
       "    <tr>\n",
       "      <th>13</th>\n",
       "      <td>155</td>\n",
       "      <td>155</td>\n",
       "      <td>155</td>\n",
       "      <td>155</td>\n",
       "      <td>155</td>\n",
       "    </tr>\n",
       "    <tr>\n",
       "      <th>14</th>\n",
       "      <td>158</td>\n",
       "      <td>158</td>\n",
       "      <td>158</td>\n",
       "      <td>158</td>\n",
       "      <td>158</td>\n",
       "    </tr>\n",
       "    <tr>\n",
       "      <th>15</th>\n",
       "      <td>153</td>\n",
       "      <td>153</td>\n",
       "      <td>153</td>\n",
       "      <td>153</td>\n",
       "      <td>153</td>\n",
       "    </tr>\n",
       "    <tr>\n",
       "      <th>16</th>\n",
       "      <td>148</td>\n",
       "      <td>148</td>\n",
       "      <td>148</td>\n",
       "      <td>148</td>\n",
       "      <td>148</td>\n",
       "    </tr>\n",
       "    <tr>\n",
       "      <th>17</th>\n",
       "      <td>149</td>\n",
       "      <td>149</td>\n",
       "      <td>149</td>\n",
       "      <td>149</td>\n",
       "      <td>149</td>\n",
       "    </tr>\n",
       "    <tr>\n",
       "      <th>18</th>\n",
       "      <td>154</td>\n",
       "      <td>154</td>\n",
       "      <td>154</td>\n",
       "      <td>154</td>\n",
       "      <td>154</td>\n",
       "    </tr>\n",
       "    <tr>\n",
       "      <th>19</th>\n",
       "      <td>158</td>\n",
       "      <td>158</td>\n",
       "      <td>158</td>\n",
       "      <td>158</td>\n",
       "      <td>158</td>\n",
       "    </tr>\n",
       "    <tr>\n",
       "      <th>20</th>\n",
       "      <td>156</td>\n",
       "      <td>156</td>\n",
       "      <td>156</td>\n",
       "      <td>156</td>\n",
       "      <td>156</td>\n",
       "    </tr>\n",
       "    <tr>\n",
       "      <th>21</th>\n",
       "      <td>151</td>\n",
       "      <td>151</td>\n",
       "      <td>151</td>\n",
       "      <td>151</td>\n",
       "      <td>151</td>\n",
       "    </tr>\n",
       "    <tr>\n",
       "      <th>22</th>\n",
       "      <td>160</td>\n",
       "      <td>160</td>\n",
       "      <td>160</td>\n",
       "      <td>160</td>\n",
       "      <td>160</td>\n",
       "    </tr>\n",
       "    <tr>\n",
       "      <th>23</th>\n",
       "      <td>151</td>\n",
       "      <td>151</td>\n",
       "      <td>151</td>\n",
       "      <td>151</td>\n",
       "      <td>151</td>\n",
       "    </tr>\n",
       "    <tr>\n",
       "      <th>24</th>\n",
       "      <td>149</td>\n",
       "      <td>149</td>\n",
       "      <td>149</td>\n",
       "      <td>149</td>\n",
       "      <td>149</td>\n",
       "    </tr>\n",
       "    <tr>\n",
       "      <th>25</th>\n",
       "      <td>148</td>\n",
       "      <td>148</td>\n",
       "      <td>148</td>\n",
       "      <td>148</td>\n",
       "      <td>148</td>\n",
       "    </tr>\n",
       "    <tr>\n",
       "      <th>26</th>\n",
       "      <td>154</td>\n",
       "      <td>154</td>\n",
       "      <td>154</td>\n",
       "      <td>154</td>\n",
       "      <td>154</td>\n",
       "    </tr>\n",
       "    <tr>\n",
       "      <th>27</th>\n",
       "      <td>133</td>\n",
       "      <td>133</td>\n",
       "      <td>133</td>\n",
       "      <td>133</td>\n",
       "      <td>133</td>\n",
       "    </tr>\n",
       "    <tr>\n",
       "      <th>28</th>\n",
       "      <td>135</td>\n",
       "      <td>135</td>\n",
       "      <td>135</td>\n",
       "      <td>135</td>\n",
       "      <td>135</td>\n",
       "    </tr>\n",
       "    <tr>\n",
       "      <th>29</th>\n",
       "      <td>136</td>\n",
       "      <td>136</td>\n",
       "      <td>136</td>\n",
       "      <td>136</td>\n",
       "      <td>136</td>\n",
       "    </tr>\n",
       "    <tr>\n",
       "      <th>30</th>\n",
       "      <td>137</td>\n",
       "      <td>137</td>\n",
       "      <td>137</td>\n",
       "      <td>137</td>\n",
       "      <td>137</td>\n",
       "    </tr>\n",
       "    <tr>\n",
       "      <th>31</th>\n",
       "      <td>140</td>\n",
       "      <td>140</td>\n",
       "      <td>140</td>\n",
       "      <td>140</td>\n",
       "      <td>140</td>\n",
       "    </tr>\n",
       "    <tr>\n",
       "      <th>32</th>\n",
       "      <td>138</td>\n",
       "      <td>138</td>\n",
       "      <td>138</td>\n",
       "      <td>138</td>\n",
       "      <td>138</td>\n",
       "    </tr>\n",
       "    <tr>\n",
       "      <th>33</th>\n",
       "      <td>142</td>\n",
       "      <td>142</td>\n",
       "      <td>142</td>\n",
       "      <td>142</td>\n",
       "      <td>142</td>\n",
       "    </tr>\n",
       "    <tr>\n",
       "      <th>34</th>\n",
       "      <td>143</td>\n",
       "      <td>143</td>\n",
       "      <td>143</td>\n",
       "      <td>143</td>\n",
       "      <td>143</td>\n",
       "    </tr>\n",
       "    <tr>\n",
       "      <th>35</th>\n",
       "      <td>140</td>\n",
       "      <td>140</td>\n",
       "      <td>140</td>\n",
       "      <td>140</td>\n",
       "      <td>140</td>\n",
       "    </tr>\n",
       "    <tr>\n",
       "      <th>36</th>\n",
       "      <td>140</td>\n",
       "      <td>140</td>\n",
       "      <td>140</td>\n",
       "      <td>140</td>\n",
       "      <td>140</td>\n",
       "    </tr>\n",
       "    <tr>\n",
       "      <th>37</th>\n",
       "      <td>154</td>\n",
       "      <td>154</td>\n",
       "      <td>154</td>\n",
       "      <td>154</td>\n",
       "      <td>154</td>\n",
       "    </tr>\n",
       "    <tr>\n",
       "      <th>38</th>\n",
       "      <td>150</td>\n",
       "      <td>150</td>\n",
       "      <td>150</td>\n",
       "      <td>150</td>\n",
       "      <td>150</td>\n",
       "    </tr>\n",
       "    <tr>\n",
       "      <th>39</th>\n",
       "      <td>158</td>\n",
       "      <td>158</td>\n",
       "      <td>158</td>\n",
       "      <td>158</td>\n",
       "      <td>158</td>\n",
       "    </tr>\n",
       "    <tr>\n",
       "      <th>40</th>\n",
       "      <td>155</td>\n",
       "      <td>155</td>\n",
       "      <td>155</td>\n",
       "      <td>155</td>\n",
       "      <td>155</td>\n",
       "    </tr>\n",
       "    <tr>\n",
       "      <th>41</th>\n",
       "      <td>159</td>\n",
       "      <td>159</td>\n",
       "      <td>159</td>\n",
       "      <td>159</td>\n",
       "      <td>159</td>\n",
       "    </tr>\n",
       "    <tr>\n",
       "      <th>42</th>\n",
       "      <td>145</td>\n",
       "      <td>145</td>\n",
       "      <td>145</td>\n",
       "      <td>145</td>\n",
       "      <td>145</td>\n",
       "    </tr>\n",
       "    <tr>\n",
       "      <th>43</th>\n",
       "      <td>145</td>\n",
       "      <td>145</td>\n",
       "      <td>145</td>\n",
       "      <td>145</td>\n",
       "      <td>145</td>\n",
       "    </tr>\n",
       "  </tbody>\n",
       "</table>\n",
       "</div>"
      ],
      "text/plain": [
       "          estacao_ano  idade_animal  litros_por_cabeca  id_lote  id_produto\n",
       "dia_lote                                                                   \n",
       "3                 115           115                115      115         115\n",
       "4                 127           127                127      127         127\n",
       "5                 144           144                144      144         144\n",
       "6                 152           152                152      152         152\n",
       "7                 156           156                156      156         156\n",
       "8                 161           161                161      161         161\n",
       "9                 162           162                162      162         162\n",
       "10                165           165                165      165         165\n",
       "11                149           149                149      149         149\n",
       "12                149           149                149      149         149\n",
       "13                155           155                155      155         155\n",
       "14                158           158                158      158         158\n",
       "15                153           153                153      153         153\n",
       "16                148           148                148      148         148\n",
       "17                149           149                149      149         149\n",
       "18                154           154                154      154         154\n",
       "19                158           158                158      158         158\n",
       "20                156           156                156      156         156\n",
       "21                151           151                151      151         151\n",
       "22                160           160                160      160         160\n",
       "23                151           151                151      151         151\n",
       "24                149           149                149      149         149\n",
       "25                148           148                148      148         148\n",
       "26                154           154                154      154         154\n",
       "27                133           133                133      133         133\n",
       "28                135           135                135      135         135\n",
       "29                136           136                136      136         136\n",
       "30                137           137                137      137         137\n",
       "31                140           140                140      140         140\n",
       "32                138           138                138      138         138\n",
       "33                142           142                142      142         142\n",
       "34                143           143                143      143         143\n",
       "35                140           140                140      140         140\n",
       "36                140           140                140      140         140\n",
       "37                154           154                154      154         154\n",
       "38                150           150                150      150         150\n",
       "39                158           158                158      158         158\n",
       "40                155           155                155      155         155\n",
       "41                159           159                159      159         159\n",
       "42                145           145                145      145         145\n",
       "43                145           145                145      145         145"
      ]
     },
     "execution_count": 29,
     "metadata": {},
     "output_type": "execute_result"
    }
   ],
   "source": [
    "df_waterflow_processed.groupby(\"dia_lote\").agg(\"count\")"
   ]
  },
  {
   "cell_type": "markdown",
   "metadata": {},
   "source": [
    "#### Estação do ano"
   ]
  },
  {
   "cell_type": "markdown",
   "metadata": {},
   "source": [
    "##### Quantidade de elementos em cada estacao_ano"
   ]
  },
  {
   "cell_type": "code",
   "execution_count": 30,
   "metadata": {},
   "outputs": [
    {
     "data": {
      "text/html": [
       "<div>\n",
       "<style scoped>\n",
       "    .dataframe tbody tr th:only-of-type {\n",
       "        vertical-align: middle;\n",
       "    }\n",
       "\n",
       "    .dataframe tbody tr th {\n",
       "        vertical-align: top;\n",
       "    }\n",
       "\n",
       "    .dataframe thead th {\n",
       "        text-align: right;\n",
       "    }\n",
       "</style>\n",
       "<table border=\"1\" class=\"dataframe\">\n",
       "  <thead>\n",
       "    <tr style=\"text-align: right;\">\n",
       "      <th></th>\n",
       "      <th>dia_lote</th>\n",
       "      <th>idade_animal</th>\n",
       "      <th>litros_por_cabeca</th>\n",
       "      <th>id_lote</th>\n",
       "      <th>id_produto</th>\n",
       "    </tr>\n",
       "    <tr>\n",
       "      <th>estacao_ano</th>\n",
       "      <th></th>\n",
       "      <th></th>\n",
       "      <th></th>\n",
       "      <th></th>\n",
       "      <th></th>\n",
       "    </tr>\n",
       "  </thead>\n",
       "  <tbody>\n",
       "    <tr>\n",
       "      <th>inv</th>\n",
       "      <td>1550</td>\n",
       "      <td>1550</td>\n",
       "      <td>1550</td>\n",
       "      <td>1550</td>\n",
       "      <td>1550</td>\n",
       "    </tr>\n",
       "    <tr>\n",
       "      <th>out</th>\n",
       "      <td>1282</td>\n",
       "      <td>1282</td>\n",
       "      <td>1282</td>\n",
       "      <td>1282</td>\n",
       "      <td>1282</td>\n",
       "    </tr>\n",
       "    <tr>\n",
       "      <th>pri</th>\n",
       "      <td>1745</td>\n",
       "      <td>1745</td>\n",
       "      <td>1745</td>\n",
       "      <td>1745</td>\n",
       "      <td>1745</td>\n",
       "    </tr>\n",
       "    <tr>\n",
       "      <th>ver</th>\n",
       "      <td>1497</td>\n",
       "      <td>1497</td>\n",
       "      <td>1497</td>\n",
       "      <td>1497</td>\n",
       "      <td>1497</td>\n",
       "    </tr>\n",
       "  </tbody>\n",
       "</table>\n",
       "</div>"
      ],
      "text/plain": [
       "             dia_lote  idade_animal  litros_por_cabeca  id_lote  id_produto\n",
       "estacao_ano                                                                \n",
       "inv              1550          1550               1550     1550        1550\n",
       "out              1282          1282               1282     1282        1282\n",
       "pri              1745          1745               1745     1745        1745\n",
       "ver              1497          1497               1497     1497        1497"
      ]
     },
     "execution_count": 30,
     "metadata": {},
     "output_type": "execute_result"
    }
   ],
   "source": [
    "df_waterflow_processed.groupby(\"estacao_ano\", sort = True).agg(\"count\")"
   ]
  },
  {
   "cell_type": "markdown",
   "metadata": {},
   "source": [
    "#### ID do lote"
   ]
  },
  {
   "cell_type": "markdown",
   "metadata": {},
   "source": [
    "##### Quantidade de elementos em cada id_lote"
   ]
  },
  {
   "cell_type": "code",
   "execution_count": 31,
   "metadata": {},
   "outputs": [
    {
     "data": {
      "text/html": [
       "<div>\n",
       "<style scoped>\n",
       "    .dataframe tbody tr th:only-of-type {\n",
       "        vertical-align: middle;\n",
       "    }\n",
       "\n",
       "    .dataframe tbody tr th {\n",
       "        vertical-align: top;\n",
       "    }\n",
       "\n",
       "    .dataframe thead th {\n",
       "        text-align: right;\n",
       "    }\n",
       "</style>\n",
       "<table border=\"1\" class=\"dataframe\">\n",
       "  <thead>\n",
       "    <tr style=\"text-align: right;\">\n",
       "      <th></th>\n",
       "      <th>dia_lote</th>\n",
       "      <th>estacao_ano</th>\n",
       "      <th>idade_animal</th>\n",
       "      <th>litros_por_cabeca</th>\n",
       "      <th>id_produto</th>\n",
       "    </tr>\n",
       "    <tr>\n",
       "      <th>id_lote</th>\n",
       "      <th></th>\n",
       "      <th></th>\n",
       "      <th></th>\n",
       "      <th></th>\n",
       "      <th></th>\n",
       "    </tr>\n",
       "  </thead>\n",
       "  <tbody>\n",
       "    <tr>\n",
       "      <th>339039</th>\n",
       "      <td>40</td>\n",
       "      <td>40</td>\n",
       "      <td>40</td>\n",
       "      <td>40</td>\n",
       "      <td>40</td>\n",
       "    </tr>\n",
       "    <tr>\n",
       "      <th>339040</th>\n",
       "      <td>39</td>\n",
       "      <td>39</td>\n",
       "      <td>39</td>\n",
       "      <td>39</td>\n",
       "      <td>39</td>\n",
       "    </tr>\n",
       "    <tr>\n",
       "      <th>339041</th>\n",
       "      <td>38</td>\n",
       "      <td>38</td>\n",
       "      <td>38</td>\n",
       "      <td>38</td>\n",
       "      <td>38</td>\n",
       "    </tr>\n",
       "    <tr>\n",
       "      <th>339083</th>\n",
       "      <td>28</td>\n",
       "      <td>28</td>\n",
       "      <td>28</td>\n",
       "      <td>28</td>\n",
       "      <td>28</td>\n",
       "    </tr>\n",
       "    <tr>\n",
       "      <th>339084</th>\n",
       "      <td>40</td>\n",
       "      <td>40</td>\n",
       "      <td>40</td>\n",
       "      <td>40</td>\n",
       "      <td>40</td>\n",
       "    </tr>\n",
       "    <tr>\n",
       "      <th>...</th>\n",
       "      <td>...</td>\n",
       "      <td>...</td>\n",
       "      <td>...</td>\n",
       "      <td>...</td>\n",
       "      <td>...</td>\n",
       "    </tr>\n",
       "    <tr>\n",
       "      <th>869971</th>\n",
       "      <td>39</td>\n",
       "      <td>39</td>\n",
       "      <td>39</td>\n",
       "      <td>39</td>\n",
       "      <td>39</td>\n",
       "    </tr>\n",
       "    <tr>\n",
       "      <th>880714</th>\n",
       "      <td>41</td>\n",
       "      <td>41</td>\n",
       "      <td>41</td>\n",
       "      <td>41</td>\n",
       "      <td>41</td>\n",
       "    </tr>\n",
       "    <tr>\n",
       "      <th>902085</th>\n",
       "      <td>40</td>\n",
       "      <td>40</td>\n",
       "      <td>40</td>\n",
       "      <td>40</td>\n",
       "      <td>40</td>\n",
       "    </tr>\n",
       "    <tr>\n",
       "      <th>912928</th>\n",
       "      <td>13</td>\n",
       "      <td>13</td>\n",
       "      <td>13</td>\n",
       "      <td>13</td>\n",
       "      <td>13</td>\n",
       "    </tr>\n",
       "    <tr>\n",
       "      <th>916201</th>\n",
       "      <td>30</td>\n",
       "      <td>30</td>\n",
       "      <td>30</td>\n",
       "      <td>30</td>\n",
       "      <td>30</td>\n",
       "    </tr>\n",
       "  </tbody>\n",
       "</table>\n",
       "<p>188 rows × 5 columns</p>\n",
       "</div>"
      ],
      "text/plain": [
       "         dia_lote  estacao_ano  idade_animal  litros_por_cabeca  id_produto\n",
       "id_lote                                                                    \n",
       "339039         40           40            40                 40          40\n",
       "339040         39           39            39                 39          39\n",
       "339041         38           38            38                 38          38\n",
       "339083         28           28            28                 28          28\n",
       "339084         40           40            40                 40          40\n",
       "...           ...          ...           ...                ...         ...\n",
       "869971         39           39            39                 39          39\n",
       "880714         41           41            41                 41          41\n",
       "902085         40           40            40                 40          40\n",
       "912928         13           13            13                 13          13\n",
       "916201         30           30            30                 30          30\n",
       "\n",
       "[188 rows x 5 columns]"
      ]
     },
     "execution_count": 31,
     "metadata": {},
     "output_type": "execute_result"
    }
   ],
   "source": [
    "df_waterflow_processed.groupby(\"id_lote\", sort = True).agg(\"count\")"
   ]
  },
  {
   "cell_type": "markdown",
   "metadata": {},
   "source": [
    "#### ID do produto"
   ]
  },
  {
   "cell_type": "markdown",
   "metadata": {},
   "source": [
    "##### Quantidade de elementos em cada id_produto"
   ]
  },
  {
   "cell_type": "code",
   "execution_count": 32,
   "metadata": {},
   "outputs": [
    {
     "data": {
      "text/html": [
       "<div>\n",
       "<style scoped>\n",
       "    .dataframe tbody tr th:only-of-type {\n",
       "        vertical-align: middle;\n",
       "    }\n",
       "\n",
       "    .dataframe tbody tr th {\n",
       "        vertical-align: top;\n",
       "    }\n",
       "\n",
       "    .dataframe thead th {\n",
       "        text-align: right;\n",
       "    }\n",
       "</style>\n",
       "<table border=\"1\" class=\"dataframe\">\n",
       "  <thead>\n",
       "    <tr style=\"text-align: right;\">\n",
       "      <th></th>\n",
       "      <th>dia_lote</th>\n",
       "      <th>estacao_ano</th>\n",
       "      <th>idade_animal</th>\n",
       "      <th>litros_por_cabeca</th>\n",
       "      <th>id_lote</th>\n",
       "    </tr>\n",
       "    <tr>\n",
       "      <th>id_produto</th>\n",
       "      <th></th>\n",
       "      <th></th>\n",
       "      <th></th>\n",
       "      <th></th>\n",
       "      <th></th>\n",
       "    </tr>\n",
       "  </thead>\n",
       "  <tbody>\n",
       "    <tr>\n",
       "      <th>n_0</th>\n",
       "      <td>247</td>\n",
       "      <td>247</td>\n",
       "      <td>247</td>\n",
       "      <td>247</td>\n",
       "      <td>247</td>\n",
       "    </tr>\n",
       "    <tr>\n",
       "      <th>n_1</th>\n",
       "      <td>665</td>\n",
       "      <td>665</td>\n",
       "      <td>665</td>\n",
       "      <td>665</td>\n",
       "      <td>665</td>\n",
       "    </tr>\n",
       "    <tr>\n",
       "      <th>n_10</th>\n",
       "      <td>199</td>\n",
       "      <td>199</td>\n",
       "      <td>199</td>\n",
       "      <td>199</td>\n",
       "      <td>199</td>\n",
       "    </tr>\n",
       "    <tr>\n",
       "      <th>n_11</th>\n",
       "      <td>46</td>\n",
       "      <td>46</td>\n",
       "      <td>46</td>\n",
       "      <td>46</td>\n",
       "      <td>46</td>\n",
       "    </tr>\n",
       "    <tr>\n",
       "      <th>n_13</th>\n",
       "      <td>377</td>\n",
       "      <td>377</td>\n",
       "      <td>377</td>\n",
       "      <td>377</td>\n",
       "      <td>377</td>\n",
       "    </tr>\n",
       "    <tr>\n",
       "      <th>n_18</th>\n",
       "      <td>113</td>\n",
       "      <td>113</td>\n",
       "      <td>113</td>\n",
       "      <td>113</td>\n",
       "      <td>113</td>\n",
       "    </tr>\n",
       "    <tr>\n",
       "      <th>n_2</th>\n",
       "      <td>829</td>\n",
       "      <td>829</td>\n",
       "      <td>829</td>\n",
       "      <td>829</td>\n",
       "      <td>829</td>\n",
       "    </tr>\n",
       "    <tr>\n",
       "      <th>n_3</th>\n",
       "      <td>887</td>\n",
       "      <td>887</td>\n",
       "      <td>887</td>\n",
       "      <td>887</td>\n",
       "      <td>887</td>\n",
       "    </tr>\n",
       "    <tr>\n",
       "      <th>n_4</th>\n",
       "      <td>602</td>\n",
       "      <td>602</td>\n",
       "      <td>602</td>\n",
       "      <td>602</td>\n",
       "      <td>602</td>\n",
       "    </tr>\n",
       "    <tr>\n",
       "      <th>n_5</th>\n",
       "      <td>587</td>\n",
       "      <td>587</td>\n",
       "      <td>587</td>\n",
       "      <td>587</td>\n",
       "      <td>587</td>\n",
       "    </tr>\n",
       "    <tr>\n",
       "      <th>n_6</th>\n",
       "      <td>718</td>\n",
       "      <td>718</td>\n",
       "      <td>718</td>\n",
       "      <td>718</td>\n",
       "      <td>718</td>\n",
       "    </tr>\n",
       "    <tr>\n",
       "      <th>n_7</th>\n",
       "      <td>300</td>\n",
       "      <td>300</td>\n",
       "      <td>300</td>\n",
       "      <td>300</td>\n",
       "      <td>300</td>\n",
       "    </tr>\n",
       "    <tr>\n",
       "      <th>n_8</th>\n",
       "      <td>326</td>\n",
       "      <td>326</td>\n",
       "      <td>326</td>\n",
       "      <td>326</td>\n",
       "      <td>326</td>\n",
       "    </tr>\n",
       "    <tr>\n",
       "      <th>n_9</th>\n",
       "      <td>178</td>\n",
       "      <td>178</td>\n",
       "      <td>178</td>\n",
       "      <td>178</td>\n",
       "      <td>178</td>\n",
       "    </tr>\n",
       "  </tbody>\n",
       "</table>\n",
       "</div>"
      ],
      "text/plain": [
       "            dia_lote  estacao_ano  idade_animal  litros_por_cabeca  id_lote\n",
       "id_produto                                                                 \n",
       "n_0              247          247           247                247      247\n",
       "n_1              665          665           665                665      665\n",
       "n_10             199          199           199                199      199\n",
       "n_11              46           46            46                 46       46\n",
       "n_13             377          377           377                377      377\n",
       "n_18             113          113           113                113      113\n",
       "n_2              829          829           829                829      829\n",
       "n_3              887          887           887                887      887\n",
       "n_4              602          602           602                602      602\n",
       "n_5              587          587           587                587      587\n",
       "n_6              718          718           718                718      718\n",
       "n_7              300          300           300                300      300\n",
       "n_8              326          326           326                326      326\n",
       "n_9              178          178           178                178      178"
      ]
     },
     "execution_count": 32,
     "metadata": {},
     "output_type": "execute_result"
    }
   ],
   "source": [
    "df_waterflow_processed.groupby(\"id_produto\", sort = True).agg(\"count\")"
   ]
  },
  {
   "cell_type": "markdown",
   "metadata": {},
   "source": [
    "### Verificando se ha valores NaN's"
   ]
  },
  {
   "cell_type": "code",
   "execution_count": 33,
   "metadata": {},
   "outputs": [
    {
     "name": "stdout",
     "output_type": "stream",
     "text": [
      "Coluna  dia_lote  :  0\n",
      "Coluna  estacao_ano  :  0\n",
      "Coluna  idade_animal  :  0\n",
      "Coluna  litros_por_cabeca  :  0\n",
      "Coluna  id_lote  :  0\n",
      "Coluna  id_produto  :  0\n"
     ]
    }
   ],
   "source": [
    "for coluna in df_waterflow_processed.columns:\n",
    "    print(\"Coluna \", coluna, \" : \", pd.isna(df_waterflow_processed[coluna]).sum())"
   ]
  },
  {
   "cell_type": "markdown",
   "metadata": {},
   "source": [
    "### Verificando se ha valores nulos"
   ]
  },
  {
   "cell_type": "code",
   "execution_count": 34,
   "metadata": {},
   "outputs": [
    {
     "name": "stdout",
     "output_type": "stream",
     "text": [
      "Coluna  dia_lote  :  0\n",
      "Coluna  estacao_ano  :  0\n",
      "Coluna  idade_animal  :  0\n",
      "Coluna  litros_por_cabeca  :  0\n",
      "Coluna  id_lote  :  0\n",
      "Coluna  id_produto  :  0\n"
     ]
    }
   ],
   "source": [
    "for coluna in df_waterflow_processed.columns:\n",
    "    print(\"Coluna \", coluna, \" : \", pd.isnull(df_waterflow_processed[coluna]).sum())"
   ]
  },
  {
   "cell_type": "markdown",
   "metadata": {},
   "source": [
    "### Representacao grafica"
   ]
  },
  {
   "cell_type": "markdown",
   "metadata": {},
   "source": [
    "#### Histograma"
   ]
  },
  {
   "cell_type": "code",
   "execution_count": 49,
   "metadata": {},
   "outputs": [],
   "source": [
    "def histograma(x:pd.Series, titulo:str = \"Histograma\", xlabel:str = None, ylabel:str = None, numerical:bool = True) -> None:\n",
    "    figura = plt.figure(figsize = (12, 8))\n",
    "    plt.hist(x = x)\n",
    "    plt.title(titulo)\n",
    "    \n",
    "    if numerical == True:\n",
    "        plt.xlim(x.min(), x.max())\n",
    "    \n",
    "    if xlabel != None:\n",
    "        plt.xlabel(xlabel = xlabel)\n",
    "    \n",
    "    if ylabel != None:\n",
    "        plt.ylabel(ylabel = ylabel)\n",
    "    \n",
    "    plt.show()"
   ]
  },
  {
   "cell_type": "markdown",
   "metadata": {},
   "source": [
    "#### Scatterplot"
   ]
  },
  {
   "cell_type": "code",
   "execution_count": 55,
   "metadata": {},
   "outputs": [],
   "source": [
    "def dispersao(x:pd.Series, y:pd.Series, titulo:str = \"Gráfico de dispersão\", xlabel:str = None, ylabel:str = None, numerical:bool = True) -> None:\n",
    "    figura = plt.figure(figsize = (12, 8))\n",
    "    plt.scatter(x = x, y = y)\n",
    "    plt.title(titulo)\n",
    "    \n",
    "    if numerical == True:\n",
    "        plt.xlim(x.min(), x.max())\n",
    "    \n",
    "    if xlabel != None:\n",
    "        plt.xlabel(xlabel = xlabel)\n",
    "    \n",
    "    if ylabel != None:\n",
    "        plt.ylabel(ylabel = ylabel)\n",
    "    \n",
    "    plt.show()"
   ]
  },
  {
   "cell_type": "markdown",
   "metadata": {},
   "source": [
    "#### Boxplot"
   ]
  },
  {
   "cell_type": "code",
   "execution_count": 65,
   "metadata": {},
   "outputs": [],
   "source": [
    "def boxplot(x:pd.Series, titulo:str = \"Gráfico de boxplot\", xlabel:str = None, ylabel:str = None) -> None:\n",
    "    figura = plt.figure(figsize = (12, 8))\n",
    "    sns.boxplot(x = x)\n",
    "    plt.title(titulo)\n",
    "    \n",
    "    if xlabel != None:\n",
    "        plt.xlabel(xlabel = xlabel)\n",
    "    \n",
    "    if ylabel != None:\n",
    "        plt.ylabel(ylabel = ylabel)\n",
    "    \n",
    "    plt.show()"
   ]
  },
  {
   "cell_type": "markdown",
   "metadata": {},
   "source": [
    "#### Distribuicao normal"
   ]
  },
  {
   "cell_type": "code",
   "execution_count": 73,
   "metadata": {},
   "outputs": [],
   "source": [
    "def distribuicao_normal(x:pd.Series, titulo:str = \"Gráfico de distribuição normal\", xlabel:str = None, ylabel:str = None) -> None:\n",
    "    figura = plt.figure(figsize = (12, 8))\n",
    "    sns.distplot(x = x)\n",
    "    plt.title(titulo)\n",
    "    plt.xlim(x.min(), x.max())\n",
    "    \n",
    "    if xlabel != None:\n",
    "        plt.xlabel(xlabel = xlabel)\n",
    "    \n",
    "    if ylabel != None:\n",
    "        plt.ylabel(ylabel = ylabel)\n",
    "    \n",
    "    plt.show()"
   ]
  },
  {
   "cell_type": "code",
   "execution_count": 51,
   "metadata": {},
   "outputs": [
    {
     "data": {
      "image/png": "[encoded data removed]",
      "text/plain": [
       "<Figure size 1200x800 with 1 Axes>"
      ]
     },
     "metadata": {},
     "output_type": "display_data"
    }
   ],
   "source": [
    "histograma(x = df_waterflow_processed[\"litros_por_cabeca\"])"
   ]
  },
  {
   "cell_type": "code",
   "execution_count": 67,
   "metadata": {},
   "outputs": [
    {
     "data": {
      "image/png": "[encoded data removed]",
      "text/plain": [
       "<Figure size 1200x800 with 1 Axes>"
      ]
     },
     "metadata": {},
     "output_type": "display_data"
    }
   ],
   "source": [
    "boxplot(x = df_waterflow_processed[\"litros_por_cabeca\"])"
   ]
  },
  {
   "cell_type": "code",
   "execution_count": 74,
   "metadata": {},
   "outputs": [
    {
     "name": "stderr",
     "output_type": "stream",
     "text": [
      "/tmp/ipykernel_12676/2553199722.py:3: UserWarning: \n",
      "\n",
      "`distplot` is a deprecated function and will be removed in seaborn v0.14.0.\n",
      "\n",
      "Please adapt your code to use either `displot` (a figure-level function with\n",
      "similar flexibility) or `histplot` (an axes-level function for histograms).\n",
      "\n",
      "For a guide to updating your code to use the new functions, please see\n",
      "https://gist.github.com/mwaskom/de44147ed2974457ad6372750bbe5751\n",
      "\n",
      "  sns.distplot(x = x)\n"
     ]
    },
    {
     "data": {
      "image/png": "[encoded data removed]",
      "text/plain": [
       "<Figure size 1200x800 with 1 Axes>"
      ]
     },
     "metadata": {},
     "output_type": "display_data"
    }
   ],
   "source": [
    "distribuicao_normal(x = df_waterflow_processed[\"litros_por_cabeca\"])"
   ]
  },
  {
   "cell_type": "code",
   "execution_count": 43,
   "metadata": {},
   "outputs": [
    {
     "data": {
      "image/png": "[encoded data removed]",
      "text/plain": [
       "<Figure size 1200x800 with 1 Axes>"
      ]
     },
     "metadata": {},
     "output_type": "display_data"
    }
   ],
   "source": [
    "histograma(x = df_waterflow_processed[\"idade_animal\"])"
   ]
  },
  {
   "cell_type": "code",
   "execution_count": 66,
   "metadata": {},
   "outputs": [
    {
     "data": {
      "image/png": "[encoded data removed]",
      "text/plain": [
       "<Figure size 1200x800 with 1 Axes>"
      ]
     },
     "metadata": {},
     "output_type": "display_data"
    }
   ],
   "source": [
    "boxplot(x = df_waterflow_processed[\"idade_animal\"])"
   ]
  },
  {
   "cell_type": "code",
   "execution_count": 75,
   "metadata": {},
   "outputs": [
    {
     "name": "stderr",
     "output_type": "stream",
     "text": [
      "/tmp/ipykernel_12676/2553199722.py:3: UserWarning: \n",
      "\n",
      "`distplot` is a deprecated function and will be removed in seaborn v0.14.0.\n",
      "\n",
      "Please adapt your code to use either `displot` (a figure-level function with\n",
      "similar flexibility) or `histplot` (an axes-level function for histograms).\n",
      "\n",
      "For a guide to updating your code to use the new functions, please see\n",
      "https://gist.github.com/mwaskom/de44147ed2974457ad6372750bbe5751\n",
      "\n",
      "  sns.distplot(x = x)\n"
     ]
    },
    {
     "data": {
      "image/png": "[encoded data removed]",
      "text/plain": [
       "<Figure size 1200x800 with 1 Axes>"
      ]
     },
     "metadata": {},
     "output_type": "display_data"
    }
   ],
   "source": [
    "distribuicao_normal(x = df_waterflow_processed[\"idade_animal\"])"
   ]
  },
  {
   "cell_type": "code",
   "execution_count": 58,
   "metadata": {},
   "outputs": [
    {
     "data": {
      "image/png": "[encoded data removed]",
      "text/plain": [
       "<Figure size 1200x800 with 1 Axes>"
      ]
     },
     "metadata": {},
     "output_type": "display_data"
    }
   ],
   "source": [
    "dispersao(\n",
    "    y = df_waterflow_processed[\"litros_por_cabeca\"],\n",
    "    x = df_waterflow_processed[\"idade_animal\"],\n",
    "    xlabel = \"Idade do animal\",\n",
    "    ylabel = \"Litros por animal\"\n",
    ")"
   ]
  },
  {
   "cell_type": "markdown",
   "metadata": {},
   "source": [
    "### Separando o dataset em classes, segundo a estação do ano"
   ]
  },
  {
   "cell_type": "code",
   "execution_count": 36,
   "metadata": {},
   "outputs": [],
   "source": [
    "# estacoes do dataframe: 'inv', 'out', 'pri', 'ver'\n",
    "classe_inverno = df_waterflow_processed.query(\"estacao_ano == 'inv'\")\n",
    "classe_primavera = df_waterflow_processed.query(\"estacao_ano == 'pri'\")\n",
    "classe_verao = df_waterflow_processed.query(\"estacao_ano == 'ver'\")\n",
    "classe_outono = df_waterflow_processed.query(\"estacao_ano == 'out'\")"
   ]
  },
  {
   "cell_type": "code",
   "execution_count": 37,
   "metadata": {},
   "outputs": [
    {
     "name": "stdout",
     "output_type": "stream",
     "text": [
      "Tamanho da classe inverno\t 1550\n",
      "Tamanho da classe primavera\t 1745\n",
      "Tamanho da classe verão\t\t 1497\n",
      "Tamanho da classe outono\t 1282\n"
     ]
    }
   ],
   "source": [
    "print(\"Tamanho da classe inverno\\t\", classe_inverno.shape[0])\n",
    "print(\"Tamanho da classe primavera\\t\", classe_primavera.shape[0])\n",
    "print(\"Tamanho da classe verão\\t\\t\", classe_verao.shape[0])\n",
    "print(\"Tamanho da classe outono\\t\", classe_outono.shape[0])"
   ]
  },
  {
   "cell_type": "markdown",
   "metadata": {},
   "source": [
    "### Gráficos"
   ]
  },
  {
   "cell_type": "markdown",
   "metadata": {},
   "source": [
    "## Parte 1"
   ]
  },
  {
   "cell_type": "code",
   "execution_count": null,
   "metadata": {},
   "outputs": [],
   "source": []
  },
  {
   "cell_type": "markdown",
   "metadata": {},
   "source": [
    "## Parte 2"
   ]
  },
  {
   "cell_type": "code",
   "execution_count": null,
   "metadata": {},
   "outputs": [],
   "source": []
  }
 ],
 "metadata": {
  "kernelspec": {
   "display_name": ".aquisicao-venv",
   "language": "python",
   "name": "python3"
  },
  "language_info": {
   "codemirror_mode": {
    "name": "ipython",
    "version": 3
   },
   "file_extension": ".py",
   "mimetype": "text/x-python",
   "name": "python",
   "nbconvert_exporter": "python",
   "pygments_lexer": "ipython3",
   "version": "3.10.6"
  }
 },
 "nbformat": 4,
 "nbformat_minor": 2
}
